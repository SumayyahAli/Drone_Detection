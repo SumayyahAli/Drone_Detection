{
  "nbformat": 4,
  "nbformat_minor": 0,
  "metadata": {
    "colab": {
      "provenance": [],
      "gpuType": "T4"
    },
    "kernelspec": {
      "name": "python3",
      "display_name": "Python 3"
    },
    "language_info": {
      "name": "python"
    },
    "accelerator": "GPU"
  },
  "cells": [
    {
      "cell_type": "markdown",
      "source": [
        "#**Drone Detection using YOLOv8**\n",
        "This project utilizes YOLOv8 for drone detection, training a model on a dataset from Kaggle and performing inference on test images.\n",
        "\n",
        "------\n",
        "\n",
        "- Uses YOLOv8 for real-time object detection\n",
        "\n",
        "- Trains on a custom drone dataset\n",
        "\n",
        "- Performs inference on  images\n",
        "\n",
        "- Exports model to ONNX for optimized deployment"
      ],
      "metadata": {
        "id": "V6OlFUN9c_W7"
      }
    },
    {
      "cell_type": "markdown",
      "source": [
        " ### Setup and Installation\n"
      ],
      "metadata": {
        "id": "Ts-n212qoV6_"
      }
    },
    {
      "cell_type": "markdown",
      "source": [
        "Install Ultralytics YOLO for training and inference:"
      ],
      "metadata": {
        "id": "lhOQMR0ZAlD5"
      }
    },
    {
      "cell_type": "code",
      "source": [
        "!pip install ultralytics\n"
      ],
      "metadata": {
        "colab": {
          "base_uri": "https://localhost:8080/"
        },
        "id": "iZa7bVqBdpTZ",
        "outputId": "60e7352f-0744-4b90-b1aa-fa3d83b802c5",
        "collapsed": true
      },
      "execution_count": 1,
      "outputs": [
        {
          "output_type": "stream",
          "name": "stdout",
          "text": [
            "Collecting ultralytics\n",
            "  Downloading ultralytics-8.3.75-py3-none-any.whl.metadata (35 kB)\n",
            "Requirement already satisfied: numpy<=2.1.1,>=1.23.0 in /usr/local/lib/python3.11/dist-packages (from ultralytics) (1.26.4)\n",
            "Requirement already satisfied: matplotlib>=3.3.0 in /usr/local/lib/python3.11/dist-packages (from ultralytics) (3.10.0)\n",
            "Requirement already satisfied: opencv-python>=4.6.0 in /usr/local/lib/python3.11/dist-packages (from ultralytics) (4.11.0.86)\n",
            "Requirement already satisfied: pillow>=7.1.2 in /usr/local/lib/python3.11/dist-packages (from ultralytics) (11.1.0)\n",
            "Requirement already satisfied: pyyaml>=5.3.1 in /usr/local/lib/python3.11/dist-packages (from ultralytics) (6.0.2)\n",
            "Requirement already satisfied: requests>=2.23.0 in /usr/local/lib/python3.11/dist-packages (from ultralytics) (2.32.3)\n",
            "Requirement already satisfied: scipy>=1.4.1 in /usr/local/lib/python3.11/dist-packages (from ultralytics) (1.13.1)\n",
            "Requirement already satisfied: torch>=1.8.0 in /usr/local/lib/python3.11/dist-packages (from ultralytics) (2.5.1+cu124)\n",
            "Requirement already satisfied: torchvision>=0.9.0 in /usr/local/lib/python3.11/dist-packages (from ultralytics) (0.20.1+cu124)\n",
            "Requirement already satisfied: tqdm>=4.64.0 in /usr/local/lib/python3.11/dist-packages (from ultralytics) (4.67.1)\n",
            "Requirement already satisfied: psutil in /usr/local/lib/python3.11/dist-packages (from ultralytics) (5.9.5)\n",
            "Requirement already satisfied: py-cpuinfo in /usr/local/lib/python3.11/dist-packages (from ultralytics) (9.0.0)\n",
            "Requirement already satisfied: pandas>=1.1.4 in /usr/local/lib/python3.11/dist-packages (from ultralytics) (2.2.2)\n",
            "Requirement already satisfied: seaborn>=0.11.0 in /usr/local/lib/python3.11/dist-packages (from ultralytics) (0.13.2)\n",
            "Collecting ultralytics-thop>=2.0.0 (from ultralytics)\n",
            "  Downloading ultralytics_thop-2.0.14-py3-none-any.whl.metadata (9.4 kB)\n",
            "Requirement already satisfied: contourpy>=1.0.1 in /usr/local/lib/python3.11/dist-packages (from matplotlib>=3.3.0->ultralytics) (1.3.1)\n",
            "Requirement already satisfied: cycler>=0.10 in /usr/local/lib/python3.11/dist-packages (from matplotlib>=3.3.0->ultralytics) (0.12.1)\n",
            "Requirement already satisfied: fonttools>=4.22.0 in /usr/local/lib/python3.11/dist-packages (from matplotlib>=3.3.0->ultralytics) (4.56.0)\n",
            "Requirement already satisfied: kiwisolver>=1.3.1 in /usr/local/lib/python3.11/dist-packages (from matplotlib>=3.3.0->ultralytics) (1.4.8)\n",
            "Requirement already satisfied: packaging>=20.0 in /usr/local/lib/python3.11/dist-packages (from matplotlib>=3.3.0->ultralytics) (24.2)\n",
            "Requirement already satisfied: pyparsing>=2.3.1 in /usr/local/lib/python3.11/dist-packages (from matplotlib>=3.3.0->ultralytics) (3.2.1)\n",
            "Requirement already satisfied: python-dateutil>=2.7 in /usr/local/lib/python3.11/dist-packages (from matplotlib>=3.3.0->ultralytics) (2.8.2)\n",
            "Requirement already satisfied: pytz>=2020.1 in /usr/local/lib/python3.11/dist-packages (from pandas>=1.1.4->ultralytics) (2025.1)\n",
            "Requirement already satisfied: tzdata>=2022.7 in /usr/local/lib/python3.11/dist-packages (from pandas>=1.1.4->ultralytics) (2025.1)\n",
            "Requirement already satisfied: charset-normalizer<4,>=2 in /usr/local/lib/python3.11/dist-packages (from requests>=2.23.0->ultralytics) (3.4.1)\n",
            "Requirement already satisfied: idna<4,>=2.5 in /usr/local/lib/python3.11/dist-packages (from requests>=2.23.0->ultralytics) (3.10)\n",
            "Requirement already satisfied: urllib3<3,>=1.21.1 in /usr/local/lib/python3.11/dist-packages (from requests>=2.23.0->ultralytics) (2.3.0)\n",
            "Requirement already satisfied: certifi>=2017.4.17 in /usr/local/lib/python3.11/dist-packages (from requests>=2.23.0->ultralytics) (2025.1.31)\n",
            "Requirement already satisfied: filelock in /usr/local/lib/python3.11/dist-packages (from torch>=1.8.0->ultralytics) (3.17.0)\n",
            "Requirement already satisfied: typing-extensions>=4.8.0 in /usr/local/lib/python3.11/dist-packages (from torch>=1.8.0->ultralytics) (4.12.2)\n",
            "Requirement already satisfied: networkx in /usr/local/lib/python3.11/dist-packages (from torch>=1.8.0->ultralytics) (3.4.2)\n",
            "Requirement already satisfied: jinja2 in /usr/local/lib/python3.11/dist-packages (from torch>=1.8.0->ultralytics) (3.1.5)\n",
            "Requirement already satisfied: fsspec in /usr/local/lib/python3.11/dist-packages (from torch>=1.8.0->ultralytics) (2024.10.0)\n",
            "Collecting nvidia-cuda-nvrtc-cu12==12.4.127 (from torch>=1.8.0->ultralytics)\n",
            "  Downloading nvidia_cuda_nvrtc_cu12-12.4.127-py3-none-manylinux2014_x86_64.whl.metadata (1.5 kB)\n",
            "Collecting nvidia-cuda-runtime-cu12==12.4.127 (from torch>=1.8.0->ultralytics)\n",
            "  Downloading nvidia_cuda_runtime_cu12-12.4.127-py3-none-manylinux2014_x86_64.whl.metadata (1.5 kB)\n",
            "Collecting nvidia-cuda-cupti-cu12==12.4.127 (from torch>=1.8.0->ultralytics)\n",
            "  Downloading nvidia_cuda_cupti_cu12-12.4.127-py3-none-manylinux2014_x86_64.whl.metadata (1.6 kB)\n",
            "Collecting nvidia-cudnn-cu12==9.1.0.70 (from torch>=1.8.0->ultralytics)\n",
            "  Downloading nvidia_cudnn_cu12-9.1.0.70-py3-none-manylinux2014_x86_64.whl.metadata (1.6 kB)\n",
            "Collecting nvidia-cublas-cu12==12.4.5.8 (from torch>=1.8.0->ultralytics)\n",
            "  Downloading nvidia_cublas_cu12-12.4.5.8-py3-none-manylinux2014_x86_64.whl.metadata (1.5 kB)\n",
            "Collecting nvidia-cufft-cu12==11.2.1.3 (from torch>=1.8.0->ultralytics)\n",
            "  Downloading nvidia_cufft_cu12-11.2.1.3-py3-none-manylinux2014_x86_64.whl.metadata (1.5 kB)\n",
            "Collecting nvidia-curand-cu12==10.3.5.147 (from torch>=1.8.0->ultralytics)\n",
            "  Downloading nvidia_curand_cu12-10.3.5.147-py3-none-manylinux2014_x86_64.whl.metadata (1.5 kB)\n",
            "Collecting nvidia-cusolver-cu12==11.6.1.9 (from torch>=1.8.0->ultralytics)\n",
            "  Downloading nvidia_cusolver_cu12-11.6.1.9-py3-none-manylinux2014_x86_64.whl.metadata (1.6 kB)\n",
            "Collecting nvidia-cusparse-cu12==12.3.1.170 (from torch>=1.8.0->ultralytics)\n",
            "  Downloading nvidia_cusparse_cu12-12.3.1.170-py3-none-manylinux2014_x86_64.whl.metadata (1.6 kB)\n",
            "Requirement already satisfied: nvidia-nccl-cu12==2.21.5 in /usr/local/lib/python3.11/dist-packages (from torch>=1.8.0->ultralytics) (2.21.5)\n",
            "Requirement already satisfied: nvidia-nvtx-cu12==12.4.127 in /usr/local/lib/python3.11/dist-packages (from torch>=1.8.0->ultralytics) (12.4.127)\n",
            "Collecting nvidia-nvjitlink-cu12==12.4.127 (from torch>=1.8.0->ultralytics)\n",
            "  Downloading nvidia_nvjitlink_cu12-12.4.127-py3-none-manylinux2014_x86_64.whl.metadata (1.5 kB)\n",
            "Requirement already satisfied: triton==3.1.0 in /usr/local/lib/python3.11/dist-packages (from torch>=1.8.0->ultralytics) (3.1.0)\n",
            "Requirement already satisfied: sympy==1.13.1 in /usr/local/lib/python3.11/dist-packages (from torch>=1.8.0->ultralytics) (1.13.1)\n",
            "Requirement already satisfied: mpmath<1.4,>=1.1.0 in /usr/local/lib/python3.11/dist-packages (from sympy==1.13.1->torch>=1.8.0->ultralytics) (1.3.0)\n",
            "Requirement already satisfied: six>=1.5 in /usr/local/lib/python3.11/dist-packages (from python-dateutil>=2.7->matplotlib>=3.3.0->ultralytics) (1.17.0)\n",
            "Requirement already satisfied: MarkupSafe>=2.0 in /usr/local/lib/python3.11/dist-packages (from jinja2->torch>=1.8.0->ultralytics) (3.0.2)\n",
            "Downloading ultralytics-8.3.75-py3-none-any.whl (914 kB)\n",
            "\u001b[2K   \u001b[90m━━━━━━━━━━━━━━━━━━━━━━━━━━━━━━━━━━━━━━━━\u001b[0m \u001b[32m914.9/914.9 kB\u001b[0m \u001b[31m53.2 MB/s\u001b[0m eta \u001b[36m0:00:00\u001b[0m\n",
            "\u001b[?25hDownloading nvidia_cublas_cu12-12.4.5.8-py3-none-manylinux2014_x86_64.whl (363.4 MB)\n",
            "\u001b[2K   \u001b[90m━━━━━━━━━━━━━━━━━━━━━━━━━━━━━━━━━━━━━━━━\u001b[0m \u001b[32m363.4/363.4 MB\u001b[0m \u001b[31m4.2 MB/s\u001b[0m eta \u001b[36m0:00:00\u001b[0m\n",
            "\u001b[?25hDownloading nvidia_cuda_cupti_cu12-12.4.127-py3-none-manylinux2014_x86_64.whl (13.8 MB)\n",
            "\u001b[2K   \u001b[90m━━━━━━━━━━━━━━━━━━━━━━━━━━━━━━━━━━━━━━━━\u001b[0m \u001b[32m13.8/13.8 MB\u001b[0m \u001b[31m109.1 MB/s\u001b[0m eta \u001b[36m0:00:00\u001b[0m\n",
            "\u001b[?25hDownloading nvidia_cuda_nvrtc_cu12-12.4.127-py3-none-manylinux2014_x86_64.whl (24.6 MB)\n",
            "\u001b[2K   \u001b[90m━━━━━━━━━━━━━━━━━━━━━━━━━━━━━━━━━━━━━━━━\u001b[0m \u001b[32m24.6/24.6 MB\u001b[0m \u001b[31m91.2 MB/s\u001b[0m eta \u001b[36m0:00:00\u001b[0m\n",
            "\u001b[?25hDownloading nvidia_cuda_runtime_cu12-12.4.127-py3-none-manylinux2014_x86_64.whl (883 kB)\n",
            "\u001b[2K   \u001b[90m━━━━━━━━━━━━━━━━━━━━━━━━━━━━━━━━━━━━━━━━\u001b[0m \u001b[32m883.7/883.7 kB\u001b[0m \u001b[31m58.1 MB/s\u001b[0m eta \u001b[36m0:00:00\u001b[0m\n",
            "\u001b[?25hDownloading nvidia_cudnn_cu12-9.1.0.70-py3-none-manylinux2014_x86_64.whl (664.8 MB)\n",
            "\u001b[2K   \u001b[90m━━━━━━━━━━━━━━━━━━━━━━━━━━━━━━━━━━━━━━━━\u001b[0m \u001b[32m664.8/664.8 MB\u001b[0m \u001b[31m2.7 MB/s\u001b[0m eta \u001b[36m0:00:00\u001b[0m\n",
            "\u001b[?25hDownloading nvidia_cufft_cu12-11.2.1.3-py3-none-manylinux2014_x86_64.whl (211.5 MB)\n",
            "\u001b[2K   \u001b[90m━━━━━━━━━━━━━━━━━━━━━━━━━━━━━━━━━━━━━━━━\u001b[0m \u001b[32m211.5/211.5 MB\u001b[0m \u001b[31m5.0 MB/s\u001b[0m eta \u001b[36m0:00:00\u001b[0m\n",
            "\u001b[?25hDownloading nvidia_curand_cu12-10.3.5.147-py3-none-manylinux2014_x86_64.whl (56.3 MB)\n",
            "\u001b[2K   \u001b[90m━━━━━━━━━━━━━━━━━━━━━━━━━━━━━━━━━━━━━━━━\u001b[0m \u001b[32m56.3/56.3 MB\u001b[0m \u001b[31m12.6 MB/s\u001b[0m eta \u001b[36m0:00:00\u001b[0m\n",
            "\u001b[?25hDownloading nvidia_cusolver_cu12-11.6.1.9-py3-none-manylinux2014_x86_64.whl (127.9 MB)\n",
            "\u001b[2K   \u001b[90m━━━━━━━━━━━━━━━━━━━━━━━━━━━━━━━━━━━━━━━━\u001b[0m \u001b[32m127.9/127.9 MB\u001b[0m \u001b[31m7.5 MB/s\u001b[0m eta \u001b[36m0:00:00\u001b[0m\n",
            "\u001b[?25hDownloading nvidia_cusparse_cu12-12.3.1.170-py3-none-manylinux2014_x86_64.whl (207.5 MB)\n",
            "\u001b[2K   \u001b[90m━━━━━━━━━━━━━━━━━━━━━━━━━━━━━━━━━━━━━━━━\u001b[0m \u001b[32m207.5/207.5 MB\u001b[0m \u001b[31m5.5 MB/s\u001b[0m eta \u001b[36m0:00:00\u001b[0m\n",
            "\u001b[?25hDownloading nvidia_nvjitlink_cu12-12.4.127-py3-none-manylinux2014_x86_64.whl (21.1 MB)\n",
            "\u001b[2K   \u001b[90m━━━━━━━━━━━━━━━━━━━━━━━━━━━━━━━━━━━━━━━━\u001b[0m \u001b[32m21.1/21.1 MB\u001b[0m \u001b[31m83.1 MB/s\u001b[0m eta \u001b[36m0:00:00\u001b[0m\n",
            "\u001b[?25hDownloading ultralytics_thop-2.0.14-py3-none-any.whl (26 kB)\n",
            "Installing collected packages: nvidia-nvjitlink-cu12, nvidia-curand-cu12, nvidia-cufft-cu12, nvidia-cuda-runtime-cu12, nvidia-cuda-nvrtc-cu12, nvidia-cuda-cupti-cu12, nvidia-cublas-cu12, nvidia-cusparse-cu12, nvidia-cudnn-cu12, nvidia-cusolver-cu12, ultralytics-thop, ultralytics\n",
            "  Attempting uninstall: nvidia-nvjitlink-cu12\n",
            "    Found existing installation: nvidia-nvjitlink-cu12 12.5.82\n",
            "    Uninstalling nvidia-nvjitlink-cu12-12.5.82:\n",
            "      Successfully uninstalled nvidia-nvjitlink-cu12-12.5.82\n",
            "  Attempting uninstall: nvidia-curand-cu12\n",
            "    Found existing installation: nvidia-curand-cu12 10.3.6.82\n",
            "    Uninstalling nvidia-curand-cu12-10.3.6.82:\n",
            "      Successfully uninstalled nvidia-curand-cu12-10.3.6.82\n",
            "  Attempting uninstall: nvidia-cufft-cu12\n",
            "    Found existing installation: nvidia-cufft-cu12 11.2.3.61\n",
            "    Uninstalling nvidia-cufft-cu12-11.2.3.61:\n",
            "      Successfully uninstalled nvidia-cufft-cu12-11.2.3.61\n",
            "  Attempting uninstall: nvidia-cuda-runtime-cu12\n",
            "    Found existing installation: nvidia-cuda-runtime-cu12 12.5.82\n",
            "    Uninstalling nvidia-cuda-runtime-cu12-12.5.82:\n",
            "      Successfully uninstalled nvidia-cuda-runtime-cu12-12.5.82\n",
            "  Attempting uninstall: nvidia-cuda-nvrtc-cu12\n",
            "    Found existing installation: nvidia-cuda-nvrtc-cu12 12.5.82\n",
            "    Uninstalling nvidia-cuda-nvrtc-cu12-12.5.82:\n",
            "      Successfully uninstalled nvidia-cuda-nvrtc-cu12-12.5.82\n",
            "  Attempting uninstall: nvidia-cuda-cupti-cu12\n",
            "    Found existing installation: nvidia-cuda-cupti-cu12 12.5.82\n",
            "    Uninstalling nvidia-cuda-cupti-cu12-12.5.82:\n",
            "      Successfully uninstalled nvidia-cuda-cupti-cu12-12.5.82\n",
            "  Attempting uninstall: nvidia-cublas-cu12\n",
            "    Found existing installation: nvidia-cublas-cu12 12.5.3.2\n",
            "    Uninstalling nvidia-cublas-cu12-12.5.3.2:\n",
            "      Successfully uninstalled nvidia-cublas-cu12-12.5.3.2\n",
            "  Attempting uninstall: nvidia-cusparse-cu12\n",
            "    Found existing installation: nvidia-cusparse-cu12 12.5.1.3\n",
            "    Uninstalling nvidia-cusparse-cu12-12.5.1.3:\n",
            "      Successfully uninstalled nvidia-cusparse-cu12-12.5.1.3\n",
            "  Attempting uninstall: nvidia-cudnn-cu12\n",
            "    Found existing installation: nvidia-cudnn-cu12 9.3.0.75\n",
            "    Uninstalling nvidia-cudnn-cu12-9.3.0.75:\n",
            "      Successfully uninstalled nvidia-cudnn-cu12-9.3.0.75\n",
            "  Attempting uninstall: nvidia-cusolver-cu12\n",
            "    Found existing installation: nvidia-cusolver-cu12 11.6.3.83\n",
            "    Uninstalling nvidia-cusolver-cu12-11.6.3.83:\n",
            "      Successfully uninstalled nvidia-cusolver-cu12-11.6.3.83\n",
            "Successfully installed nvidia-cublas-cu12-12.4.5.8 nvidia-cuda-cupti-cu12-12.4.127 nvidia-cuda-nvrtc-cu12-12.4.127 nvidia-cuda-runtime-cu12-12.4.127 nvidia-cudnn-cu12-9.1.0.70 nvidia-cufft-cu12-11.2.1.3 nvidia-curand-cu12-10.3.5.147 nvidia-cusolver-cu12-11.6.1.9 nvidia-cusparse-cu12-12.3.1.170 nvidia-nvjitlink-cu12-12.4.127 ultralytics-8.3.75 ultralytics-thop-2.0.14\n"
          ]
        }
      ]
    },
    {
      "cell_type": "markdown",
      "source": [
        "Install Kaggle API to download the dataset:\n"
      ],
      "metadata": {
        "id": "TwsW49M7eXd-"
      }
    },
    {
      "cell_type": "code",
      "source": [
        "!pip install kaggle"
      ],
      "metadata": {
        "colab": {
          "base_uri": "https://localhost:8080/"
        },
        "id": "GcL-RfJHee6Y",
        "outputId": "2139df7b-71bc-4463-fc2c-e7b94cfa8a52",
        "collapsed": true
      },
      "execution_count": 2,
      "outputs": [
        {
          "output_type": "stream",
          "name": "stdout",
          "text": [
            "Requirement already satisfied: kaggle in /usr/local/lib/python3.11/dist-packages (1.6.17)\n",
            "Requirement already satisfied: six>=1.10 in /usr/local/lib/python3.11/dist-packages (from kaggle) (1.17.0)\n",
            "Requirement already satisfied: certifi>=2023.7.22 in /usr/local/lib/python3.11/dist-packages (from kaggle) (2025.1.31)\n",
            "Requirement already satisfied: python-dateutil in /usr/local/lib/python3.11/dist-packages (from kaggle) (2.8.2)\n",
            "Requirement already satisfied: requests in /usr/local/lib/python3.11/dist-packages (from kaggle) (2.32.3)\n",
            "Requirement already satisfied: tqdm in /usr/local/lib/python3.11/dist-packages (from kaggle) (4.67.1)\n",
            "Requirement already satisfied: python-slugify in /usr/local/lib/python3.11/dist-packages (from kaggle) (8.0.4)\n",
            "Requirement already satisfied: urllib3 in /usr/local/lib/python3.11/dist-packages (from kaggle) (2.3.0)\n",
            "Requirement already satisfied: bleach in /usr/local/lib/python3.11/dist-packages (from kaggle) (6.2.0)\n",
            "Requirement already satisfied: webencodings in /usr/local/lib/python3.11/dist-packages (from bleach->kaggle) (0.5.1)\n",
            "Requirement already satisfied: text-unidecode>=1.3 in /usr/local/lib/python3.11/dist-packages (from python-slugify->kaggle) (1.3)\n",
            "Requirement already satisfied: charset-normalizer<4,>=2 in /usr/local/lib/python3.11/dist-packages (from requests->kaggle) (3.4.1)\n",
            "Requirement already satisfied: idna<4,>=2.5 in /usr/local/lib/python3.11/dist-packages (from requests->kaggle) (3.10)\n"
          ]
        }
      ]
    },
    {
      "cell_type": "markdown",
      "source": [
        " Drone Detection Dataset:\n"
      ],
      "metadata": {
        "id": "AwxR2MCkFKFy"
      }
    },
    {
      "cell_type": "code",
      "source": [
        "!kaggle datasets download -d muki2003/yolo-drone-detection-dataset --force\n",
        "# Unzip it\n",
        "!unzip yolo-drone-detection-dataset.zip -d /content/drones\n"
      ],
      "metadata": {
        "id": "aEiYtPrteXIk",
        "colab": {
          "base_uri": "https://localhost:8080/"
        },
        "collapsed": true,
        "outputId": "c185588b-2572-473d-f927-53454852caa0"
      },
      "execution_count": 3,
      "outputs": [
        {
          "output_type": "stream",
          "name": "stdout",
          "text": [
            "Dataset URL: https://www.kaggle.com/datasets/muki2003/yolo-drone-detection-dataset\n",
            "License(s): other\n",
            "Downloading yolo-drone-detection-dataset.zip to /content\n",
            "100% 359M/359M [00:18<00:00, 23.6MB/s]\n",
            "100% 359M/359M [00:18<00:00, 20.1MB/s]\n",
            "Archive:  yolo-drone-detection-dataset.zip\n",
            "  inflating: /content/drones/drone_dataset/data.yaml  \n",
            "  inflating: /content/drones/drone_dataset/train/images/pic_031.jpg  \n",
            "  inflating: /content/drones/drone_dataset/train/images/pic_032.jpg  \n",
            "  inflating: /content/drones/drone_dataset/train/images/pic_035.jpg  \n",
            "  inflating: /content/drones/drone_dataset/train/images/pic_036.jpg  \n",
            "  inflating: /content/drones/drone_dataset/train/images/pic_037.jpg  \n",
            "  inflating: /content/drones/drone_dataset/train/images/pic_038.jpg  \n",
            "  inflating: /content/drones/drone_dataset/train/images/pic_039.jpg  \n",
            "  inflating: /content/drones/drone_dataset/train/images/pic_042.jpg  \n",
            "  inflating: /content/drones/drone_dataset/train/images/pic_043.jpg  \n",
            "  inflating: /content/drones/drone_dataset/train/images/pic_044.jpg  \n",
            "  inflating: /content/drones/drone_dataset/train/images/pic_045.jpg  \n",
            "  inflating: /content/drones/drone_dataset/train/images/pic_047.jpg  \n",
            "  inflating: /content/drones/drone_dataset/train/images/pic_048.jpg  \n",
            "  inflating: /content/drones/drone_dataset/train/images/pic_049.jpg  \n",
            "  inflating: /content/drones/drone_dataset/train/images/pic_050.jpg  \n",
            "  inflating: /content/drones/drone_dataset/train/images/pic_051.jpg  \n",
            "  inflating: /content/drones/drone_dataset/train/images/pic_052.jpg  \n",
            "  inflating: /content/drones/drone_dataset/train/images/pic_053.jpg  \n",
            "  inflating: /content/drones/drone_dataset/train/images/pic_054.jpg  \n",
            "  inflating: /content/drones/drone_dataset/train/images/pic_055.jpg  \n",
            "  inflating: /content/drones/drone_dataset/train/images/pic_056.jpg  \n",
            "  inflating: /content/drones/drone_dataset/train/images/pic_057.jpg  \n",
            "  inflating: /content/drones/drone_dataset/train/images/pic_058.jpg  \n",
            "  inflating: /content/drones/drone_dataset/train/images/pic_059.jpg  \n",
            "  inflating: /content/drones/drone_dataset/train/images/pic_060.jpg  \n",
            "  inflating: /content/drones/drone_dataset/train/images/pic_061.jpg  \n",
            "  inflating: /content/drones/drone_dataset/train/images/pic_062.jpg  \n",
            "  inflating: /content/drones/drone_dataset/train/images/pic_063.jpg  \n",
            "  inflating: /content/drones/drone_dataset/train/images/pic_064.jpg  \n",
            "  inflating: /content/drones/drone_dataset/train/images/pic_065.jpg  \n",
            "  inflating: /content/drones/drone_dataset/train/images/pic_066.jpg  \n",
            "  inflating: /content/drones/drone_dataset/train/images/pic_067.jpg  \n",
            "  inflating: /content/drones/drone_dataset/train/images/pic_068.jpg  \n",
            "  inflating: /content/drones/drone_dataset/train/images/pic_069.jpg  \n",
            "  inflating: /content/drones/drone_dataset/train/images/pic_070.jpg  \n",
            "  inflating: /content/drones/drone_dataset/train/images/pic_071.jpg  \n",
            "  inflating: /content/drones/drone_dataset/train/images/pic_073.jpg  \n",
            "  inflating: /content/drones/drone_dataset/train/images/pic_074.jpg  \n",
            "  inflating: /content/drones/drone_dataset/train/images/pic_075.jpg  \n",
            "  inflating: /content/drones/drone_dataset/train/images/pic_076.jpg  \n",
            "  inflating: /content/drones/drone_dataset/train/images/pic_077.jpg  \n",
            "  inflating: /content/drones/drone_dataset/train/images/pic_078.jpg  \n",
            "  inflating: /content/drones/drone_dataset/train/images/pic_079.jpg  \n",
            "  inflating: /content/drones/drone_dataset/train/images/pic_080.jpg  \n",
            "  inflating: /content/drones/drone_dataset/train/images/pic_081.jpg  \n",
            "  inflating: /content/drones/drone_dataset/train/images/pic_082.jpg  \n",
            "  inflating: /content/drones/drone_dataset/train/images/pic_083.jpg  \n",
            "  inflating: /content/drones/drone_dataset/train/images/pic_084.jpg  \n",
            "  inflating: /content/drones/drone_dataset/train/images/pic_085.jpg  \n",
            "  inflating: /content/drones/drone_dataset/train/images/pic_086.jpg  \n",
            "  inflating: /content/drones/drone_dataset/train/images/pic_087.jpg  \n",
            "  inflating: /content/drones/drone_dataset/train/images/pic_088.jpg  \n",
            "  inflating: /content/drones/drone_dataset/train/images/pic_089.jpg  \n",
            "  inflating: /content/drones/drone_dataset/train/images/pic_090.jpg  \n",
            "  inflating: /content/drones/drone_dataset/train/images/pic_092.jpg  \n",
            "  inflating: /content/drones/drone_dataset/train/images/pic_093.jpg  \n",
            "  inflating: /content/drones/drone_dataset/train/images/pic_094.jpg  \n",
            "  inflating: /content/drones/drone_dataset/train/images/pic_095.jpg  \n",
            "  inflating: /content/drones/drone_dataset/train/images/pic_096.jpg  \n",
            "  inflating: /content/drones/drone_dataset/train/images/pic_097.jpg  \n",
            "  inflating: /content/drones/drone_dataset/train/images/pic_098.jpg  \n",
            "  inflating: /content/drones/drone_dataset/train/images/pic_099.jpg  \n",
            "  inflating: /content/drones/drone_dataset/train/images/pic_100.jpg  \n",
            "  inflating: /content/drones/drone_dataset/train/images/pic_1000.jpg  \n",
            "  inflating: /content/drones/drone_dataset/train/images/pic_1001.jpg  \n",
            "  inflating: /content/drones/drone_dataset/train/images/pic_1003.jpg  \n",
            "  inflating: /content/drones/drone_dataset/train/images/pic_1004.jpg  \n",
            "  inflating: /content/drones/drone_dataset/train/images/pic_1005.jpg  \n",
            "  inflating: /content/drones/drone_dataset/train/images/pic_1008.jpg  \n",
            "  inflating: /content/drones/drone_dataset/train/images/pic_1009.jpg  \n",
            "  inflating: /content/drones/drone_dataset/train/images/pic_101.jpg  \n",
            "  inflating: /content/drones/drone_dataset/train/images/pic_1010.jpg  \n",
            "  inflating: /content/drones/drone_dataset/train/images/pic_1013.jpg  \n",
            "  inflating: /content/drones/drone_dataset/train/images/pic_1014.jpg  \n",
            "  inflating: /content/drones/drone_dataset/train/images/pic_1020.jpg  \n",
            "  inflating: /content/drones/drone_dataset/train/images/pic_1025.jpg  \n",
            "  inflating: /content/drones/drone_dataset/train/images/pic_1026.jpg  \n",
            "  inflating: /content/drones/drone_dataset/train/images/pic_1027.jpg  \n",
            "  inflating: /content/drones/drone_dataset/train/images/pic_1028.jpg  \n",
            "  inflating: /content/drones/drone_dataset/train/images/pic_103.jpg  \n",
            "  inflating: /content/drones/drone_dataset/train/images/pic_1032.jpg  \n",
            "  inflating: /content/drones/drone_dataset/train/images/pic_1033.jpg  \n",
            "  inflating: /content/drones/drone_dataset/train/images/pic_1034.jpg  \n",
            "  inflating: /content/drones/drone_dataset/train/images/pic_1036.jpg  \n",
            "  inflating: /content/drones/drone_dataset/train/images/pic_104.jpg  \n",
            "  inflating: /content/drones/drone_dataset/train/images/pic_1042.jpg  \n",
            "  inflating: /content/drones/drone_dataset/train/images/pic_1043.jpg  \n",
            "  inflating: /content/drones/drone_dataset/train/images/pic_1044.jpg  \n",
            "  inflating: /content/drones/drone_dataset/train/images/pic_1046.jpg  \n",
            "  inflating: /content/drones/drone_dataset/train/images/pic_1047.jpg  \n",
            "  inflating: /content/drones/drone_dataset/train/images/pic_1048.jpg  \n",
            "  inflating: /content/drones/drone_dataset/train/images/pic_1049.jpg  \n",
            "  inflating: /content/drones/drone_dataset/train/images/pic_105.jpg  \n",
            "  inflating: /content/drones/drone_dataset/train/images/pic_1050.jpg  \n",
            "  inflating: /content/drones/drone_dataset/train/images/pic_1054.jpg  \n",
            "  inflating: /content/drones/drone_dataset/train/images/pic_1056.jpg  \n",
            "  inflating: /content/drones/drone_dataset/train/images/pic_1057.jpg  \n",
            "  inflating: /content/drones/drone_dataset/train/images/pic_1059.jpg  \n",
            "  inflating: /content/drones/drone_dataset/train/images/pic_106.jpg  \n",
            "  inflating: /content/drones/drone_dataset/train/images/pic_1060.jpg  \n",
            "  inflating: /content/drones/drone_dataset/train/images/pic_1068.jpg  \n",
            "  inflating: /content/drones/drone_dataset/train/images/pic_107.jpg  \n",
            "  inflating: /content/drones/drone_dataset/train/images/pic_1070.jpg  \n",
            "  inflating: /content/drones/drone_dataset/train/images/pic_1074.jpg  \n",
            "  inflating: /content/drones/drone_dataset/train/images/pic_1075.jpg  \n",
            "  inflating: /content/drones/drone_dataset/train/images/pic_1076.jpg  \n",
            "  inflating: /content/drones/drone_dataset/train/images/pic_108.jpg  \n",
            "  inflating: /content/drones/drone_dataset/train/images/pic_1080.jpg  \n",
            "  inflating: /content/drones/drone_dataset/train/images/pic_1082.jpg  \n",
            "  inflating: /content/drones/drone_dataset/train/images/pic_1090.jpg  \n",
            "  inflating: /content/drones/drone_dataset/train/images/pic_1091.jpg  \n",
            "  inflating: /content/drones/drone_dataset/train/images/pic_1093.jpg  \n",
            "  inflating: /content/drones/drone_dataset/train/images/pic_1095.jpg  \n",
            "  inflating: /content/drones/drone_dataset/train/images/pic_1096.jpg  \n",
            "  inflating: /content/drones/drone_dataset/train/images/pic_110.jpg  \n",
            "  inflating: /content/drones/drone_dataset/train/images/pic_1102.jpg  \n",
            "  inflating: /content/drones/drone_dataset/train/images/pic_1104.jpg  \n",
            "  inflating: /content/drones/drone_dataset/train/images/pic_1105.jpg  \n",
            "  inflating: /content/drones/drone_dataset/train/images/pic_1106.jpg  \n",
            "  inflating: /content/drones/drone_dataset/train/images/pic_1107.jpg  \n",
            "  inflating: /content/drones/drone_dataset/train/images/pic_111.jpg  \n",
            "  inflating: /content/drones/drone_dataset/train/images/pic_1110.jpg  \n",
            "  inflating: /content/drones/drone_dataset/train/images/pic_1112.jpg  \n",
            "  inflating: /content/drones/drone_dataset/train/images/pic_1113.jpg  \n",
            "  inflating: /content/drones/drone_dataset/train/images/pic_1117.jpg  \n",
            "  inflating: /content/drones/drone_dataset/train/images/pic_112.jpg  \n",
            "  inflating: /content/drones/drone_dataset/train/images/pic_1121.jpg  \n",
            "  inflating: /content/drones/drone_dataset/train/images/pic_1127.jpg  \n",
            "  inflating: /content/drones/drone_dataset/train/images/pic_1130.jpg  \n",
            "  inflating: /content/drones/drone_dataset/train/images/pic_1133.jpg  \n",
            "  inflating: /content/drones/drone_dataset/train/images/pic_1135.jpg  \n",
            "  inflating: /content/drones/drone_dataset/train/images/pic_1136.jpg  \n",
            "  inflating: /content/drones/drone_dataset/train/images/pic_1139.jpg  \n",
            "  inflating: /content/drones/drone_dataset/train/images/pic_114.jpg  \n",
            "  inflating: /content/drones/drone_dataset/train/images/pic_1140.jpg  \n",
            "  inflating: /content/drones/drone_dataset/train/images/pic_1143.jpg  \n",
            "  inflating: /content/drones/drone_dataset/train/images/pic_1144.jpg  \n",
            "  inflating: /content/drones/drone_dataset/train/images/pic_1146.jpg  \n",
            "  inflating: /content/drones/drone_dataset/train/images/pic_1148.jpg  \n",
            "  inflating: /content/drones/drone_dataset/train/images/pic_115.jpg  \n",
            "  inflating: /content/drones/drone_dataset/train/images/pic_1150.jpg  \n",
            "  inflating: /content/drones/drone_dataset/train/images/pic_1152.jpg  \n",
            "  inflating: /content/drones/drone_dataset/train/images/pic_1154.jpg  \n",
            "  inflating: /content/drones/drone_dataset/train/images/pic_1155.jpg  \n",
            "  inflating: /content/drones/drone_dataset/train/images/pic_1156.jpg  \n",
            "  inflating: /content/drones/drone_dataset/train/images/pic_1157.jpg  \n",
            "  inflating: /content/drones/drone_dataset/train/images/pic_1159.jpg  \n",
            "  inflating: /content/drones/drone_dataset/train/images/pic_116.jpg  \n",
            "  inflating: /content/drones/drone_dataset/train/images/pic_1161.jpg  \n",
            "  inflating: /content/drones/drone_dataset/train/images/pic_1162.jpg  \n",
            "  inflating: /content/drones/drone_dataset/train/images/pic_1165.jpg  \n",
            "  inflating: /content/drones/drone_dataset/train/images/pic_1166.jpg  \n",
            "  inflating: /content/drones/drone_dataset/train/images/pic_1167.jpg  \n",
            "  inflating: /content/drones/drone_dataset/train/images/pic_1168.jpg  \n",
            "  inflating: /content/drones/drone_dataset/train/images/pic_1169.jpg  \n",
            "  inflating: /content/drones/drone_dataset/train/images/pic_117.jpg  \n",
            "  inflating: /content/drones/drone_dataset/train/images/pic_1170.jpg  \n",
            "  inflating: /content/drones/drone_dataset/train/images/pic_1172.jpg  \n",
            "  inflating: /content/drones/drone_dataset/train/images/pic_1174.jpg  \n",
            "  inflating: /content/drones/drone_dataset/train/images/pic_1176.jpg  \n",
            "  inflating: /content/drones/drone_dataset/train/images/pic_1178.jpg  \n",
            "  inflating: /content/drones/drone_dataset/train/images/pic_118.jpg  \n",
            "  inflating: /content/drones/drone_dataset/train/images/pic_1181.jpg  \n",
            "  inflating: /content/drones/drone_dataset/train/images/pic_1182.jpg  \n",
            "  inflating: /content/drones/drone_dataset/train/images/pic_1189.jpg  \n",
            "  inflating: /content/drones/drone_dataset/train/images/pic_1193.jpg  \n",
            "  inflating: /content/drones/drone_dataset/train/images/pic_1197.jpg  \n",
            "  inflating: /content/drones/drone_dataset/train/images/pic_1199.jpg  \n",
            "  inflating: /content/drones/drone_dataset/train/images/pic_120.jpg  \n",
            "  inflating: /content/drones/drone_dataset/train/images/pic_1200.jpg  \n",
            "  inflating: /content/drones/drone_dataset/train/images/pic_1201.jpg  \n",
            "  inflating: /content/drones/drone_dataset/train/images/pic_1202.jpg  \n",
            "  inflating: /content/drones/drone_dataset/train/images/pic_1203.jpg  \n",
            "  inflating: /content/drones/drone_dataset/train/images/pic_1204.jpg  \n",
            "  inflating: /content/drones/drone_dataset/train/images/pic_1208.jpg  \n",
            "  inflating: /content/drones/drone_dataset/train/images/pic_121.jpg  \n",
            "  inflating: /content/drones/drone_dataset/train/images/pic_1213.jpg  \n",
            "  inflating: /content/drones/drone_dataset/train/images/pic_1214.jpg  \n",
            "  inflating: /content/drones/drone_dataset/train/images/pic_1215.jpg  \n",
            "  inflating: /content/drones/drone_dataset/train/images/pic_1216.jpg  \n",
            "  inflating: /content/drones/drone_dataset/train/images/pic_1217.jpg  \n",
            "  inflating: /content/drones/drone_dataset/train/images/pic_122.jpg  \n",
            "  inflating: /content/drones/drone_dataset/train/images/pic_1220.jpg  \n",
            "  inflating: /content/drones/drone_dataset/train/images/pic_1226.jpg  \n",
            "  inflating: /content/drones/drone_dataset/train/images/pic_123.jpg  \n",
            "  inflating: /content/drones/drone_dataset/train/images/pic_1230.jpg  \n",
            "  inflating: /content/drones/drone_dataset/train/images/pic_1233.jpg  \n",
            "  inflating: /content/drones/drone_dataset/train/images/pic_1234.jpg  \n",
            "  inflating: /content/drones/drone_dataset/train/images/pic_1235.jpg  \n",
            "  inflating: /content/drones/drone_dataset/train/images/pic_1237.jpg  \n",
            "  inflating: /content/drones/drone_dataset/train/images/pic_1239.jpg  \n",
            "  inflating: /content/drones/drone_dataset/train/images/pic_124.jpg  \n",
            "  inflating: /content/drones/drone_dataset/train/images/pic_125.jpg  \n",
            "  inflating: /content/drones/drone_dataset/train/images/pic_126.jpg  \n",
            "  inflating: /content/drones/drone_dataset/train/images/pic_127.jpg  \n",
            "  inflating: /content/drones/drone_dataset/train/images/pic_128.jpg  \n",
            "  inflating: /content/drones/drone_dataset/train/images/pic_129.jpg  \n",
            "  inflating: /content/drones/drone_dataset/train/images/pic_130.jpg  \n",
            "  inflating: /content/drones/drone_dataset/train/images/pic_131.jpg  \n",
            "  inflating: /content/drones/drone_dataset/train/images/pic_132.jpg  \n",
            "  inflating: /content/drones/drone_dataset/train/images/pic_133.jpg  \n",
            "  inflating: /content/drones/drone_dataset/train/images/pic_134.jpg  \n",
            "  inflating: /content/drones/drone_dataset/train/images/pic_135.jpg  \n",
            "  inflating: /content/drones/drone_dataset/train/images/pic_137.jpg  \n",
            "  inflating: /content/drones/drone_dataset/train/images/pic_138.jpg  \n",
            "  inflating: /content/drones/drone_dataset/train/images/pic_140.jpg  \n",
            "  inflating: /content/drones/drone_dataset/train/images/pic_141.jpg  \n",
            "  inflating: /content/drones/drone_dataset/train/images/pic_142.jpg  \n",
            "  inflating: /content/drones/drone_dataset/train/images/pic_143.jpg  \n",
            "  inflating: /content/drones/drone_dataset/train/images/pic_144.jpg  \n",
            "  inflating: /content/drones/drone_dataset/train/images/pic_145.jpg  \n",
            "  inflating: /content/drones/drone_dataset/train/images/pic_146.jpg  \n",
            "  inflating: /content/drones/drone_dataset/train/images/pic_147.jpg  \n",
            "  inflating: /content/drones/drone_dataset/train/images/pic_148.jpg  \n",
            "  inflating: /content/drones/drone_dataset/train/images/pic_149.jpg  \n",
            "  inflating: /content/drones/drone_dataset/train/images/pic_150.jpg  \n",
            "  inflating: /content/drones/drone_dataset/train/images/pic_151.jpg  \n",
            "  inflating: /content/drones/drone_dataset/train/images/pic_152.jpg  \n",
            "  inflating: /content/drones/drone_dataset/train/images/pic_153.jpg  \n",
            "  inflating: /content/drones/drone_dataset/train/images/pic_154.jpg  \n",
            "  inflating: /content/drones/drone_dataset/train/images/pic_155.jpg  \n",
            "  inflating: /content/drones/drone_dataset/train/images/pic_156.jpg  \n",
            "  inflating: /content/drones/drone_dataset/train/images/pic_158.jpg  \n",
            "  inflating: /content/drones/drone_dataset/train/images/pic_159.jpg  \n",
            "  inflating: /content/drones/drone_dataset/train/images/pic_161.jpg  \n",
            "  inflating: /content/drones/drone_dataset/train/images/pic_162.jpg  \n",
            "  inflating: /content/drones/drone_dataset/train/images/pic_164.jpg  \n",
            "  inflating: /content/drones/drone_dataset/train/images/pic_165.jpg  \n",
            "  inflating: /content/drones/drone_dataset/train/images/pic_167.jpg  \n",
            "  inflating: /content/drones/drone_dataset/train/images/pic_169.jpg  \n",
            "  inflating: /content/drones/drone_dataset/train/images/pic_170.jpg  \n",
            "  inflating: /content/drones/drone_dataset/train/images/pic_171.jpg  \n",
            "  inflating: /content/drones/drone_dataset/train/images/pic_172.jpg  \n",
            "  inflating: /content/drones/drone_dataset/train/images/pic_173.jpg  \n",
            "  inflating: /content/drones/drone_dataset/train/images/pic_174.jpg  \n",
            "  inflating: /content/drones/drone_dataset/train/images/pic_175.jpg  \n",
            "  inflating: /content/drones/drone_dataset/train/images/pic_176.jpg  \n",
            "  inflating: /content/drones/drone_dataset/train/images/pic_177.jpg  \n",
            "  inflating: /content/drones/drone_dataset/train/images/pic_179.jpg  \n",
            "  inflating: /content/drones/drone_dataset/train/images/pic_180.jpg  \n",
            "  inflating: /content/drones/drone_dataset/train/images/pic_181.jpg  \n",
            "  inflating: /content/drones/drone_dataset/train/images/pic_182.jpg  \n",
            "  inflating: /content/drones/drone_dataset/train/images/pic_183.jpg  \n",
            "  inflating: /content/drones/drone_dataset/train/images/pic_184.jpg  \n",
            "  inflating: /content/drones/drone_dataset/train/images/pic_185.jpg  \n",
            "  inflating: /content/drones/drone_dataset/train/images/pic_186.jpg  \n",
            "  inflating: /content/drones/drone_dataset/train/images/pic_187.jpg  \n",
            "  inflating: /content/drones/drone_dataset/train/images/pic_188.jpg  \n",
            "  inflating: /content/drones/drone_dataset/train/images/pic_189.jpg  \n",
            "  inflating: /content/drones/drone_dataset/train/images/pic_190.jpg  \n",
            "  inflating: /content/drones/drone_dataset/train/images/pic_192.jpg  \n",
            "  inflating: /content/drones/drone_dataset/train/images/pic_193.jpg  \n",
            "  inflating: /content/drones/drone_dataset/train/images/pic_194.jpg  \n",
            "  inflating: /content/drones/drone_dataset/train/images/pic_195.jpg  \n",
            "  inflating: /content/drones/drone_dataset/train/images/pic_196.jpg  \n",
            "  inflating: /content/drones/drone_dataset/train/images/pic_197.jpg  \n",
            "  inflating: /content/drones/drone_dataset/train/images/pic_198.jpg  \n",
            "  inflating: /content/drones/drone_dataset/train/images/pic_200.jpg  \n",
            "  inflating: /content/drones/drone_dataset/train/images/pic_201.jpg  \n",
            "  inflating: /content/drones/drone_dataset/train/images/pic_203.jpg  \n",
            "  inflating: /content/drones/drone_dataset/train/images/pic_204.jpg  \n",
            "  inflating: /content/drones/drone_dataset/train/images/pic_205.jpg  \n",
            "  inflating: /content/drones/drone_dataset/train/images/pic_206.jpg  \n",
            "  inflating: /content/drones/drone_dataset/train/images/pic_207.jpg  \n",
            "  inflating: /content/drones/drone_dataset/train/images/pic_208.jpg  \n",
            "  inflating: /content/drones/drone_dataset/train/images/pic_209.jpg  \n",
            "  inflating: /content/drones/drone_dataset/train/images/pic_211.jpg  \n",
            "  inflating: /content/drones/drone_dataset/train/images/pic_212.jpg  \n",
            "  inflating: /content/drones/drone_dataset/train/images/pic_213.jpg  \n",
            "  inflating: /content/drones/drone_dataset/train/images/pic_214.jpg  \n",
            "  inflating: /content/drones/drone_dataset/train/images/pic_215.jpg  \n",
            "  inflating: /content/drones/drone_dataset/train/images/pic_217.jpg  \n",
            "  inflating: /content/drones/drone_dataset/train/images/pic_218.jpg  \n",
            "  inflating: /content/drones/drone_dataset/train/images/pic_219.jpg  \n",
            "  inflating: /content/drones/drone_dataset/train/images/pic_220.jpg  \n",
            "  inflating: /content/drones/drone_dataset/train/images/pic_221.jpg  \n",
            "  inflating: /content/drones/drone_dataset/train/images/pic_222.jpg  \n",
            "  inflating: /content/drones/drone_dataset/train/images/pic_223.jpg  \n",
            "  inflating: /content/drones/drone_dataset/train/images/pic_224.jpg  \n",
            "  inflating: /content/drones/drone_dataset/train/images/pic_225.jpg  \n",
            "  inflating: /content/drones/drone_dataset/train/images/pic_226.jpg  \n",
            "  inflating: /content/drones/drone_dataset/train/images/pic_227.jpg  \n",
            "  inflating: /content/drones/drone_dataset/train/images/pic_229.jpg  \n",
            "  inflating: /content/drones/drone_dataset/train/images/pic_230.jpg  \n",
            "  inflating: /content/drones/drone_dataset/train/images/pic_232.jpg  \n",
            "  inflating: /content/drones/drone_dataset/train/images/pic_234.jpg  \n",
            "  inflating: /content/drones/drone_dataset/train/images/pic_235.jpg  \n",
            "  inflating: /content/drones/drone_dataset/train/images/pic_237.jpg  \n",
            "  inflating: /content/drones/drone_dataset/train/images/pic_238.jpg  \n",
            "  inflating: /content/drones/drone_dataset/train/images/pic_239.jpg  \n",
            "  inflating: /content/drones/drone_dataset/train/images/pic_240.jpg  \n",
            "  inflating: /content/drones/drone_dataset/train/images/pic_241.jpg  \n",
            "  inflating: /content/drones/drone_dataset/train/images/pic_242.jpg  \n",
            "  inflating: /content/drones/drone_dataset/train/images/pic_243.jpg  \n",
            "  inflating: /content/drones/drone_dataset/train/images/pic_244.jpg  \n",
            "  inflating: /content/drones/drone_dataset/train/images/pic_245.jpg  \n",
            "  inflating: /content/drones/drone_dataset/train/images/pic_247.jpg  \n",
            "  inflating: /content/drones/drone_dataset/train/images/pic_248.jpg  \n",
            "  inflating: /content/drones/drone_dataset/train/images/pic_249.jpg  \n",
            "  inflating: /content/drones/drone_dataset/train/images/pic_250.jpg  \n",
            "  inflating: /content/drones/drone_dataset/train/images/pic_251.jpg  \n",
            "  inflating: /content/drones/drone_dataset/train/images/pic_252.jpg  \n",
            "  inflating: /content/drones/drone_dataset/train/images/pic_253.jpg  \n",
            "  inflating: /content/drones/drone_dataset/train/images/pic_254.jpg  \n",
            "  inflating: /content/drones/drone_dataset/train/images/pic_256.jpg  \n",
            "  inflating: /content/drones/drone_dataset/train/images/pic_257.jpg  \n",
            "  inflating: /content/drones/drone_dataset/train/images/pic_258.jpg  \n",
            "  inflating: /content/drones/drone_dataset/train/images/pic_259.jpg  \n",
            "  inflating: /content/drones/drone_dataset/train/images/pic_260.jpg  \n",
            "  inflating: /content/drones/drone_dataset/train/images/pic_262.jpg  \n",
            "  inflating: /content/drones/drone_dataset/train/images/pic_263.jpg  \n",
            "  inflating: /content/drones/drone_dataset/train/images/pic_264.jpg  \n",
            "  inflating: /content/drones/drone_dataset/train/images/pic_265.jpg  \n",
            "  inflating: /content/drones/drone_dataset/train/images/pic_266.jpg  \n",
            "  inflating: /content/drones/drone_dataset/train/images/pic_267.jpg  \n",
            "  inflating: /content/drones/drone_dataset/train/images/pic_268.jpg  \n",
            "  inflating: /content/drones/drone_dataset/train/images/pic_269.jpg  \n",
            "  inflating: /content/drones/drone_dataset/train/images/pic_271.jpg  \n",
            "  inflating: /content/drones/drone_dataset/train/images/pic_272.jpg  \n",
            "  inflating: /content/drones/drone_dataset/train/images/pic_273.jpg  \n",
            "  inflating: /content/drones/drone_dataset/train/images/pic_274.jpg  \n",
            "  inflating: /content/drones/drone_dataset/train/images/pic_275.jpg  \n",
            "  inflating: /content/drones/drone_dataset/train/images/pic_276.jpg  \n",
            "  inflating: /content/drones/drone_dataset/train/images/pic_277.jpg  \n",
            "  inflating: /content/drones/drone_dataset/train/images/pic_278.jpg  \n",
            "  inflating: /content/drones/drone_dataset/train/images/pic_279.jpg  \n",
            "  inflating: /content/drones/drone_dataset/train/images/pic_280.jpg  \n",
            "  inflating: /content/drones/drone_dataset/train/images/pic_281.jpg  \n",
            "  inflating: /content/drones/drone_dataset/train/images/pic_283.jpg  \n",
            "  inflating: /content/drones/drone_dataset/train/images/pic_284.jpg  \n",
            "  inflating: /content/drones/drone_dataset/train/images/pic_285.jpg  \n",
            "  inflating: /content/drones/drone_dataset/train/images/pic_286.jpg  \n",
            "  inflating: /content/drones/drone_dataset/train/images/pic_287.jpg  \n",
            "  inflating: /content/drones/drone_dataset/train/images/pic_289.jpg  \n",
            "  inflating: /content/drones/drone_dataset/train/images/pic_290.jpg  \n",
            "  inflating: /content/drones/drone_dataset/train/images/pic_292.jpg  \n",
            "  inflating: /content/drones/drone_dataset/train/images/pic_293.jpg  \n",
            "  inflating: /content/drones/drone_dataset/train/images/pic_294.jpg  \n",
            "  inflating: /content/drones/drone_dataset/train/images/pic_295.jpg  \n",
            "  inflating: /content/drones/drone_dataset/train/images/pic_296.jpg  \n",
            "  inflating: /content/drones/drone_dataset/train/images/pic_297.jpg  \n",
            "  inflating: /content/drones/drone_dataset/train/images/pic_298.jpg  \n",
            "  inflating: /content/drones/drone_dataset/train/images/pic_299.jpg  \n",
            "  inflating: /content/drones/drone_dataset/train/images/pic_300.jpg  \n",
            "  inflating: /content/drones/drone_dataset/train/images/pic_301.jpg  \n",
            "  inflating: /content/drones/drone_dataset/train/images/pic_303.jpg  \n",
            "  inflating: /content/drones/drone_dataset/train/images/pic_304.jpg  \n",
            "  inflating: /content/drones/drone_dataset/train/images/pic_306.jpg  \n",
            "  inflating: /content/drones/drone_dataset/train/images/pic_307.jpg  \n",
            "  inflating: /content/drones/drone_dataset/train/images/pic_308.jpg  \n",
            "  inflating: /content/drones/drone_dataset/train/images/pic_309.jpg  \n",
            "  inflating: /content/drones/drone_dataset/train/images/pic_310.jpg  \n",
            "  inflating: /content/drones/drone_dataset/train/images/pic_311.jpg  \n",
            "  inflating: /content/drones/drone_dataset/train/images/pic_312.jpg  \n",
            "  inflating: /content/drones/drone_dataset/train/images/pic_313.jpg  \n",
            "  inflating: /content/drones/drone_dataset/train/images/pic_314.jpg  \n",
            "  inflating: /content/drones/drone_dataset/train/images/pic_315.jpg  \n",
            "  inflating: /content/drones/drone_dataset/train/images/pic_316.jpg  \n",
            "  inflating: /content/drones/drone_dataset/train/images/pic_317.jpg  \n",
            "  inflating: /content/drones/drone_dataset/train/images/pic_318.jpg  \n",
            "  inflating: /content/drones/drone_dataset/train/images/pic_319.jpg  \n",
            "  inflating: /content/drones/drone_dataset/train/images/pic_320.jpg  \n",
            "  inflating: /content/drones/drone_dataset/train/images/pic_321.jpg  \n",
            "  inflating: /content/drones/drone_dataset/train/images/pic_322.jpg  \n",
            "  inflating: /content/drones/drone_dataset/train/images/pic_323.jpg  \n",
            "  inflating: /content/drones/drone_dataset/train/images/pic_324.jpg  \n",
            "  inflating: /content/drones/drone_dataset/train/images/pic_325.jpg  \n",
            "  inflating: /content/drones/drone_dataset/train/images/pic_327.jpg  \n",
            "  inflating: /content/drones/drone_dataset/train/images/pic_328.jpg  \n",
            "  inflating: /content/drones/drone_dataset/train/images/pic_329.jpg  \n",
            "  inflating: /content/drones/drone_dataset/train/images/pic_330.jpg  \n",
            "  inflating: /content/drones/drone_dataset/train/images/pic_331.jpg  \n",
            "  inflating: /content/drones/drone_dataset/train/images/pic_332.jpg  \n",
            "  inflating: /content/drones/drone_dataset/train/images/pic_333.jpg  \n",
            "  inflating: /content/drones/drone_dataset/train/images/pic_337.jpg  \n",
            "  inflating: /content/drones/drone_dataset/train/images/pic_338.jpg  \n",
            "  inflating: /content/drones/drone_dataset/train/images/pic_339.jpg  \n",
            "  inflating: /content/drones/drone_dataset/train/images/pic_340.jpg  \n",
            "  inflating: /content/drones/drone_dataset/train/images/pic_341.jpg  \n",
            "  inflating: /content/drones/drone_dataset/train/images/pic_342.jpg  \n",
            "  inflating: /content/drones/drone_dataset/train/images/pic_343.jpg  \n",
            "  inflating: /content/drones/drone_dataset/train/images/pic_344.jpg  \n",
            "  inflating: /content/drones/drone_dataset/train/images/pic_345.jpg  \n",
            "  inflating: /content/drones/drone_dataset/train/images/pic_346.jpg  \n",
            "  inflating: /content/drones/drone_dataset/train/images/pic_348.jpg  \n",
            "  inflating: /content/drones/drone_dataset/train/images/pic_349.jpg  \n",
            "  inflating: /content/drones/drone_dataset/train/images/pic_350.jpg  \n",
            "  inflating: /content/drones/drone_dataset/train/images/pic_351.jpg  \n",
            "  inflating: /content/drones/drone_dataset/train/images/pic_352.jpg  \n",
            "  inflating: /content/drones/drone_dataset/train/images/pic_353.jpg  \n",
            "  inflating: /content/drones/drone_dataset/train/images/pic_354.jpg  \n",
            "  inflating: /content/drones/drone_dataset/train/images/pic_356.jpg  \n",
            "  inflating: /content/drones/drone_dataset/train/images/pic_357.jpg  \n",
            "  inflating: /content/drones/drone_dataset/train/images/pic_360.jpg  \n",
            "  inflating: /content/drones/drone_dataset/train/images/pic_361.jpg  \n",
            "  inflating: /content/drones/drone_dataset/train/images/pic_362.jpg  \n",
            "  inflating: /content/drones/drone_dataset/train/images/pic_363.jpg  \n",
            "  inflating: /content/drones/drone_dataset/train/images/pic_365.jpg  \n",
            "  inflating: /content/drones/drone_dataset/train/images/pic_367.jpg  \n",
            "  inflating: /content/drones/drone_dataset/train/images/pic_368.jpg  \n",
            "  inflating: /content/drones/drone_dataset/train/images/pic_370.jpg  \n",
            "  inflating: /content/drones/drone_dataset/train/images/pic_371.jpg  \n",
            "  inflating: /content/drones/drone_dataset/train/images/pic_372.jpg  \n",
            "  inflating: /content/drones/drone_dataset/train/images/pic_373.jpg  \n",
            "  inflating: /content/drones/drone_dataset/train/images/pic_375.jpg  \n",
            "  inflating: /content/drones/drone_dataset/train/images/pic_376.jpg  \n",
            "  inflating: /content/drones/drone_dataset/train/images/pic_378.jpg  \n",
            "  inflating: /content/drones/drone_dataset/train/images/pic_379.jpg  \n",
            "  inflating: /content/drones/drone_dataset/train/images/pic_380.jpg  \n",
            "  inflating: /content/drones/drone_dataset/train/images/pic_382.jpg  \n",
            "  inflating: /content/drones/drone_dataset/train/images/pic_384.jpg  \n",
            "  inflating: /content/drones/drone_dataset/train/images/pic_385.jpg  \n",
            "  inflating: /content/drones/drone_dataset/train/images/pic_386.jpg  \n",
            "  inflating: /content/drones/drone_dataset/train/images/pic_387.jpg  \n",
            "  inflating: /content/drones/drone_dataset/train/images/pic_388.jpg  \n",
            "  inflating: /content/drones/drone_dataset/train/images/pic_389.jpg  \n",
            "  inflating: /content/drones/drone_dataset/train/images/pic_390.jpg  \n",
            "  inflating: /content/drones/drone_dataset/train/images/pic_393.jpg  \n",
            "  inflating: /content/drones/drone_dataset/train/images/pic_394.jpg  \n",
            "  inflating: /content/drones/drone_dataset/train/images/pic_396.jpg  \n",
            "  inflating: /content/drones/drone_dataset/train/images/pic_397.jpg  \n",
            "  inflating: /content/drones/drone_dataset/train/images/pic_398.jpg  \n",
            "  inflating: /content/drones/drone_dataset/train/images/pic_401.jpg  \n",
            "  inflating: /content/drones/drone_dataset/train/images/pic_402.jpg  \n",
            "  inflating: /content/drones/drone_dataset/train/images/pic_403.jpg  \n",
            "  inflating: /content/drones/drone_dataset/train/images/pic_406.jpg  \n",
            "  inflating: /content/drones/drone_dataset/train/images/pic_407.jpg  \n",
            "  inflating: /content/drones/drone_dataset/train/images/pic_408.jpg  \n",
            "  inflating: /content/drones/drone_dataset/train/images/pic_410.jpg  \n",
            "  inflating: /content/drones/drone_dataset/train/images/pic_411.jpg  \n",
            "  inflating: /content/drones/drone_dataset/train/images/pic_413.jpg  \n",
            "  inflating: /content/drones/drone_dataset/train/images/pic_414.jpg  \n",
            "  inflating: /content/drones/drone_dataset/train/images/pic_415.jpg  \n",
            "  inflating: /content/drones/drone_dataset/train/images/pic_416.jpg  \n",
            "  inflating: /content/drones/drone_dataset/train/images/pic_417.jpg  \n",
            "  inflating: /content/drones/drone_dataset/train/images/pic_418.jpg  \n",
            "  inflating: /content/drones/drone_dataset/train/images/pic_419.jpg  \n",
            "  inflating: /content/drones/drone_dataset/train/images/pic_420.jpg  \n",
            "  inflating: /content/drones/drone_dataset/train/images/pic_421.jpg  \n",
            "  inflating: /content/drones/drone_dataset/train/images/pic_422.jpg  \n",
            "  inflating: /content/drones/drone_dataset/train/images/pic_424.jpg  \n",
            "  inflating: /content/drones/drone_dataset/train/images/pic_426.jpg  \n",
            "  inflating: /content/drones/drone_dataset/train/images/pic_427.jpg  \n",
            "  inflating: /content/drones/drone_dataset/train/images/pic_428.jpg  \n",
            "  inflating: /content/drones/drone_dataset/train/images/pic_429.jpg  \n",
            "  inflating: /content/drones/drone_dataset/train/images/pic_432.jpg  \n",
            "  inflating: /content/drones/drone_dataset/train/images/pic_433.jpg  \n",
            "  inflating: /content/drones/drone_dataset/train/images/pic_434.jpg  \n",
            "  inflating: /content/drones/drone_dataset/train/images/pic_435.jpg  \n",
            "  inflating: /content/drones/drone_dataset/train/images/pic_436.jpg  \n",
            "  inflating: /content/drones/drone_dataset/train/images/pic_437.jpg  \n",
            "  inflating: /content/drones/drone_dataset/train/images/pic_439.jpg  \n",
            "  inflating: /content/drones/drone_dataset/train/images/pic_440.jpg  \n",
            "  inflating: /content/drones/drone_dataset/train/images/pic_441.jpg  \n",
            "  inflating: /content/drones/drone_dataset/train/images/pic_442.jpg  \n",
            "  inflating: /content/drones/drone_dataset/train/images/pic_443.jpg  \n",
            "  inflating: /content/drones/drone_dataset/train/images/pic_444.jpg  \n",
            "  inflating: /content/drones/drone_dataset/train/images/pic_445.jpg  \n",
            "  inflating: /content/drones/drone_dataset/train/images/pic_447.jpg  \n",
            "  inflating: /content/drones/drone_dataset/train/images/pic_448.jpg  \n",
            "  inflating: /content/drones/drone_dataset/train/images/pic_449.jpg  \n",
            "  inflating: /content/drones/drone_dataset/train/images/pic_450.jpg  \n",
            "  inflating: /content/drones/drone_dataset/train/images/pic_451.jpg  \n",
            "  inflating: /content/drones/drone_dataset/train/images/pic_452.jpg  \n",
            "  inflating: /content/drones/drone_dataset/train/images/pic_453.jpg  \n",
            "  inflating: /content/drones/drone_dataset/train/images/pic_454.jpg  \n",
            "  inflating: /content/drones/drone_dataset/train/images/pic_455.jpg  \n",
            "  inflating: /content/drones/drone_dataset/train/images/pic_456.jpg  \n",
            "  inflating: /content/drones/drone_dataset/train/images/pic_457.jpg  \n",
            "  inflating: /content/drones/drone_dataset/train/images/pic_460.jpg  \n",
            "  inflating: /content/drones/drone_dataset/train/images/pic_461.jpg  \n",
            "  inflating: /content/drones/drone_dataset/train/images/pic_464.jpg  \n",
            "  inflating: /content/drones/drone_dataset/train/images/pic_466.jpg  \n",
            "  inflating: /content/drones/drone_dataset/train/images/pic_467.jpg  \n",
            "  inflating: /content/drones/drone_dataset/train/images/pic_468.jpg  \n",
            "  inflating: /content/drones/drone_dataset/train/images/pic_469.jpg  \n",
            "  inflating: /content/drones/drone_dataset/train/images/pic_470.jpg  \n",
            "  inflating: /content/drones/drone_dataset/train/images/pic_471.jpg  \n",
            "  inflating: /content/drones/drone_dataset/train/images/pic_472.jpg  \n",
            "  inflating: /content/drones/drone_dataset/train/images/pic_474.jpg  \n",
            "  inflating: /content/drones/drone_dataset/train/images/pic_475.jpg  \n",
            "  inflating: /content/drones/drone_dataset/train/images/pic_476.jpg  \n",
            "  inflating: /content/drones/drone_dataset/train/images/pic_477.jpg  \n",
            "  inflating: /content/drones/drone_dataset/train/images/pic_478.jpg  \n",
            "  inflating: /content/drones/drone_dataset/train/images/pic_480.jpg  \n",
            "  inflating: /content/drones/drone_dataset/train/images/pic_481.jpg  \n",
            "  inflating: /content/drones/drone_dataset/train/images/pic_482.jpg  \n",
            "  inflating: /content/drones/drone_dataset/train/images/pic_484.jpg  \n",
            "  inflating: /content/drones/drone_dataset/train/images/pic_485.jpg  \n",
            "  inflating: /content/drones/drone_dataset/train/images/pic_486.jpg  \n",
            "  inflating: /content/drones/drone_dataset/train/images/pic_487.jpg  \n",
            "  inflating: /content/drones/drone_dataset/train/images/pic_488.jpg  \n",
            "  inflating: /content/drones/drone_dataset/train/images/pic_489.jpg  \n",
            "  inflating: /content/drones/drone_dataset/train/images/pic_491.jpg  \n",
            "  inflating: /content/drones/drone_dataset/train/images/pic_492.jpg  \n",
            "  inflating: /content/drones/drone_dataset/train/images/pic_493.jpg  \n",
            "  inflating: /content/drones/drone_dataset/train/images/pic_495.jpg  \n",
            "  inflating: /content/drones/drone_dataset/train/images/pic_497.jpg  \n",
            "  inflating: /content/drones/drone_dataset/train/images/pic_498.jpg  \n",
            "  inflating: /content/drones/drone_dataset/train/images/pic_499.jpg  \n",
            "  inflating: /content/drones/drone_dataset/train/images/pic_500.jpg  \n",
            "  inflating: /content/drones/drone_dataset/train/images/pic_501.jpg  \n",
            "  inflating: /content/drones/drone_dataset/train/images/pic_502.jpg  \n",
            "  inflating: /content/drones/drone_dataset/train/images/pic_504.jpg  \n",
            "  inflating: /content/drones/drone_dataset/train/images/pic_505.jpg  \n",
            "  inflating: /content/drones/drone_dataset/train/images/pic_506.jpg  \n",
            "  inflating: /content/drones/drone_dataset/train/images/pic_507.jpg  \n",
            "  inflating: /content/drones/drone_dataset/train/images/pic_509.jpg  \n",
            "  inflating: /content/drones/drone_dataset/train/images/pic_510.jpg  \n",
            "  inflating: /content/drones/drone_dataset/train/images/pic_511.jpg  \n",
            "  inflating: /content/drones/drone_dataset/train/images/pic_513.jpg  \n",
            "  inflating: /content/drones/drone_dataset/train/images/pic_514.jpg  \n",
            "  inflating: /content/drones/drone_dataset/train/images/pic_515.jpg  \n",
            "  inflating: /content/drones/drone_dataset/train/images/pic_516.jpg  \n",
            "  inflating: /content/drones/drone_dataset/train/images/pic_517.jpg  \n",
            "  inflating: /content/drones/drone_dataset/train/images/pic_518.jpg  \n",
            "  inflating: /content/drones/drone_dataset/train/images/pic_519.jpg  \n",
            "  inflating: /content/drones/drone_dataset/train/images/pic_521.jpg  \n",
            "  inflating: /content/drones/drone_dataset/train/images/pic_522.jpg  \n",
            "  inflating: /content/drones/drone_dataset/train/images/pic_523.jpg  \n",
            "  inflating: /content/drones/drone_dataset/train/images/pic_524.jpg  \n",
            "  inflating: /content/drones/drone_dataset/train/images/pic_525.jpg  \n",
            "  inflating: /content/drones/drone_dataset/train/images/pic_526.jpg  \n",
            "  inflating: /content/drones/drone_dataset/train/images/pic_529.jpg  \n",
            "  inflating: /content/drones/drone_dataset/train/images/pic_531.jpg  \n",
            "  inflating: /content/drones/drone_dataset/train/images/pic_532.jpg  \n",
            "  inflating: /content/drones/drone_dataset/train/images/pic_534.jpg  \n",
            "  inflating: /content/drones/drone_dataset/train/images/pic_535.jpg  \n",
            "  inflating: /content/drones/drone_dataset/train/images/pic_536.jpg  \n",
            "  inflating: /content/drones/drone_dataset/train/images/pic_537.jpg  \n",
            "  inflating: /content/drones/drone_dataset/train/images/pic_539.jpg  \n",
            "  inflating: /content/drones/drone_dataset/train/images/pic_542.jpg  \n",
            "  inflating: /content/drones/drone_dataset/train/images/pic_543.jpg  \n",
            "  inflating: /content/drones/drone_dataset/train/images/pic_544.jpg  \n",
            "  inflating: /content/drones/drone_dataset/train/images/pic_545.jpg  \n",
            "  inflating: /content/drones/drone_dataset/train/images/pic_546.jpg  \n",
            "  inflating: /content/drones/drone_dataset/train/images/pic_547.jpg  \n",
            "  inflating: /content/drones/drone_dataset/train/images/pic_548.jpg  \n",
            "  inflating: /content/drones/drone_dataset/train/images/pic_549.jpg  \n",
            "  inflating: /content/drones/drone_dataset/train/images/pic_550.jpg  \n",
            "  inflating: /content/drones/drone_dataset/train/images/pic_551.jpg  \n",
            "  inflating: /content/drones/drone_dataset/train/images/pic_552.jpg  \n",
            "  inflating: /content/drones/drone_dataset/train/images/pic_554.jpg  \n",
            "  inflating: /content/drones/drone_dataset/train/images/pic_555.jpg  \n",
            "  inflating: /content/drones/drone_dataset/train/images/pic_556.jpg  \n",
            "  inflating: /content/drones/drone_dataset/train/images/pic_557.jpg  \n",
            "  inflating: /content/drones/drone_dataset/train/images/pic_559.jpg  \n",
            "  inflating: /content/drones/drone_dataset/train/images/pic_560.jpg  \n",
            "  inflating: /content/drones/drone_dataset/train/images/pic_561.jpg  \n",
            "  inflating: /content/drones/drone_dataset/train/images/pic_562.jpg  \n",
            "  inflating: /content/drones/drone_dataset/train/images/pic_563.jpg  \n",
            "  inflating: /content/drones/drone_dataset/train/images/pic_564.jpg  \n",
            "  inflating: /content/drones/drone_dataset/train/images/pic_566.jpg  \n",
            "  inflating: /content/drones/drone_dataset/train/images/pic_567.jpg  \n",
            "  inflating: /content/drones/drone_dataset/train/images/pic_568.jpg  \n",
            "  inflating: /content/drones/drone_dataset/train/images/pic_569.jpg  \n",
            "  inflating: /content/drones/drone_dataset/train/images/pic_570.jpg  \n",
            "  inflating: /content/drones/drone_dataset/train/images/pic_571.jpg  \n",
            "  inflating: /content/drones/drone_dataset/train/images/pic_573.jpg  \n",
            "  inflating: /content/drones/drone_dataset/train/images/pic_574.jpg  \n",
            "  inflating: /content/drones/drone_dataset/train/images/pic_575.jpg  \n",
            "  inflating: /content/drones/drone_dataset/train/images/pic_576.jpg  \n",
            "  inflating: /content/drones/drone_dataset/train/images/pic_577.jpg  \n",
            "  inflating: /content/drones/drone_dataset/train/images/pic_578.jpg  \n",
            "  inflating: /content/drones/drone_dataset/train/images/pic_579.jpg  \n",
            "  inflating: /content/drones/drone_dataset/train/images/pic_580.jpg  \n",
            "  inflating: /content/drones/drone_dataset/train/images/pic_581.jpg  \n",
            "  inflating: /content/drones/drone_dataset/train/images/pic_582.jpg  \n",
            "  inflating: /content/drones/drone_dataset/train/images/pic_583.jpg  \n",
            "  inflating: /content/drones/drone_dataset/train/images/pic_584.jpg  \n",
            "  inflating: /content/drones/drone_dataset/train/images/pic_586.jpg  \n",
            "  inflating: /content/drones/drone_dataset/train/images/pic_587.jpg  \n",
            "  inflating: /content/drones/drone_dataset/train/images/pic_589.jpg  \n",
            "  inflating: /content/drones/drone_dataset/train/images/pic_590.jpg  \n",
            "  inflating: /content/drones/drone_dataset/train/images/pic_591.jpg  \n",
            "  inflating: /content/drones/drone_dataset/train/images/pic_593.jpg  \n",
            "  inflating: /content/drones/drone_dataset/train/images/pic_594.jpg  \n",
            "  inflating: /content/drones/drone_dataset/train/images/pic_595.jpg  \n",
            "  inflating: /content/drones/drone_dataset/train/images/pic_596.jpg  \n",
            "  inflating: /content/drones/drone_dataset/train/images/pic_598.jpg  \n",
            "  inflating: /content/drones/drone_dataset/train/images/pic_600.jpg  \n",
            "  inflating: /content/drones/drone_dataset/train/images/pic_601.jpg  \n",
            "  inflating: /content/drones/drone_dataset/train/images/pic_602.jpg  \n",
            "  inflating: /content/drones/drone_dataset/train/images/pic_604.jpg  \n",
            "  inflating: /content/drones/drone_dataset/train/images/pic_605.jpg  \n",
            "  inflating: /content/drones/drone_dataset/train/images/pic_607.jpg  \n",
            "  inflating: /content/drones/drone_dataset/train/images/pic_608.jpg  \n",
            "  inflating: /content/drones/drone_dataset/train/images/pic_609.jpg  \n",
            "  inflating: /content/drones/drone_dataset/train/images/pic_610.jpg  \n",
            "  inflating: /content/drones/drone_dataset/train/images/pic_612.jpg  \n",
            "  inflating: /content/drones/drone_dataset/train/images/pic_615.jpg  \n",
            "  inflating: /content/drones/drone_dataset/train/images/pic_616.jpg  \n",
            "  inflating: /content/drones/drone_dataset/train/images/pic_617.jpg  \n",
            "  inflating: /content/drones/drone_dataset/train/images/pic_618.jpg  \n",
            "  inflating: /content/drones/drone_dataset/train/images/pic_619.jpg  \n",
            "  inflating: /content/drones/drone_dataset/train/images/pic_620.jpg  \n",
            "  inflating: /content/drones/drone_dataset/train/images/pic_622.jpg  \n",
            "  inflating: /content/drones/drone_dataset/train/images/pic_623.jpg  \n",
            "  inflating: /content/drones/drone_dataset/train/images/pic_625.jpg  \n",
            "  inflating: /content/drones/drone_dataset/train/images/pic_626.jpg  \n",
            "  inflating: /content/drones/drone_dataset/train/images/pic_627.jpg  \n",
            "  inflating: /content/drones/drone_dataset/train/images/pic_628.jpg  \n",
            "  inflating: /content/drones/drone_dataset/train/images/pic_630.jpg  \n",
            "  inflating: /content/drones/drone_dataset/train/images/pic_631.jpg  \n",
            "  inflating: /content/drones/drone_dataset/train/images/pic_632.jpg  \n",
            "  inflating: /content/drones/drone_dataset/train/images/pic_633.jpg  \n",
            "  inflating: /content/drones/drone_dataset/train/images/pic_634.jpg  \n",
            "  inflating: /content/drones/drone_dataset/train/images/pic_636.jpg  \n",
            "  inflating: /content/drones/drone_dataset/train/images/pic_637.jpg  \n",
            "  inflating: /content/drones/drone_dataset/train/images/pic_638.jpg  \n",
            "  inflating: /content/drones/drone_dataset/train/images/pic_639.jpg  \n",
            "  inflating: /content/drones/drone_dataset/train/images/pic_640.jpg  \n",
            "  inflating: /content/drones/drone_dataset/train/images/pic_642.jpg  \n",
            "  inflating: /content/drones/drone_dataset/train/images/pic_643.jpg  \n",
            "  inflating: /content/drones/drone_dataset/train/images/pic_644.jpg  \n",
            "  inflating: /content/drones/drone_dataset/train/images/pic_645.jpg  \n",
            "  inflating: /content/drones/drone_dataset/train/images/pic_646.jpg  \n",
            "  inflating: /content/drones/drone_dataset/train/images/pic_647.jpg  \n",
            "  inflating: /content/drones/drone_dataset/train/images/pic_648.jpg  \n",
            "  inflating: /content/drones/drone_dataset/train/images/pic_649.jpg  \n",
            "  inflating: /content/drones/drone_dataset/train/images/pic_650.jpg  \n",
            "  inflating: /content/drones/drone_dataset/train/images/pic_651.jpg  \n",
            "  inflating: /content/drones/drone_dataset/train/images/pic_652.jpg  \n",
            "  inflating: /content/drones/drone_dataset/train/images/pic_653.jpg  \n",
            "  inflating: /content/drones/drone_dataset/train/images/pic_654.jpg  \n",
            "  inflating: /content/drones/drone_dataset/train/images/pic_655.jpg  \n",
            "  inflating: /content/drones/drone_dataset/train/images/pic_656.jpg  \n",
            "  inflating: /content/drones/drone_dataset/train/images/pic_657.jpg  \n",
            "  inflating: /content/drones/drone_dataset/train/images/pic_658.jpg  \n",
            "  inflating: /content/drones/drone_dataset/train/images/pic_659.jpg  \n",
            "  inflating: /content/drones/drone_dataset/train/images/pic_660.jpg  \n",
            "  inflating: /content/drones/drone_dataset/train/images/pic_661.jpg  \n",
            "  inflating: /content/drones/drone_dataset/train/images/pic_662.jpg  \n",
            "  inflating: /content/drones/drone_dataset/train/images/pic_663.jpg  \n",
            "  inflating: /content/drones/drone_dataset/train/images/pic_664.jpg  \n",
            "  inflating: /content/drones/drone_dataset/train/images/pic_665.jpg  \n",
            "  inflating: /content/drones/drone_dataset/train/images/pic_666.jpg  \n",
            "  inflating: /content/drones/drone_dataset/train/images/pic_667.jpg  \n",
            "  inflating: /content/drones/drone_dataset/train/images/pic_668.jpg  \n",
            "  inflating: /content/drones/drone_dataset/train/images/pic_669.jpg  \n",
            "  inflating: /content/drones/drone_dataset/train/images/pic_670.jpg  \n",
            "  inflating: /content/drones/drone_dataset/train/images/pic_671.jpg  \n",
            "  inflating: /content/drones/drone_dataset/train/images/pic_672.jpg  \n",
            "  inflating: /content/drones/drone_dataset/train/images/pic_673.jpg  \n",
            "  inflating: /content/drones/drone_dataset/train/images/pic_674.jpg  \n",
            "  inflating: /content/drones/drone_dataset/train/images/pic_675.jpg  \n",
            "  inflating: /content/drones/drone_dataset/train/images/pic_676.jpg  \n",
            "  inflating: /content/drones/drone_dataset/train/images/pic_677.jpg  \n",
            "  inflating: /content/drones/drone_dataset/train/images/pic_678.jpg  \n",
            "  inflating: /content/drones/drone_dataset/train/images/pic_680.jpg  \n",
            "  inflating: /content/drones/drone_dataset/train/images/pic_681.jpg  \n",
            "  inflating: /content/drones/drone_dataset/train/images/pic_682.jpg  \n",
            "  inflating: /content/drones/drone_dataset/train/images/pic_683.jpg  \n",
            "  inflating: /content/drones/drone_dataset/train/images/pic_684.jpg  \n",
            "  inflating: /content/drones/drone_dataset/train/images/pic_685.jpg  \n",
            "  inflating: /content/drones/drone_dataset/train/images/pic_686.jpg  \n",
            "  inflating: /content/drones/drone_dataset/train/images/pic_688.jpg  \n",
            "  inflating: /content/drones/drone_dataset/train/images/pic_689.jpg  \n",
            "  inflating: /content/drones/drone_dataset/train/images/pic_690.jpg  \n",
            "  inflating: /content/drones/drone_dataset/train/images/pic_691.jpg  \n",
            "  inflating: /content/drones/drone_dataset/train/images/pic_692.jpg  \n",
            "  inflating: /content/drones/drone_dataset/train/images/pic_695.jpg  \n",
            "  inflating: /content/drones/drone_dataset/train/images/pic_696.jpg  \n",
            "  inflating: /content/drones/drone_dataset/train/images/pic_697.jpg  \n",
            "  inflating: /content/drones/drone_dataset/train/images/pic_698.jpg  \n",
            "  inflating: /content/drones/drone_dataset/train/images/pic_699.jpg  \n",
            "  inflating: /content/drones/drone_dataset/train/images/pic_700.jpg  \n",
            "  inflating: /content/drones/drone_dataset/train/images/pic_701.jpg  \n",
            "  inflating: /content/drones/drone_dataset/train/images/pic_702.jpg  \n",
            "  inflating: /content/drones/drone_dataset/train/images/pic_703.jpg  \n",
            "  inflating: /content/drones/drone_dataset/train/images/pic_704.jpg  \n",
            "  inflating: /content/drones/drone_dataset/train/images/pic_705.jpg  \n",
            "  inflating: /content/drones/drone_dataset/train/images/pic_706.jpg  \n",
            "  inflating: /content/drones/drone_dataset/train/images/pic_707.jpg  \n",
            "  inflating: /content/drones/drone_dataset/train/images/pic_708.jpg  \n",
            "  inflating: /content/drones/drone_dataset/train/images/pic_710.jpg  \n",
            "  inflating: /content/drones/drone_dataset/train/images/pic_711.jpg  \n",
            "  inflating: /content/drones/drone_dataset/train/images/pic_712.jpg  \n",
            "  inflating: /content/drones/drone_dataset/train/images/pic_714.jpg  \n",
            "  inflating: /content/drones/drone_dataset/train/images/pic_715.jpg  \n",
            "  inflating: /content/drones/drone_dataset/train/images/pic_717.jpg  \n",
            "  inflating: /content/drones/drone_dataset/train/images/pic_718.jpg  \n",
            "  inflating: /content/drones/drone_dataset/train/images/pic_719.jpg  \n",
            "  inflating: /content/drones/drone_dataset/train/images/pic_720.jpg  \n",
            "  inflating: /content/drones/drone_dataset/train/images/pic_721.jpg  \n",
            "  inflating: /content/drones/drone_dataset/train/images/pic_722.jpg  \n",
            "  inflating: /content/drones/drone_dataset/train/images/pic_723.jpg  \n",
            "  inflating: /content/drones/drone_dataset/train/images/pic_724.jpg  \n",
            "  inflating: /content/drones/drone_dataset/train/images/pic_725.jpg  \n",
            "  inflating: /content/drones/drone_dataset/train/images/pic_726.jpg  \n",
            "  inflating: /content/drones/drone_dataset/train/images/pic_727.jpg  \n",
            "  inflating: /content/drones/drone_dataset/train/images/pic_728.jpg  \n",
            "  inflating: /content/drones/drone_dataset/train/images/pic_729.jpg  \n",
            "  inflating: /content/drones/drone_dataset/train/images/pic_730.jpg  \n",
            "  inflating: /content/drones/drone_dataset/train/images/pic_733.jpg  \n",
            "  inflating: /content/drones/drone_dataset/train/images/pic_735.jpg  \n",
            "  inflating: /content/drones/drone_dataset/train/images/pic_736.jpg  \n",
            "  inflating: /content/drones/drone_dataset/train/images/pic_737.jpg  \n",
            "  inflating: /content/drones/drone_dataset/train/images/pic_738.jpg  \n",
            "  inflating: /content/drones/drone_dataset/train/images/pic_739.jpg  \n",
            "  inflating: /content/drones/drone_dataset/train/images/pic_740.jpg  \n",
            "  inflating: /content/drones/drone_dataset/train/images/pic_741.jpg  \n",
            "  inflating: /content/drones/drone_dataset/train/images/pic_743.jpg  \n",
            "  inflating: /content/drones/drone_dataset/train/images/pic_744.jpg  \n",
            "  inflating: /content/drones/drone_dataset/train/images/pic_746.jpg  \n",
            "  inflating: /content/drones/drone_dataset/train/images/pic_747.jpg  \n",
            "  inflating: /content/drones/drone_dataset/train/images/pic_749.jpg  \n",
            "  inflating: /content/drones/drone_dataset/train/images/pic_750.jpg  \n",
            "  inflating: /content/drones/drone_dataset/train/images/pic_752.jpg  \n",
            "  inflating: /content/drones/drone_dataset/train/images/pic_754.jpg  \n",
            "  inflating: /content/drones/drone_dataset/train/images/pic_755.jpg  \n",
            "  inflating: /content/drones/drone_dataset/train/images/pic_757.jpg  \n",
            "  inflating: /content/drones/drone_dataset/train/images/pic_759.jpg  \n",
            "  inflating: /content/drones/drone_dataset/train/images/pic_761.jpg  \n",
            "  inflating: /content/drones/drone_dataset/train/images/pic_762.jpg  \n",
            "  inflating: /content/drones/drone_dataset/train/images/pic_763.jpg  \n",
            "  inflating: /content/drones/drone_dataset/train/images/pic_765.jpg  \n",
            "  inflating: /content/drones/drone_dataset/train/images/pic_766.jpg  \n",
            "  inflating: /content/drones/drone_dataset/train/images/pic_767.jpg  \n",
            "  inflating: /content/drones/drone_dataset/train/images/pic_770.jpg  \n",
            "  inflating: /content/drones/drone_dataset/train/images/pic_772.jpg  \n",
            "  inflating: /content/drones/drone_dataset/train/images/pic_773.jpg  \n",
            "  inflating: /content/drones/drone_dataset/train/images/pic_774.jpg  \n",
            "  inflating: /content/drones/drone_dataset/train/images/pic_775.jpg  \n",
            "  inflating: /content/drones/drone_dataset/train/images/pic_776.jpg  \n",
            "  inflating: /content/drones/drone_dataset/train/images/pic_778.jpg  \n",
            "  inflating: /content/drones/drone_dataset/train/images/pic_780.jpg  \n",
            "  inflating: /content/drones/drone_dataset/train/images/pic_781.jpg  \n",
            "  inflating: /content/drones/drone_dataset/train/images/pic_782.jpg  \n",
            "  inflating: /content/drones/drone_dataset/train/images/pic_785.jpg  \n",
            "  inflating: /content/drones/drone_dataset/train/images/pic_786.jpg  \n",
            "  inflating: /content/drones/drone_dataset/train/images/pic_787.jpg  \n",
            "  inflating: /content/drones/drone_dataset/train/images/pic_789.jpg  \n",
            "  inflating: /content/drones/drone_dataset/train/images/pic_790.jpg  \n",
            "  inflating: /content/drones/drone_dataset/train/images/pic_792.jpg  \n",
            "  inflating: /content/drones/drone_dataset/train/images/pic_794.jpg  \n",
            "  inflating: /content/drones/drone_dataset/train/images/pic_797.jpg  \n",
            "  inflating: /content/drones/drone_dataset/train/images/pic_798.jpg  \n",
            "  inflating: /content/drones/drone_dataset/train/images/pic_799.jpg  \n",
            "  inflating: /content/drones/drone_dataset/train/images/pic_801.jpg  \n",
            "  inflating: /content/drones/drone_dataset/train/images/pic_802.jpg  \n",
            "  inflating: /content/drones/drone_dataset/train/images/pic_804.jpg  \n",
            "  inflating: /content/drones/drone_dataset/train/images/pic_806.jpg  \n",
            "  inflating: /content/drones/drone_dataset/train/images/pic_808.jpg  \n",
            "  inflating: /content/drones/drone_dataset/train/images/pic_810.jpg  \n",
            "  inflating: /content/drones/drone_dataset/train/images/pic_811.jpg  \n",
            "  inflating: /content/drones/drone_dataset/train/images/pic_812.jpg  \n",
            "  inflating: /content/drones/drone_dataset/train/images/pic_813.jpg  \n",
            "  inflating: /content/drones/drone_dataset/train/images/pic_814.jpg  \n",
            "  inflating: /content/drones/drone_dataset/train/images/pic_815.jpg  \n",
            "  inflating: /content/drones/drone_dataset/train/images/pic_817.jpg  \n",
            "  inflating: /content/drones/drone_dataset/train/images/pic_818.jpg  \n",
            "  inflating: /content/drones/drone_dataset/train/images/pic_820.jpg  \n",
            "  inflating: /content/drones/drone_dataset/train/images/pic_821.jpg  \n",
            "  inflating: /content/drones/drone_dataset/train/images/pic_822.jpg  \n",
            "  inflating: /content/drones/drone_dataset/train/images/pic_823.jpg  \n",
            "  inflating: /content/drones/drone_dataset/train/images/pic_826.jpg  \n",
            "  inflating: /content/drones/drone_dataset/train/images/pic_828.jpg  \n",
            "  inflating: /content/drones/drone_dataset/train/images/pic_831.jpg  \n",
            "  inflating: /content/drones/drone_dataset/train/images/pic_833.jpg  \n",
            "  inflating: /content/drones/drone_dataset/train/images/pic_834.jpg  \n",
            "  inflating: /content/drones/drone_dataset/train/images/pic_835.jpg  \n",
            "  inflating: /content/drones/drone_dataset/train/images/pic_836.jpg  \n",
            "  inflating: /content/drones/drone_dataset/train/images/pic_837.jpg  \n",
            "  inflating: /content/drones/drone_dataset/train/images/pic_838.jpg  \n",
            "  inflating: /content/drones/drone_dataset/train/images/pic_839.jpg  \n",
            "  inflating: /content/drones/drone_dataset/train/images/pic_841.jpg  \n",
            "  inflating: /content/drones/drone_dataset/train/images/pic_842.jpg  \n",
            "  inflating: /content/drones/drone_dataset/train/images/pic_843.jpg  \n",
            "  inflating: /content/drones/drone_dataset/train/images/pic_844.jpg  \n",
            "  inflating: /content/drones/drone_dataset/train/images/pic_845.jpg  \n",
            "  inflating: /content/drones/drone_dataset/train/images/pic_846.jpg  \n",
            "  inflating: /content/drones/drone_dataset/train/images/pic_849.jpg  \n",
            "  inflating: /content/drones/drone_dataset/train/images/pic_852.jpg  \n",
            "  inflating: /content/drones/drone_dataset/train/images/pic_854.jpg  \n",
            "  inflating: /content/drones/drone_dataset/train/images/pic_856.jpg  \n",
            "  inflating: /content/drones/drone_dataset/train/images/pic_857.jpg  \n",
            "  inflating: /content/drones/drone_dataset/train/images/pic_858.jpg  \n",
            "  inflating: /content/drones/drone_dataset/train/images/pic_859.jpg  \n",
            "  inflating: /content/drones/drone_dataset/train/images/pic_861.jpg  \n",
            "  inflating: /content/drones/drone_dataset/train/images/pic_862.jpg  \n",
            "  inflating: /content/drones/drone_dataset/train/images/pic_863.jpg  \n",
            "  inflating: /content/drones/drone_dataset/train/images/pic_867.jpg  \n",
            "  inflating: /content/drones/drone_dataset/train/images/pic_868.jpg  \n",
            "  inflating: /content/drones/drone_dataset/train/images/pic_869.jpg  \n",
            "  inflating: /content/drones/drone_dataset/train/images/pic_870.jpg  \n",
            "  inflating: /content/drones/drone_dataset/train/images/pic_871.jpg  \n",
            "  inflating: /content/drones/drone_dataset/train/images/pic_875.jpg  \n",
            "  inflating: /content/drones/drone_dataset/train/images/pic_878.jpg  \n",
            "  inflating: /content/drones/drone_dataset/train/images/pic_880.jpg  \n",
            "  inflating: /content/drones/drone_dataset/train/images/pic_882.jpg  \n",
            "  inflating: /content/drones/drone_dataset/train/images/pic_883.jpg  \n",
            "  inflating: /content/drones/drone_dataset/train/images/pic_884.jpg  \n",
            "  inflating: /content/drones/drone_dataset/train/images/pic_885.jpg  \n",
            "  inflating: /content/drones/drone_dataset/train/images/pic_887.jpg  \n",
            "  inflating: /content/drones/drone_dataset/train/images/pic_888.jpg  \n",
            "  inflating: /content/drones/drone_dataset/train/images/pic_890.jpg  \n",
            "  inflating: /content/drones/drone_dataset/train/images/pic_892.jpg  \n",
            "  inflating: /content/drones/drone_dataset/train/images/pic_893.jpg  \n",
            "  inflating: /content/drones/drone_dataset/train/images/pic_896.jpg  \n",
            "  inflating: /content/drones/drone_dataset/train/images/pic_898.jpg  \n",
            "  inflating: /content/drones/drone_dataset/train/images/pic_899.jpg  \n",
            "  inflating: /content/drones/drone_dataset/train/images/pic_901.jpg  \n",
            "  inflating: /content/drones/drone_dataset/train/images/pic_904.jpg  \n",
            "  inflating: /content/drones/drone_dataset/train/images/pic_905.jpg  \n",
            "  inflating: /content/drones/drone_dataset/train/images/pic_906.jpg  \n",
            "  inflating: /content/drones/drone_dataset/train/images/pic_909.jpg  \n",
            "  inflating: /content/drones/drone_dataset/train/images/pic_910.jpg  \n",
            "  inflating: /content/drones/drone_dataset/train/images/pic_911.jpg  \n",
            "  inflating: /content/drones/drone_dataset/train/images/pic_912.jpg  \n",
            "  inflating: /content/drones/drone_dataset/train/images/pic_914.jpg  \n",
            "  inflating: /content/drones/drone_dataset/train/images/pic_915.jpg  \n",
            "  inflating: /content/drones/drone_dataset/train/images/pic_917.jpg  \n",
            "  inflating: /content/drones/drone_dataset/train/images/pic_918.jpg  \n",
            "  inflating: /content/drones/drone_dataset/train/images/pic_921.jpg  \n",
            "  inflating: /content/drones/drone_dataset/train/images/pic_924.jpg  \n",
            "  inflating: /content/drones/drone_dataset/train/images/pic_927.jpg  \n",
            "  inflating: /content/drones/drone_dataset/train/images/pic_928.jpg  \n",
            "  inflating: /content/drones/drone_dataset/train/images/pic_930.jpg  \n",
            "  inflating: /content/drones/drone_dataset/train/images/pic_932.jpg  \n",
            "  inflating: /content/drones/drone_dataset/train/images/pic_935.jpg  \n",
            "  inflating: /content/drones/drone_dataset/train/images/pic_937.jpg  \n",
            "  inflating: /content/drones/drone_dataset/train/images/pic_939.jpg  \n",
            "  inflating: /content/drones/drone_dataset/train/images/pic_940.jpg  \n",
            "  inflating: /content/drones/drone_dataset/train/images/pic_942.jpg  \n",
            "  inflating: /content/drones/drone_dataset/train/images/pic_943.jpg  \n",
            "  inflating: /content/drones/drone_dataset/train/images/pic_945.jpg  \n",
            "  inflating: /content/drones/drone_dataset/train/images/pic_946.jpg  \n",
            "  inflating: /content/drones/drone_dataset/train/images/pic_950.jpg  \n",
            "  inflating: /content/drones/drone_dataset/train/images/pic_952.jpg  \n",
            "  inflating: /content/drones/drone_dataset/train/images/pic_953.jpg  \n",
            "  inflating: /content/drones/drone_dataset/train/images/pic_954.jpg  \n",
            "  inflating: /content/drones/drone_dataset/train/images/pic_957.jpg  \n",
            "  inflating: /content/drones/drone_dataset/train/images/pic_959.jpg  \n",
            "  inflating: /content/drones/drone_dataset/train/images/pic_961.jpg  \n",
            "  inflating: /content/drones/drone_dataset/train/images/pic_962.jpg  \n",
            "  inflating: /content/drones/drone_dataset/train/images/pic_963.jpg  \n",
            "  inflating: /content/drones/drone_dataset/train/images/pic_964.jpg  \n",
            "  inflating: /content/drones/drone_dataset/train/images/pic_965.jpg  \n",
            "  inflating: /content/drones/drone_dataset/train/images/pic_966.jpg  \n",
            "  inflating: /content/drones/drone_dataset/train/images/pic_967.jpg  \n",
            "  inflating: /content/drones/drone_dataset/train/images/pic_970.jpg  \n",
            "  inflating: /content/drones/drone_dataset/train/images/pic_971.jpg  \n",
            "  inflating: /content/drones/drone_dataset/train/images/pic_973.jpg  \n",
            "  inflating: /content/drones/drone_dataset/train/images/pic_975.jpg  \n",
            "  inflating: /content/drones/drone_dataset/train/images/pic_976.jpg  \n",
            "  inflating: /content/drones/drone_dataset/train/images/pic_981.jpg  \n",
            "  inflating: /content/drones/drone_dataset/train/images/pic_982.jpg  \n",
            "  inflating: /content/drones/drone_dataset/train/images/pic_983.jpg  \n",
            "  inflating: /content/drones/drone_dataset/train/images/pic_987.jpg  \n",
            "  inflating: /content/drones/drone_dataset/train/images/pic_991.jpg  \n",
            "  inflating: /content/drones/drone_dataset/train/images/pic_998.jpg  \n",
            "  inflating: /content/drones/drone_dataset/train/images/scene00001.jpg  \n",
            "  inflating: /content/drones/drone_dataset/train/images/scene00016.jpg  \n",
            "  inflating: /content/drones/drone_dataset/train/images/scene00031.jpg  \n",
            "  inflating: /content/drones/drone_dataset/train/images/scene00046.jpg  \n",
            "  inflating: /content/drones/drone_dataset/train/images/scene00061.jpg  \n",
            "  inflating: /content/drones/drone_dataset/train/images/scene00076.jpg  \n",
            "  inflating: /content/drones/drone_dataset/train/images/scene00091.jpg  \n",
            "  inflating: /content/drones/drone_dataset/train/images/scene00106.jpg  \n",
            "  inflating: /content/drones/drone_dataset/train/images/scene00121.jpg  \n",
            "  inflating: /content/drones/drone_dataset/train/images/scene00136.jpg  \n",
            "  inflating: /content/drones/drone_dataset/train/images/scene00151.jpg  \n",
            "  inflating: /content/drones/drone_dataset/train/images/scene00166.jpg  \n",
            "  inflating: /content/drones/drone_dataset/train/images/scene00181.jpg  \n",
            "  inflating: /content/drones/drone_dataset/train/images/scene00196.jpg  \n",
            "  inflating: /content/drones/drone_dataset/train/images/scene00211.jpg  \n",
            "  inflating: /content/drones/drone_dataset/train/images/scene00226.jpg  \n",
            "  inflating: /content/drones/drone_dataset/train/images/scene00241.jpg  \n",
            "  inflating: /content/drones/drone_dataset/train/images/scene00256.jpg  \n",
            "  inflating: /content/drones/drone_dataset/train/images/scene00271.jpg  \n",
            "  inflating: /content/drones/drone_dataset/train/images/scene00286.jpg  \n",
            "  inflating: /content/drones/drone_dataset/train/images/scene00301.jpg  \n",
            "  inflating: /content/drones/drone_dataset/train/images/scene00316.jpg  \n",
            "  inflating: /content/drones/drone_dataset/train/images/scene00331.jpg  \n",
            "  inflating: /content/drones/drone_dataset/train/images/scene00346.jpg  \n",
            "  inflating: /content/drones/drone_dataset/train/images/scene00361.jpg  \n",
            "  inflating: /content/drones/drone_dataset/train/images/scene00376.jpg  \n",
            "  inflating: /content/drones/drone_dataset/train/images/scene00391.jpg  \n",
            "  inflating: /content/drones/drone_dataset/train/images/scene00406.jpg  \n",
            "  inflating: /content/drones/drone_dataset/train/images/scene00421.jpg  \n",
            "  inflating: /content/drones/drone_dataset/train/images/scene00436.jpg  \n",
            "  inflating: /content/drones/drone_dataset/train/images/scene00451.jpg  \n",
            "  inflating: /content/drones/drone_dataset/train/images/scene00466.jpg  \n",
            "  inflating: /content/drones/drone_dataset/train/images/scene00481.jpg  \n",
            "  inflating: /content/drones/drone_dataset/train/images/scene00496.jpg  \n",
            "  inflating: /content/drones/drone_dataset/train/images/scene00511.jpg  \n",
            "  inflating: /content/drones/drone_dataset/train/images/scene00526.jpg  \n",
            "  inflating: /content/drones/drone_dataset/train/images/scene00541.jpg  \n",
            "  inflating: /content/drones/drone_dataset/train/images/scene00556.jpg  \n",
            "  inflating: /content/drones/drone_dataset/train/images/scene00571.jpg  \n",
            "  inflating: /content/drones/drone_dataset/train/images/scene00586.jpg  \n",
            "  inflating: /content/drones/drone_dataset/train/images/scene00601.jpg  \n",
            "  inflating: /content/drones/drone_dataset/train/images/scene00616.jpg  \n",
            "  inflating: /content/drones/drone_dataset/train/images/scene00631.jpg  \n",
            "  inflating: /content/drones/drone_dataset/train/images/scene00646.jpg  \n",
            "  inflating: /content/drones/drone_dataset/train/images/scene00661.jpg  \n",
            "  inflating: /content/drones/drone_dataset/train/images/scene00676.jpg  \n",
            "  inflating: /content/drones/drone_dataset/train/images/scene00691.jpg  \n",
            "  inflating: /content/drones/drone_dataset/train/images/scene00706.jpg  \n",
            "  inflating: /content/drones/drone_dataset/train/images/scene00721.jpg  \n",
            "  inflating: /content/drones/drone_dataset/train/images/scene00736.jpg  \n",
            "  inflating: /content/drones/drone_dataset/train/images/scene00751.jpg  \n",
            "  inflating: /content/drones/drone_dataset/train/images/scene00766.jpg  \n",
            "  inflating: /content/drones/drone_dataset/train/images/scene00781.jpg  \n",
            "  inflating: /content/drones/drone_dataset/train/images/scene00796.jpg  \n",
            "  inflating: /content/drones/drone_dataset/train/images/scene00811.jpg  \n",
            "  inflating: /content/drones/drone_dataset/train/images/scene00826.jpg  \n",
            "  inflating: /content/drones/drone_dataset/train/images/scene00841.jpg  \n",
            "  inflating: /content/drones/drone_dataset/train/images/scene00856.jpg  \n",
            "  inflating: /content/drones/drone_dataset/train/images/scene00871.jpg  \n",
            "  inflating: /content/drones/drone_dataset/train/images/scene00886.jpg  \n",
            "  inflating: /content/drones/drone_dataset/train/images/scene00901.jpg  \n",
            "  inflating: /content/drones/drone_dataset/train/images/scene00916.jpg  \n",
            "  inflating: /content/drones/drone_dataset/train/images/scene00931.jpg  \n",
            "  inflating: /content/drones/drone_dataset/train/images/scene00946.jpg  \n",
            "  inflating: /content/drones/drone_dataset/train/images/scene00961.jpg  \n",
            "  inflating: /content/drones/drone_dataset/train/images/scene00976.jpg  \n",
            "  inflating: /content/drones/drone_dataset/train/images/scene00991.jpg  \n",
            "  inflating: /content/drones/drone_dataset/train/images/scene01006.jpg  \n",
            "  inflating: /content/drones/drone_dataset/train/images/scene01021.jpg  \n",
            "  inflating: /content/drones/drone_dataset/train/images/scene01036.jpg  \n",
            "  inflating: /content/drones/drone_dataset/train/images/scene01051.jpg  \n",
            "  inflating: /content/drones/drone_dataset/train/images/yoto00001.jpg  \n",
            "  inflating: /content/drones/drone_dataset/train/images/yoto00030.jpg  \n",
            "  inflating: /content/drones/drone_dataset/train/images/yoto00059.jpg  \n",
            "  inflating: /content/drones/drone_dataset/train/images/yoto00262.jpg  \n",
            "  inflating: /content/drones/drone_dataset/train/images/yoto00291.jpg  \n",
            "  inflating: /content/drones/drone_dataset/train/images/yoto00320.jpg  \n",
            "  inflating: /content/drones/drone_dataset/train/images/yoto00349.jpg  \n",
            "  inflating: /content/drones/drone_dataset/train/images/yoto00378.jpg  \n",
            "  inflating: /content/drones/drone_dataset/train/images/yoto00407.jpg  \n",
            "  inflating: /content/drones/drone_dataset/train/images/yoto00436.jpg  \n",
            "  inflating: /content/drones/drone_dataset/train/images/yoto00465.jpg  \n",
            "  inflating: /content/drones/drone_dataset/train/images/yoto00494.jpg  \n",
            "  inflating: /content/drones/drone_dataset/train/images/yoto00755.jpg  \n",
            "  inflating: /content/drones/drone_dataset/train/images/yoto00784.jpg  \n",
            "  inflating: /content/drones/drone_dataset/train/images/yoto00813.jpg  \n",
            "  inflating: /content/drones/drone_dataset/train/images/yoto00842.jpg  \n",
            "  inflating: /content/drones/drone_dataset/train/images/yoto00871.jpg  \n",
            "  inflating: /content/drones/drone_dataset/train/images/yoto00900.jpg  \n",
            "  inflating: /content/drones/drone_dataset/train/images/yoto00929.jpg  \n",
            "  inflating: /content/drones/drone_dataset/train/images/yoto00958.jpg  \n",
            "  inflating: /content/drones/drone_dataset/train/images/yoto00987.jpg  \n",
            "  inflating: /content/drones/drone_dataset/train/images/yoto01016.jpg  \n",
            "  inflating: /content/drones/drone_dataset/train/images/yoto01045.jpg  \n",
            "  inflating: /content/drones/drone_dataset/train/images/yoto01074.jpg  \n",
            "  inflating: /content/drones/drone_dataset/train/images/yoto01103.jpg  \n",
            "  inflating: /content/drones/drone_dataset/train/images/yoto01132.jpg  \n",
            "  inflating: /content/drones/drone_dataset/train/images/yoto01161.jpg  \n",
            "  inflating: /content/drones/drone_dataset/train/images/yoto01190.jpg  \n",
            "  inflating: /content/drones/drone_dataset/train/images/yoto01219.jpg  \n",
            "  inflating: /content/drones/drone_dataset/train/images/yoto01248.jpg  \n",
            "  inflating: /content/drones/drone_dataset/train/images/yoto01277.jpg  \n",
            "  inflating: /content/drones/drone_dataset/train/images/yoto01306.jpg  \n",
            "  inflating: /content/drones/drone_dataset/train/images/yoto01335.jpg  \n",
            "  inflating: /content/drones/drone_dataset/train/images/yoto01364.jpg  \n",
            "  inflating: /content/drones/drone_dataset/train/images/yoto01393.jpg  \n",
            "  inflating: /content/drones/drone_dataset/train/images/yoto01422.jpg  \n",
            "  inflating: /content/drones/drone_dataset/train/images/yoto01451.jpg  \n",
            "  inflating: /content/drones/drone_dataset/train/images/yoto02611.jpg  \n",
            "  inflating: /content/drones/drone_dataset/train/images/yoto02640.jpg  \n",
            "  inflating: /content/drones/drone_dataset/train/images/yoto02669.jpg  \n",
            "  inflating: /content/drones/drone_dataset/train/images/yoto02698.jpg  \n",
            "  inflating: /content/drones/drone_dataset/train/images/yoto02727.jpg  \n",
            "  inflating: /content/drones/drone_dataset/train/images/yoto02756.jpg  \n",
            "  inflating: /content/drones/drone_dataset/train/images/yoto02785.jpg  \n",
            "  inflating: /content/drones/drone_dataset/train/images/yoto02814.jpg  \n",
            "  inflating: /content/drones/drone_dataset/train/images/yoto02843.jpg  \n",
            "  inflating: /content/drones/drone_dataset/train/images/yoto02872.jpg  \n",
            "  inflating: /content/drones/drone_dataset/train/images/yoto02901.jpg  \n",
            "  inflating: /content/drones/drone_dataset/train/images/yoto02930.jpg  \n",
            "  inflating: /content/drones/drone_dataset/train/images/yoto02959.jpg  \n",
            "  inflating: /content/drones/drone_dataset/train/images/yoto02988.jpg  \n",
            "  inflating: /content/drones/drone_dataset/train/images/yoto03017.jpg  \n",
            "  inflating: /content/drones/drone_dataset/train/images/yoto03046.jpg  \n",
            "  inflating: /content/drones/drone_dataset/train/images/yoto03075.jpg  \n",
            "  inflating: /content/drones/drone_dataset/train/images/yoto04931.jpg  \n",
            "  inflating: /content/drones/drone_dataset/train/images/yoto04989.jpg  \n",
            "  inflating: /content/drones/drone_dataset/train/images/yoto05018.jpg  \n",
            "  inflating: /content/drones/drone_dataset/train/images/yoto05076.jpg  \n",
            "  inflating: /content/drones/drone_dataset/train/images/yoto05134.jpg  \n",
            "  inflating: /content/drones/drone_dataset/train/images/yoto05163.jpg  \n",
            "  inflating: /content/drones/drone_dataset/train/images/yoto05192.jpg  \n",
            "  inflating: /content/drones/drone_dataset/train/images/yoto06410.jpg  \n",
            "  inflating: /content/drones/drone_dataset/train/images/yoto06439.jpg  \n",
            "  inflating: /content/drones/drone_dataset/train/images/yoto06468.jpg  \n",
            "  inflating: /content/drones/drone_dataset/train/images/yoto06497.jpg  \n",
            "  inflating: /content/drones/drone_dataset/train/images/yoto09716.jpg  \n",
            "  inflating: /content/drones/drone_dataset/train/images/yoto10383.jpg  \n",
            "  inflating: /content/drones/drone_dataset/train/images/yoto10412.jpg  \n",
            "  inflating: /content/drones/drone_dataset/train/images/yoto10441.jpg  \n",
            "  inflating: /content/drones/drone_dataset/train/images/yoto10499.jpg  \n",
            "  inflating: /content/drones/drone_dataset/train/images/yoto10557.jpg  \n",
            "  inflating: /content/drones/drone_dataset/train/images/yoto10586.jpg  \n",
            "  inflating: /content/drones/drone_dataset/train/images/yoto10702.jpg  \n",
            "  inflating: /content/drones/drone_dataset/train/images/yoto10731.jpg  \n",
            "  inflating: /content/drones/drone_dataset/train/images/yoto10760.jpg  \n",
            "  inflating: /content/drones/drone_dataset/train/images/yoto10789.jpg  \n",
            "  inflating: /content/drones/drone_dataset/train/images/yoto10818.jpg  \n",
            "  inflating: /content/drones/drone_dataset/train/images/yoto10847.jpg  \n",
            "  inflating: /content/drones/drone_dataset/train/images/yoto10876.jpg  \n",
            "  inflating: /content/drones/drone_dataset/train/images/yoto10905.jpg  \n",
            "  inflating: /content/drones/drone_dataset/train/images/yoto10934.jpg  \n",
            "  inflating: /content/drones/drone_dataset/train/images/yoto10963.jpg  \n",
            "  inflating: /content/drones/drone_dataset/train/images/yoto10992.jpg  \n",
            "  inflating: /content/drones/drone_dataset/train/images/yoto11021.jpg  \n",
            "  inflating: /content/drones/drone_dataset/train/images/yoto11050.jpg  \n",
            "  inflating: /content/drones/drone_dataset/train/images/yoto11079.jpg  \n",
            "  inflating: /content/drones/drone_dataset/train/images/yoto11108.jpg  \n",
            "  inflating: /content/drones/drone_dataset/train/images/yoto11485.jpg  \n",
            "  inflating: /content/drones/drone_dataset/train/images/yoto11920.jpg  \n",
            "  inflating: /content/drones/drone_dataset/train/labels/pic_031.txt  \n",
            "  inflating: /content/drones/drone_dataset/train/labels/pic_032.txt  \n",
            "  inflating: /content/drones/drone_dataset/train/labels/pic_035.txt  \n",
            "  inflating: /content/drones/drone_dataset/train/labels/pic_036.txt  \n",
            "  inflating: /content/drones/drone_dataset/train/labels/pic_037.txt  \n",
            "  inflating: /content/drones/drone_dataset/train/labels/pic_038.txt  \n",
            "  inflating: /content/drones/drone_dataset/train/labels/pic_039.txt  \n",
            "  inflating: /content/drones/drone_dataset/train/labels/pic_042.txt  \n",
            "  inflating: /content/drones/drone_dataset/train/labels/pic_043.txt  \n",
            "  inflating: /content/drones/drone_dataset/train/labels/pic_044.txt  \n",
            "  inflating: /content/drones/drone_dataset/train/labels/pic_045.txt  \n",
            "  inflating: /content/drones/drone_dataset/train/labels/pic_047.txt  \n",
            "  inflating: /content/drones/drone_dataset/train/labels/pic_048.txt  \n",
            "  inflating: /content/drones/drone_dataset/train/labels/pic_049.txt  \n",
            "  inflating: /content/drones/drone_dataset/train/labels/pic_050.txt  \n",
            "  inflating: /content/drones/drone_dataset/train/labels/pic_051.txt  \n",
            "  inflating: /content/drones/drone_dataset/train/labels/pic_052.txt  \n",
            "  inflating: /content/drones/drone_dataset/train/labels/pic_053.txt  \n",
            "  inflating: /content/drones/drone_dataset/train/labels/pic_054.txt  \n",
            "  inflating: /content/drones/drone_dataset/train/labels/pic_055.txt  \n",
            "  inflating: /content/drones/drone_dataset/train/labels/pic_056.txt  \n",
            "  inflating: /content/drones/drone_dataset/train/labels/pic_057.txt  \n",
            "  inflating: /content/drones/drone_dataset/train/labels/pic_058.txt  \n",
            "  inflating: /content/drones/drone_dataset/train/labels/pic_059.txt  \n",
            "  inflating: /content/drones/drone_dataset/train/labels/pic_060.txt  \n",
            "  inflating: /content/drones/drone_dataset/train/labels/pic_061.txt  \n",
            "  inflating: /content/drones/drone_dataset/train/labels/pic_062.txt  \n",
            "  inflating: /content/drones/drone_dataset/train/labels/pic_063.txt  \n",
            "  inflating: /content/drones/drone_dataset/train/labels/pic_064.txt  \n",
            "  inflating: /content/drones/drone_dataset/train/labels/pic_065.txt  \n",
            "  inflating: /content/drones/drone_dataset/train/labels/pic_066.txt  \n",
            "  inflating: /content/drones/drone_dataset/train/labels/pic_067.txt  \n",
            "  inflating: /content/drones/drone_dataset/train/labels/pic_068.txt  \n",
            "  inflating: /content/drones/drone_dataset/train/labels/pic_069.txt  \n",
            "  inflating: /content/drones/drone_dataset/train/labels/pic_070.txt  \n",
            "  inflating: /content/drones/drone_dataset/train/labels/pic_071.txt  \n",
            "  inflating: /content/drones/drone_dataset/train/labels/pic_073.txt  \n",
            "  inflating: /content/drones/drone_dataset/train/labels/pic_074.txt  \n",
            "  inflating: /content/drones/drone_dataset/train/labels/pic_075.txt  \n",
            "  inflating: /content/drones/drone_dataset/train/labels/pic_076.txt  \n",
            "  inflating: /content/drones/drone_dataset/train/labels/pic_077.txt  \n",
            "  inflating: /content/drones/drone_dataset/train/labels/pic_078.txt  \n",
            "  inflating: /content/drones/drone_dataset/train/labels/pic_079.txt  \n",
            "  inflating: /content/drones/drone_dataset/train/labels/pic_080.txt  \n",
            "  inflating: /content/drones/drone_dataset/train/labels/pic_081.txt  \n",
            "  inflating: /content/drones/drone_dataset/train/labels/pic_082.txt  \n",
            "  inflating: /content/drones/drone_dataset/train/labels/pic_083.txt  \n",
            "  inflating: /content/drones/drone_dataset/train/labels/pic_084.txt  \n",
            "  inflating: /content/drones/drone_dataset/train/labels/pic_085.txt  \n",
            "  inflating: /content/drones/drone_dataset/train/labels/pic_086.txt  \n",
            "  inflating: /content/drones/drone_dataset/train/labels/pic_087.txt  \n",
            "  inflating: /content/drones/drone_dataset/train/labels/pic_088.txt  \n",
            "  inflating: /content/drones/drone_dataset/train/labels/pic_089.txt  \n",
            "  inflating: /content/drones/drone_dataset/train/labels/pic_090.txt  \n",
            "  inflating: /content/drones/drone_dataset/train/labels/pic_092.txt  \n",
            "  inflating: /content/drones/drone_dataset/train/labels/pic_093.txt  \n",
            "  inflating: /content/drones/drone_dataset/train/labels/pic_094.txt  \n",
            "  inflating: /content/drones/drone_dataset/train/labels/pic_095.txt  \n",
            "  inflating: /content/drones/drone_dataset/train/labels/pic_096.txt  \n",
            "  inflating: /content/drones/drone_dataset/train/labels/pic_097.txt  \n",
            "  inflating: /content/drones/drone_dataset/train/labels/pic_098.txt  \n",
            "  inflating: /content/drones/drone_dataset/train/labels/pic_099.txt  \n",
            "  inflating: /content/drones/drone_dataset/train/labels/pic_100.txt  \n",
            "  inflating: /content/drones/drone_dataset/train/labels/pic_1000.txt  \n",
            "  inflating: /content/drones/drone_dataset/train/labels/pic_1001.txt  \n",
            "  inflating: /content/drones/drone_dataset/train/labels/pic_1003.txt  \n",
            "  inflating: /content/drones/drone_dataset/train/labels/pic_1004.txt  \n",
            "  inflating: /content/drones/drone_dataset/train/labels/pic_1005.txt  \n",
            "  inflating: /content/drones/drone_dataset/train/labels/pic_1008.txt  \n",
            "  inflating: /content/drones/drone_dataset/train/labels/pic_1009.txt  \n",
            "  inflating: /content/drones/drone_dataset/train/labels/pic_101.txt  \n",
            "  inflating: /content/drones/drone_dataset/train/labels/pic_1010.txt  \n",
            "  inflating: /content/drones/drone_dataset/train/labels/pic_1013.txt  \n",
            "  inflating: /content/drones/drone_dataset/train/labels/pic_1014.txt  \n",
            "  inflating: /content/drones/drone_dataset/train/labels/pic_1020.txt  \n",
            "  inflating: /content/drones/drone_dataset/train/labels/pic_1025.txt  \n",
            "  inflating: /content/drones/drone_dataset/train/labels/pic_1026.txt  \n",
            "  inflating: /content/drones/drone_dataset/train/labels/pic_1027.txt  \n",
            "  inflating: /content/drones/drone_dataset/train/labels/pic_1028.txt  \n",
            "  inflating: /content/drones/drone_dataset/train/labels/pic_103.txt  \n",
            "  inflating: /content/drones/drone_dataset/train/labels/pic_1032.txt  \n",
            "  inflating: /content/drones/drone_dataset/train/labels/pic_1033.txt  \n",
            "  inflating: /content/drones/drone_dataset/train/labels/pic_1034.txt  \n",
            "  inflating: /content/drones/drone_dataset/train/labels/pic_1036.txt  \n",
            "  inflating: /content/drones/drone_dataset/train/labels/pic_104.txt  \n",
            "  inflating: /content/drones/drone_dataset/train/labels/pic_1042.txt  \n",
            "  inflating: /content/drones/drone_dataset/train/labels/pic_1043.txt  \n",
            "  inflating: /content/drones/drone_dataset/train/labels/pic_1044.txt  \n",
            "  inflating: /content/drones/drone_dataset/train/labels/pic_1046.txt  \n",
            "  inflating: /content/drones/drone_dataset/train/labels/pic_1047.txt  \n",
            "  inflating: /content/drones/drone_dataset/train/labels/pic_1048.txt  \n",
            "  inflating: /content/drones/drone_dataset/train/labels/pic_1049.txt  \n",
            "  inflating: /content/drones/drone_dataset/train/labels/pic_105.txt  \n",
            "  inflating: /content/drones/drone_dataset/train/labels/pic_1050.txt  \n",
            "  inflating: /content/drones/drone_dataset/train/labels/pic_1054.txt  \n",
            "  inflating: /content/drones/drone_dataset/train/labels/pic_1056.txt  \n",
            "  inflating: /content/drones/drone_dataset/train/labels/pic_1057.txt  \n",
            "  inflating: /content/drones/drone_dataset/train/labels/pic_1059.txt  \n",
            "  inflating: /content/drones/drone_dataset/train/labels/pic_106.txt  \n",
            "  inflating: /content/drones/drone_dataset/train/labels/pic_1060.txt  \n",
            "  inflating: /content/drones/drone_dataset/train/labels/pic_1068.txt  \n",
            "  inflating: /content/drones/drone_dataset/train/labels/pic_107.txt  \n",
            "  inflating: /content/drones/drone_dataset/train/labels/pic_1070.txt  \n",
            "  inflating: /content/drones/drone_dataset/train/labels/pic_1074.txt  \n",
            "  inflating: /content/drones/drone_dataset/train/labels/pic_1075.txt  \n",
            "  inflating: /content/drones/drone_dataset/train/labels/pic_1076.txt  \n",
            "  inflating: /content/drones/drone_dataset/train/labels/pic_108.txt  \n",
            "  inflating: /content/drones/drone_dataset/train/labels/pic_1080.txt  \n",
            "  inflating: /content/drones/drone_dataset/train/labels/pic_1082.txt  \n",
            "  inflating: /content/drones/drone_dataset/train/labels/pic_1090.txt  \n",
            "  inflating: /content/drones/drone_dataset/train/labels/pic_1091.txt  \n",
            "  inflating: /content/drones/drone_dataset/train/labels/pic_1093.txt  \n",
            "  inflating: /content/drones/drone_dataset/train/labels/pic_1095.txt  \n",
            "  inflating: /content/drones/drone_dataset/train/labels/pic_1096.txt  \n",
            "  inflating: /content/drones/drone_dataset/train/labels/pic_110.txt  \n",
            "  inflating: /content/drones/drone_dataset/train/labels/pic_1102.txt  \n",
            "  inflating: /content/drones/drone_dataset/train/labels/pic_1104.txt  \n",
            "  inflating: /content/drones/drone_dataset/train/labels/pic_1105.txt  \n",
            "  inflating: /content/drones/drone_dataset/train/labels/pic_1106.txt  \n",
            "  inflating: /content/drones/drone_dataset/train/labels/pic_1107.txt  \n",
            "  inflating: /content/drones/drone_dataset/train/labels/pic_111.txt  \n",
            "  inflating: /content/drones/drone_dataset/train/labels/pic_1110.txt  \n",
            "  inflating: /content/drones/drone_dataset/train/labels/pic_1112.txt  \n",
            "  inflating: /content/drones/drone_dataset/train/labels/pic_1113.txt  \n",
            "  inflating: /content/drones/drone_dataset/train/labels/pic_1117.txt  \n",
            "  inflating: /content/drones/drone_dataset/train/labels/pic_112.txt  \n",
            "  inflating: /content/drones/drone_dataset/train/labels/pic_1121.txt  \n",
            "  inflating: /content/drones/drone_dataset/train/labels/pic_1127.txt  \n",
            "  inflating: /content/drones/drone_dataset/train/labels/pic_1130.txt  \n",
            "  inflating: /content/drones/drone_dataset/train/labels/pic_1133.txt  \n",
            "  inflating: /content/drones/drone_dataset/train/labels/pic_1135.txt  \n",
            "  inflating: /content/drones/drone_dataset/train/labels/pic_1136.txt  \n",
            "  inflating: /content/drones/drone_dataset/train/labels/pic_1139.txt  \n",
            "  inflating: /content/drones/drone_dataset/train/labels/pic_114.txt  \n",
            "  inflating: /content/drones/drone_dataset/train/labels/pic_1140.txt  \n",
            "  inflating: /content/drones/drone_dataset/train/labels/pic_1143.txt  \n",
            "  inflating: /content/drones/drone_dataset/train/labels/pic_1144.txt  \n",
            "  inflating: /content/drones/drone_dataset/train/labels/pic_1146.txt  \n",
            "  inflating: /content/drones/drone_dataset/train/labels/pic_1148.txt  \n",
            "  inflating: /content/drones/drone_dataset/train/labels/pic_115.txt  \n",
            "  inflating: /content/drones/drone_dataset/train/labels/pic_1150.txt  \n",
            "  inflating: /content/drones/drone_dataset/train/labels/pic_1152.txt  \n",
            "  inflating: /content/drones/drone_dataset/train/labels/pic_1154.txt  \n",
            "  inflating: /content/drones/drone_dataset/train/labels/pic_1155.txt  \n",
            "  inflating: /content/drones/drone_dataset/train/labels/pic_1156.txt  \n",
            "  inflating: /content/drones/drone_dataset/train/labels/pic_1157.txt  \n",
            "  inflating: /content/drones/drone_dataset/train/labels/pic_1159.txt  \n",
            "  inflating: /content/drones/drone_dataset/train/labels/pic_116.txt  \n",
            "  inflating: /content/drones/drone_dataset/train/labels/pic_1161.txt  \n",
            "  inflating: /content/drones/drone_dataset/train/labels/pic_1162.txt  \n",
            "  inflating: /content/drones/drone_dataset/train/labels/pic_1165.txt  \n",
            "  inflating: /content/drones/drone_dataset/train/labels/pic_1166.txt  \n",
            "  inflating: /content/drones/drone_dataset/train/labels/pic_1167.txt  \n",
            "  inflating: /content/drones/drone_dataset/train/labels/pic_1168.txt  \n",
            "  inflating: /content/drones/drone_dataset/train/labels/pic_1169.txt  \n",
            "  inflating: /content/drones/drone_dataset/train/labels/pic_117.txt  \n",
            "  inflating: /content/drones/drone_dataset/train/labels/pic_1170.txt  \n",
            "  inflating: /content/drones/drone_dataset/train/labels/pic_1172.txt  \n",
            "  inflating: /content/drones/drone_dataset/train/labels/pic_1174.txt  \n",
            "  inflating: /content/drones/drone_dataset/train/labels/pic_1176.txt  \n",
            "  inflating: /content/drones/drone_dataset/train/labels/pic_1178.txt  \n",
            "  inflating: /content/drones/drone_dataset/train/labels/pic_118.txt  \n",
            "  inflating: /content/drones/drone_dataset/train/labels/pic_1181.txt  \n",
            "  inflating: /content/drones/drone_dataset/train/labels/pic_1182.txt  \n",
            "  inflating: /content/drones/drone_dataset/train/labels/pic_1189.txt  \n",
            "  inflating: /content/drones/drone_dataset/train/labels/pic_1193.txt  \n",
            "  inflating: /content/drones/drone_dataset/train/labels/pic_1197.txt  \n",
            "  inflating: /content/drones/drone_dataset/train/labels/pic_1199.txt  \n",
            "  inflating: /content/drones/drone_dataset/train/labels/pic_120.txt  \n",
            "  inflating: /content/drones/drone_dataset/train/labels/pic_1200.txt  \n",
            "  inflating: /content/drones/drone_dataset/train/labels/pic_1201.txt  \n",
            "  inflating: /content/drones/drone_dataset/train/labels/pic_1202.txt  \n",
            "  inflating: /content/drones/drone_dataset/train/labels/pic_1203.txt  \n",
            "  inflating: /content/drones/drone_dataset/train/labels/pic_1204.txt  \n",
            "  inflating: /content/drones/drone_dataset/train/labels/pic_1208.txt  \n",
            "  inflating: /content/drones/drone_dataset/train/labels/pic_121.txt  \n",
            "  inflating: /content/drones/drone_dataset/train/labels/pic_1213.txt  \n",
            "  inflating: /content/drones/drone_dataset/train/labels/pic_1214.txt  \n",
            "  inflating: /content/drones/drone_dataset/train/labels/pic_1215.txt  \n",
            "  inflating: /content/drones/drone_dataset/train/labels/pic_1216.txt  \n",
            "  inflating: /content/drones/drone_dataset/train/labels/pic_1217.txt  \n",
            "  inflating: /content/drones/drone_dataset/train/labels/pic_122.txt  \n",
            "  inflating: /content/drones/drone_dataset/train/labels/pic_1220.txt  \n",
            "  inflating: /content/drones/drone_dataset/train/labels/pic_1226.txt  \n",
            "  inflating: /content/drones/drone_dataset/train/labels/pic_123.txt  \n",
            "  inflating: /content/drones/drone_dataset/train/labels/pic_1230.txt  \n",
            "  inflating: /content/drones/drone_dataset/train/labels/pic_1233.txt  \n",
            "  inflating: /content/drones/drone_dataset/train/labels/pic_1234.txt  \n",
            "  inflating: /content/drones/drone_dataset/train/labels/pic_1235.txt  \n",
            "  inflating: /content/drones/drone_dataset/train/labels/pic_1237.txt  \n",
            "  inflating: /content/drones/drone_dataset/train/labels/pic_1239.txt  \n",
            "  inflating: /content/drones/drone_dataset/train/labels/pic_124.txt  \n",
            "  inflating: /content/drones/drone_dataset/train/labels/pic_125.txt  \n",
            "  inflating: /content/drones/drone_dataset/train/labels/pic_126.txt  \n",
            "  inflating: /content/drones/drone_dataset/train/labels/pic_127.txt  \n",
            "  inflating: /content/drones/drone_dataset/train/labels/pic_128.txt  \n",
            "  inflating: /content/drones/drone_dataset/train/labels/pic_129.txt  \n",
            "  inflating: /content/drones/drone_dataset/train/labels/pic_130.txt  \n",
            "  inflating: /content/drones/drone_dataset/train/labels/pic_131.txt  \n",
            "  inflating: /content/drones/drone_dataset/train/labels/pic_132.txt  \n",
            "  inflating: /content/drones/drone_dataset/train/labels/pic_133.txt  \n",
            "  inflating: /content/drones/drone_dataset/train/labels/pic_134.txt  \n",
            "  inflating: /content/drones/drone_dataset/train/labels/pic_135.txt  \n",
            "  inflating: /content/drones/drone_dataset/train/labels/pic_137.txt  \n",
            "  inflating: /content/drones/drone_dataset/train/labels/pic_138.txt  \n",
            "  inflating: /content/drones/drone_dataset/train/labels/pic_140.txt  \n",
            "  inflating: /content/drones/drone_dataset/train/labels/pic_141.txt  \n",
            "  inflating: /content/drones/drone_dataset/train/labels/pic_142.txt  \n",
            "  inflating: /content/drones/drone_dataset/train/labels/pic_143.txt  \n",
            "  inflating: /content/drones/drone_dataset/train/labels/pic_144.txt  \n",
            "  inflating: /content/drones/drone_dataset/train/labels/pic_145.txt  \n",
            "  inflating: /content/drones/drone_dataset/train/labels/pic_146.txt  \n",
            "  inflating: /content/drones/drone_dataset/train/labels/pic_147.txt  \n",
            "  inflating: /content/drones/drone_dataset/train/labels/pic_148.txt  \n",
            "  inflating: /content/drones/drone_dataset/train/labels/pic_149.txt  \n",
            "  inflating: /content/drones/drone_dataset/train/labels/pic_150.txt  \n",
            "  inflating: /content/drones/drone_dataset/train/labels/pic_151.txt  \n",
            "  inflating: /content/drones/drone_dataset/train/labels/pic_152.txt  \n",
            "  inflating: /content/drones/drone_dataset/train/labels/pic_153.txt  \n",
            "  inflating: /content/drones/drone_dataset/train/labels/pic_154.txt  \n",
            "  inflating: /content/drones/drone_dataset/train/labels/pic_155.txt  \n",
            "  inflating: /content/drones/drone_dataset/train/labels/pic_156.txt  \n",
            "  inflating: /content/drones/drone_dataset/train/labels/pic_158.txt  \n",
            "  inflating: /content/drones/drone_dataset/train/labels/pic_159.txt  \n",
            "  inflating: /content/drones/drone_dataset/train/labels/pic_161.txt  \n",
            "  inflating: /content/drones/drone_dataset/train/labels/pic_162.txt  \n",
            "  inflating: /content/drones/drone_dataset/train/labels/pic_164.txt  \n",
            "  inflating: /content/drones/drone_dataset/train/labels/pic_165.txt  \n",
            "  inflating: /content/drones/drone_dataset/train/labels/pic_167.txt  \n",
            "  inflating: /content/drones/drone_dataset/train/labels/pic_169.txt  \n",
            "  inflating: /content/drones/drone_dataset/train/labels/pic_170.txt  \n",
            "  inflating: /content/drones/drone_dataset/train/labels/pic_171.txt  \n",
            "  inflating: /content/drones/drone_dataset/train/labels/pic_172.txt  \n",
            "  inflating: /content/drones/drone_dataset/train/labels/pic_173.txt  \n",
            "  inflating: /content/drones/drone_dataset/train/labels/pic_174.txt  \n",
            "  inflating: /content/drones/drone_dataset/train/labels/pic_175.txt  \n",
            "  inflating: /content/drones/drone_dataset/train/labels/pic_176.txt  \n",
            "  inflating: /content/drones/drone_dataset/train/labels/pic_177.txt  \n",
            "  inflating: /content/drones/drone_dataset/train/labels/pic_179.txt  \n",
            "  inflating: /content/drones/drone_dataset/train/labels/pic_180.txt  \n",
            "  inflating: /content/drones/drone_dataset/train/labels/pic_181.txt  \n",
            "  inflating: /content/drones/drone_dataset/train/labels/pic_182.txt  \n",
            "  inflating: /content/drones/drone_dataset/train/labels/pic_183.txt  \n",
            "  inflating: /content/drones/drone_dataset/train/labels/pic_184.txt  \n",
            "  inflating: /content/drones/drone_dataset/train/labels/pic_185.txt  \n",
            "  inflating: /content/drones/drone_dataset/train/labels/pic_186.txt  \n",
            "  inflating: /content/drones/drone_dataset/train/labels/pic_187.txt  \n",
            "  inflating: /content/drones/drone_dataset/train/labels/pic_188.txt  \n",
            "  inflating: /content/drones/drone_dataset/train/labels/pic_189.txt  \n",
            "  inflating: /content/drones/drone_dataset/train/labels/pic_190.txt  \n",
            "  inflating: /content/drones/drone_dataset/train/labels/pic_192.txt  \n",
            "  inflating: /content/drones/drone_dataset/train/labels/pic_193.txt  \n",
            "  inflating: /content/drones/drone_dataset/train/labels/pic_194.txt  \n",
            "  inflating: /content/drones/drone_dataset/train/labels/pic_195.txt  \n",
            "  inflating: /content/drones/drone_dataset/train/labels/pic_196.txt  \n",
            "  inflating: /content/drones/drone_dataset/train/labels/pic_197.txt  \n",
            "  inflating: /content/drones/drone_dataset/train/labels/pic_198.txt  \n",
            "  inflating: /content/drones/drone_dataset/train/labels/pic_200.txt  \n",
            "  inflating: /content/drones/drone_dataset/train/labels/pic_201.txt  \n",
            "  inflating: /content/drones/drone_dataset/train/labels/pic_203.txt  \n",
            "  inflating: /content/drones/drone_dataset/train/labels/pic_204.txt  \n",
            "  inflating: /content/drones/drone_dataset/train/labels/pic_205.txt  \n",
            "  inflating: /content/drones/drone_dataset/train/labels/pic_206.txt  \n",
            "  inflating: /content/drones/drone_dataset/train/labels/pic_207.txt  \n",
            "  inflating: /content/drones/drone_dataset/train/labels/pic_208.txt  \n",
            "  inflating: /content/drones/drone_dataset/train/labels/pic_209.txt  \n",
            "  inflating: /content/drones/drone_dataset/train/labels/pic_211.txt  \n",
            "  inflating: /content/drones/drone_dataset/train/labels/pic_212.txt  \n",
            "  inflating: /content/drones/drone_dataset/train/labels/pic_213.txt  \n",
            "  inflating: /content/drones/drone_dataset/train/labels/pic_214.txt  \n",
            "  inflating: /content/drones/drone_dataset/train/labels/pic_215.txt  \n",
            "  inflating: /content/drones/drone_dataset/train/labels/pic_217.txt  \n",
            "  inflating: /content/drones/drone_dataset/train/labels/pic_218.txt  \n",
            "  inflating: /content/drones/drone_dataset/train/labels/pic_219.txt  \n",
            "  inflating: /content/drones/drone_dataset/train/labels/pic_220.txt  \n",
            "  inflating: /content/drones/drone_dataset/train/labels/pic_221.txt  \n",
            "  inflating: /content/drones/drone_dataset/train/labels/pic_222.txt  \n",
            "  inflating: /content/drones/drone_dataset/train/labels/pic_223.txt  \n",
            "  inflating: /content/drones/drone_dataset/train/labels/pic_224.txt  \n",
            "  inflating: /content/drones/drone_dataset/train/labels/pic_225.txt  \n",
            "  inflating: /content/drones/drone_dataset/train/labels/pic_226.txt  \n",
            "  inflating: /content/drones/drone_dataset/train/labels/pic_227.txt  \n",
            "  inflating: /content/drones/drone_dataset/train/labels/pic_229.txt  \n",
            "  inflating: /content/drones/drone_dataset/train/labels/pic_230.txt  \n",
            "  inflating: /content/drones/drone_dataset/train/labels/pic_232.txt  \n",
            "  inflating: /content/drones/drone_dataset/train/labels/pic_234.txt  \n",
            "  inflating: /content/drones/drone_dataset/train/labels/pic_235.txt  \n",
            "  inflating: /content/drones/drone_dataset/train/labels/pic_237.txt  \n",
            "  inflating: /content/drones/drone_dataset/train/labels/pic_238.txt  \n",
            "  inflating: /content/drones/drone_dataset/train/labels/pic_239.txt  \n",
            "  inflating: /content/drones/drone_dataset/train/labels/pic_240.txt  \n",
            "  inflating: /content/drones/drone_dataset/train/labels/pic_241.txt  \n",
            "  inflating: /content/drones/drone_dataset/train/labels/pic_242.txt  \n",
            "  inflating: /content/drones/drone_dataset/train/labels/pic_243.txt  \n",
            "  inflating: /content/drones/drone_dataset/train/labels/pic_244.txt  \n",
            "  inflating: /content/drones/drone_dataset/train/labels/pic_245.txt  \n",
            "  inflating: /content/drones/drone_dataset/train/labels/pic_247.txt  \n",
            "  inflating: /content/drones/drone_dataset/train/labels/pic_248.txt  \n",
            "  inflating: /content/drones/drone_dataset/train/labels/pic_249.txt  \n",
            "  inflating: /content/drones/drone_dataset/train/labels/pic_250.txt  \n",
            "  inflating: /content/drones/drone_dataset/train/labels/pic_251.txt  \n",
            "  inflating: /content/drones/drone_dataset/train/labels/pic_252.txt  \n",
            "  inflating: /content/drones/drone_dataset/train/labels/pic_253.txt  \n",
            "  inflating: /content/drones/drone_dataset/train/labels/pic_254.txt  \n",
            "  inflating: /content/drones/drone_dataset/train/labels/pic_256.txt  \n",
            "  inflating: /content/drones/drone_dataset/train/labels/pic_257.txt  \n",
            "  inflating: /content/drones/drone_dataset/train/labels/pic_258.txt  \n",
            "  inflating: /content/drones/drone_dataset/train/labels/pic_259.txt  \n",
            "  inflating: /content/drones/drone_dataset/train/labels/pic_260.txt  \n",
            "  inflating: /content/drones/drone_dataset/train/labels/pic_262.txt  \n",
            "  inflating: /content/drones/drone_dataset/train/labels/pic_263.txt  \n",
            "  inflating: /content/drones/drone_dataset/train/labels/pic_264.txt  \n",
            "  inflating: /content/drones/drone_dataset/train/labels/pic_265.txt  \n",
            "  inflating: /content/drones/drone_dataset/train/labels/pic_266.txt  \n",
            "  inflating: /content/drones/drone_dataset/train/labels/pic_267.txt  \n",
            "  inflating: /content/drones/drone_dataset/train/labels/pic_268.txt  \n",
            "  inflating: /content/drones/drone_dataset/train/labels/pic_269.txt  \n",
            "  inflating: /content/drones/drone_dataset/train/labels/pic_271.txt  \n",
            "  inflating: /content/drones/drone_dataset/train/labels/pic_272.txt  \n",
            "  inflating: /content/drones/drone_dataset/train/labels/pic_273.txt  \n",
            "  inflating: /content/drones/drone_dataset/train/labels/pic_274.txt  \n",
            "  inflating: /content/drones/drone_dataset/train/labels/pic_275.txt  \n",
            "  inflating: /content/drones/drone_dataset/train/labels/pic_276.txt  \n",
            "  inflating: /content/drones/drone_dataset/train/labels/pic_277.txt  \n",
            "  inflating: /content/drones/drone_dataset/train/labels/pic_278.txt  \n",
            "  inflating: /content/drones/drone_dataset/train/labels/pic_279.txt  \n",
            "  inflating: /content/drones/drone_dataset/train/labels/pic_280.txt  \n",
            "  inflating: /content/drones/drone_dataset/train/labels/pic_281.txt  \n",
            "  inflating: /content/drones/drone_dataset/train/labels/pic_283.txt  \n",
            "  inflating: /content/drones/drone_dataset/train/labels/pic_284.txt  \n",
            "  inflating: /content/drones/drone_dataset/train/labels/pic_285.txt  \n",
            "  inflating: /content/drones/drone_dataset/train/labels/pic_286.txt  \n",
            "  inflating: /content/drones/drone_dataset/train/labels/pic_287.txt  \n",
            "  inflating: /content/drones/drone_dataset/train/labels/pic_289.txt  \n",
            "  inflating: /content/drones/drone_dataset/train/labels/pic_290.txt  \n",
            "  inflating: /content/drones/drone_dataset/train/labels/pic_292.txt  \n",
            "  inflating: /content/drones/drone_dataset/train/labels/pic_293.txt  \n",
            "  inflating: /content/drones/drone_dataset/train/labels/pic_294.txt  \n",
            "  inflating: /content/drones/drone_dataset/train/labels/pic_295.txt  \n",
            "  inflating: /content/drones/drone_dataset/train/labels/pic_296.txt  \n",
            "  inflating: /content/drones/drone_dataset/train/labels/pic_297.txt  \n",
            "  inflating: /content/drones/drone_dataset/train/labels/pic_298.txt  \n",
            "  inflating: /content/drones/drone_dataset/train/labels/pic_299.txt  \n",
            "  inflating: /content/drones/drone_dataset/train/labels/pic_300.txt  \n",
            "  inflating: /content/drones/drone_dataset/train/labels/pic_301.txt  \n",
            "  inflating: /content/drones/drone_dataset/train/labels/pic_303.txt  \n",
            "  inflating: /content/drones/drone_dataset/train/labels/pic_304.txt  \n",
            "  inflating: /content/drones/drone_dataset/train/labels/pic_306.txt  \n",
            "  inflating: /content/drones/drone_dataset/train/labels/pic_307.txt  \n",
            "  inflating: /content/drones/drone_dataset/train/labels/pic_308.txt  \n",
            "  inflating: /content/drones/drone_dataset/train/labels/pic_309.txt  \n",
            "  inflating: /content/drones/drone_dataset/train/labels/pic_310.txt  \n",
            "  inflating: /content/drones/drone_dataset/train/labels/pic_311.txt  \n",
            "  inflating: /content/drones/drone_dataset/train/labels/pic_312.txt  \n",
            "  inflating: /content/drones/drone_dataset/train/labels/pic_313.txt  \n",
            "  inflating: /content/drones/drone_dataset/train/labels/pic_314.txt  \n",
            "  inflating: /content/drones/drone_dataset/train/labels/pic_315.txt  \n",
            "  inflating: /content/drones/drone_dataset/train/labels/pic_316.txt  \n",
            "  inflating: /content/drones/drone_dataset/train/labels/pic_317.txt  \n",
            "  inflating: /content/drones/drone_dataset/train/labels/pic_318.txt  \n",
            "  inflating: /content/drones/drone_dataset/train/labels/pic_319.txt  \n",
            "  inflating: /content/drones/drone_dataset/train/labels/pic_320.txt  \n",
            "  inflating: /content/drones/drone_dataset/train/labels/pic_321.txt  \n",
            "  inflating: /content/drones/drone_dataset/train/labels/pic_322.txt  \n",
            "  inflating: /content/drones/drone_dataset/train/labels/pic_323.txt  \n",
            "  inflating: /content/drones/drone_dataset/train/labels/pic_324.txt  \n",
            "  inflating: /content/drones/drone_dataset/train/labels/pic_325.txt  \n",
            "  inflating: /content/drones/drone_dataset/train/labels/pic_327.txt  \n",
            "  inflating: /content/drones/drone_dataset/train/labels/pic_328.txt  \n",
            "  inflating: /content/drones/drone_dataset/train/labels/pic_329.txt  \n",
            "  inflating: /content/drones/drone_dataset/train/labels/pic_330.txt  \n",
            "  inflating: /content/drones/drone_dataset/train/labels/pic_331.txt  \n",
            "  inflating: /content/drones/drone_dataset/train/labels/pic_332.txt  \n",
            "  inflating: /content/drones/drone_dataset/train/labels/pic_333.txt  \n",
            "  inflating: /content/drones/drone_dataset/train/labels/pic_337.txt  \n",
            "  inflating: /content/drones/drone_dataset/train/labels/pic_338.txt  \n",
            "  inflating: /content/drones/drone_dataset/train/labels/pic_339.txt  \n",
            "  inflating: /content/drones/drone_dataset/train/labels/pic_340.txt  \n",
            "  inflating: /content/drones/drone_dataset/train/labels/pic_341.txt  \n",
            "  inflating: /content/drones/drone_dataset/train/labels/pic_342.txt  \n",
            "  inflating: /content/drones/drone_dataset/train/labels/pic_343.txt  \n",
            "  inflating: /content/drones/drone_dataset/train/labels/pic_344.txt  \n",
            "  inflating: /content/drones/drone_dataset/train/labels/pic_345.txt  \n",
            "  inflating: /content/drones/drone_dataset/train/labels/pic_346.txt  \n",
            "  inflating: /content/drones/drone_dataset/train/labels/pic_348.txt  \n",
            "  inflating: /content/drones/drone_dataset/train/labels/pic_349.txt  \n",
            "  inflating: /content/drones/drone_dataset/train/labels/pic_350.txt  \n",
            "  inflating: /content/drones/drone_dataset/train/labels/pic_351.txt  \n",
            "  inflating: /content/drones/drone_dataset/train/labels/pic_352.txt  \n",
            "  inflating: /content/drones/drone_dataset/train/labels/pic_353.txt  \n",
            "  inflating: /content/drones/drone_dataset/train/labels/pic_354.txt  \n",
            "  inflating: /content/drones/drone_dataset/train/labels/pic_356.txt  \n",
            "  inflating: /content/drones/drone_dataset/train/labels/pic_357.txt  \n",
            "  inflating: /content/drones/drone_dataset/train/labels/pic_360.txt  \n",
            "  inflating: /content/drones/drone_dataset/train/labels/pic_361.txt  \n",
            "  inflating: /content/drones/drone_dataset/train/labels/pic_362.txt  \n",
            "  inflating: /content/drones/drone_dataset/train/labels/pic_363.txt  \n",
            "  inflating: /content/drones/drone_dataset/train/labels/pic_365.txt  \n",
            "  inflating: /content/drones/drone_dataset/train/labels/pic_367.txt  \n",
            "  inflating: /content/drones/drone_dataset/train/labels/pic_368.txt  \n",
            "  inflating: /content/drones/drone_dataset/train/labels/pic_370.txt  \n",
            "  inflating: /content/drones/drone_dataset/train/labels/pic_371.txt  \n",
            "  inflating: /content/drones/drone_dataset/train/labels/pic_372.txt  \n",
            "  inflating: /content/drones/drone_dataset/train/labels/pic_373.txt  \n",
            "  inflating: /content/drones/drone_dataset/train/labels/pic_375.txt  \n",
            "  inflating: /content/drones/drone_dataset/train/labels/pic_376.txt  \n",
            "  inflating: /content/drones/drone_dataset/train/labels/pic_378.txt  \n",
            "  inflating: /content/drones/drone_dataset/train/labels/pic_379.txt  \n",
            "  inflating: /content/drones/drone_dataset/train/labels/pic_380.txt  \n",
            "  inflating: /content/drones/drone_dataset/train/labels/pic_382.txt  \n",
            "  inflating: /content/drones/drone_dataset/train/labels/pic_384.txt  \n",
            "  inflating: /content/drones/drone_dataset/train/labels/pic_385.txt  \n",
            "  inflating: /content/drones/drone_dataset/train/labels/pic_386.txt  \n",
            "  inflating: /content/drones/drone_dataset/train/labels/pic_387.txt  \n",
            "  inflating: /content/drones/drone_dataset/train/labels/pic_388.txt  \n",
            "  inflating: /content/drones/drone_dataset/train/labels/pic_389.txt  \n",
            "  inflating: /content/drones/drone_dataset/train/labels/pic_390.txt  \n",
            "  inflating: /content/drones/drone_dataset/train/labels/pic_393.txt  \n",
            "  inflating: /content/drones/drone_dataset/train/labels/pic_394.txt  \n",
            "  inflating: /content/drones/drone_dataset/train/labels/pic_396.txt  \n",
            "  inflating: /content/drones/drone_dataset/train/labels/pic_397.txt  \n",
            "  inflating: /content/drones/drone_dataset/train/labels/pic_398.txt  \n",
            "  inflating: /content/drones/drone_dataset/train/labels/pic_401.txt  \n",
            "  inflating: /content/drones/drone_dataset/train/labels/pic_402.txt  \n",
            "  inflating: /content/drones/drone_dataset/train/labels/pic_403.txt  \n",
            "  inflating: /content/drones/drone_dataset/train/labels/pic_406.txt  \n",
            "  inflating: /content/drones/drone_dataset/train/labels/pic_407.txt  \n",
            "  inflating: /content/drones/drone_dataset/train/labels/pic_408.txt  \n",
            "  inflating: /content/drones/drone_dataset/train/labels/pic_410.txt  \n",
            "  inflating: /content/drones/drone_dataset/train/labels/pic_411.txt  \n",
            "  inflating: /content/drones/drone_dataset/train/labels/pic_413.txt  \n",
            "  inflating: /content/drones/drone_dataset/train/labels/pic_414.txt  \n",
            "  inflating: /content/drones/drone_dataset/train/labels/pic_415.txt  \n",
            "  inflating: /content/drones/drone_dataset/train/labels/pic_416.txt  \n",
            "  inflating: /content/drones/drone_dataset/train/labels/pic_417.txt  \n",
            "  inflating: /content/drones/drone_dataset/train/labels/pic_418.txt  \n",
            "  inflating: /content/drones/drone_dataset/train/labels/pic_419.txt  \n",
            "  inflating: /content/drones/drone_dataset/train/labels/pic_420.txt  \n",
            "  inflating: /content/drones/drone_dataset/train/labels/pic_421.txt  \n",
            "  inflating: /content/drones/drone_dataset/train/labels/pic_422.txt  \n",
            "  inflating: /content/drones/drone_dataset/train/labels/pic_424.txt  \n",
            "  inflating: /content/drones/drone_dataset/train/labels/pic_426.txt  \n",
            "  inflating: /content/drones/drone_dataset/train/labels/pic_427.txt  \n",
            "  inflating: /content/drones/drone_dataset/train/labels/pic_428.txt  \n",
            "  inflating: /content/drones/drone_dataset/train/labels/pic_429.txt  \n",
            "  inflating: /content/drones/drone_dataset/train/labels/pic_432.txt  \n",
            "  inflating: /content/drones/drone_dataset/train/labels/pic_433.txt  \n",
            "  inflating: /content/drones/drone_dataset/train/labels/pic_434.txt  \n",
            "  inflating: /content/drones/drone_dataset/train/labels/pic_435.txt  \n",
            "  inflating: /content/drones/drone_dataset/train/labels/pic_436.txt  \n",
            "  inflating: /content/drones/drone_dataset/train/labels/pic_437.txt  \n",
            "  inflating: /content/drones/drone_dataset/train/labels/pic_439.txt  \n",
            "  inflating: /content/drones/drone_dataset/train/labels/pic_440.txt  \n",
            "  inflating: /content/drones/drone_dataset/train/labels/pic_441.txt  \n",
            "  inflating: /content/drones/drone_dataset/train/labels/pic_442.txt  \n",
            "  inflating: /content/drones/drone_dataset/train/labels/pic_443.txt  \n",
            "  inflating: /content/drones/drone_dataset/train/labels/pic_444.txt  \n",
            "  inflating: /content/drones/drone_dataset/train/labels/pic_445.txt  \n",
            "  inflating: /content/drones/drone_dataset/train/labels/pic_447.txt  \n",
            "  inflating: /content/drones/drone_dataset/train/labels/pic_448.txt  \n",
            "  inflating: /content/drones/drone_dataset/train/labels/pic_449.txt  \n",
            "  inflating: /content/drones/drone_dataset/train/labels/pic_450.txt  \n",
            "  inflating: /content/drones/drone_dataset/train/labels/pic_451.txt  \n",
            "  inflating: /content/drones/drone_dataset/train/labels/pic_452.txt  \n",
            "  inflating: /content/drones/drone_dataset/train/labels/pic_453.txt  \n",
            "  inflating: /content/drones/drone_dataset/train/labels/pic_454.txt  \n",
            "  inflating: /content/drones/drone_dataset/train/labels/pic_455.txt  \n",
            "  inflating: /content/drones/drone_dataset/train/labels/pic_456.txt  \n",
            "  inflating: /content/drones/drone_dataset/train/labels/pic_457.txt  \n",
            "  inflating: /content/drones/drone_dataset/train/labels/pic_460.txt  \n",
            "  inflating: /content/drones/drone_dataset/train/labels/pic_461.txt  \n",
            "  inflating: /content/drones/drone_dataset/train/labels/pic_464.txt  \n",
            "  inflating: /content/drones/drone_dataset/train/labels/pic_466.txt  \n",
            "  inflating: /content/drones/drone_dataset/train/labels/pic_467.txt  \n",
            "  inflating: /content/drones/drone_dataset/train/labels/pic_468.txt  \n",
            "  inflating: /content/drones/drone_dataset/train/labels/pic_469.txt  \n",
            "  inflating: /content/drones/drone_dataset/train/labels/pic_470.txt  \n",
            "  inflating: /content/drones/drone_dataset/train/labels/pic_471.txt  \n",
            "  inflating: /content/drones/drone_dataset/train/labels/pic_472.txt  \n",
            "  inflating: /content/drones/drone_dataset/train/labels/pic_474.txt  \n",
            "  inflating: /content/drones/drone_dataset/train/labels/pic_475.txt  \n",
            "  inflating: /content/drones/drone_dataset/train/labels/pic_476.txt  \n",
            "  inflating: /content/drones/drone_dataset/train/labels/pic_477.txt  \n",
            "  inflating: /content/drones/drone_dataset/train/labels/pic_478.txt  \n",
            "  inflating: /content/drones/drone_dataset/train/labels/pic_480.txt  \n",
            "  inflating: /content/drones/drone_dataset/train/labels/pic_481.txt  \n",
            "  inflating: /content/drones/drone_dataset/train/labels/pic_482.txt  \n",
            "  inflating: /content/drones/drone_dataset/train/labels/pic_484.txt  \n",
            "  inflating: /content/drones/drone_dataset/train/labels/pic_485.txt  \n",
            "  inflating: /content/drones/drone_dataset/train/labels/pic_486.txt  \n",
            "  inflating: /content/drones/drone_dataset/train/labels/pic_487.txt  \n",
            "  inflating: /content/drones/drone_dataset/train/labels/pic_488.txt  \n",
            "  inflating: /content/drones/drone_dataset/train/labels/pic_489.txt  \n",
            "  inflating: /content/drones/drone_dataset/train/labels/pic_491.txt  \n",
            "  inflating: /content/drones/drone_dataset/train/labels/pic_492.txt  \n",
            "  inflating: /content/drones/drone_dataset/train/labels/pic_493.txt  \n",
            "  inflating: /content/drones/drone_dataset/train/labels/pic_495.txt  \n",
            "  inflating: /content/drones/drone_dataset/train/labels/pic_497.txt  \n",
            "  inflating: /content/drones/drone_dataset/train/labels/pic_498.txt  \n",
            "  inflating: /content/drones/drone_dataset/train/labels/pic_499.txt  \n",
            "  inflating: /content/drones/drone_dataset/train/labels/pic_500.txt  \n",
            "  inflating: /content/drones/drone_dataset/train/labels/pic_501.txt  \n",
            "  inflating: /content/drones/drone_dataset/train/labels/pic_502.txt  \n",
            "  inflating: /content/drones/drone_dataset/train/labels/pic_504.txt  \n",
            "  inflating: /content/drones/drone_dataset/train/labels/pic_505.txt  \n",
            "  inflating: /content/drones/drone_dataset/train/labels/pic_506.txt  \n",
            "  inflating: /content/drones/drone_dataset/train/labels/pic_507.txt  \n",
            "  inflating: /content/drones/drone_dataset/train/labels/pic_509.txt  \n",
            "  inflating: /content/drones/drone_dataset/train/labels/pic_510.txt  \n",
            "  inflating: /content/drones/drone_dataset/train/labels/pic_511.txt  \n",
            "  inflating: /content/drones/drone_dataset/train/labels/pic_513.txt  \n",
            "  inflating: /content/drones/drone_dataset/train/labels/pic_514.txt  \n",
            "  inflating: /content/drones/drone_dataset/train/labels/pic_515.txt  \n",
            "  inflating: /content/drones/drone_dataset/train/labels/pic_516.txt  \n",
            "  inflating: /content/drones/drone_dataset/train/labels/pic_517.txt  \n",
            "  inflating: /content/drones/drone_dataset/train/labels/pic_518.txt  \n",
            "  inflating: /content/drones/drone_dataset/train/labels/pic_519.txt  \n",
            "  inflating: /content/drones/drone_dataset/train/labels/pic_521.txt  \n",
            "  inflating: /content/drones/drone_dataset/train/labels/pic_522.txt  \n",
            "  inflating: /content/drones/drone_dataset/train/labels/pic_523.txt  \n",
            "  inflating: /content/drones/drone_dataset/train/labels/pic_524.txt  \n",
            "  inflating: /content/drones/drone_dataset/train/labels/pic_525.txt  \n",
            "  inflating: /content/drones/drone_dataset/train/labels/pic_526.txt  \n",
            "  inflating: /content/drones/drone_dataset/train/labels/pic_529.txt  \n",
            "  inflating: /content/drones/drone_dataset/train/labels/pic_531.txt  \n",
            "  inflating: /content/drones/drone_dataset/train/labels/pic_532.txt  \n",
            "  inflating: /content/drones/drone_dataset/train/labels/pic_534.txt  \n",
            "  inflating: /content/drones/drone_dataset/train/labels/pic_535.txt  \n",
            "  inflating: /content/drones/drone_dataset/train/labels/pic_536.txt  \n",
            "  inflating: /content/drones/drone_dataset/train/labels/pic_537.txt  \n",
            "  inflating: /content/drones/drone_dataset/train/labels/pic_539.txt  \n",
            "  inflating: /content/drones/drone_dataset/train/labels/pic_542.txt  \n",
            "  inflating: /content/drones/drone_dataset/train/labels/pic_543.txt  \n",
            "  inflating: /content/drones/drone_dataset/train/labels/pic_544.txt  \n",
            "  inflating: /content/drones/drone_dataset/train/labels/pic_545.txt  \n",
            "  inflating: /content/drones/drone_dataset/train/labels/pic_546.txt  \n",
            "  inflating: /content/drones/drone_dataset/train/labels/pic_547.txt  \n",
            "  inflating: /content/drones/drone_dataset/train/labels/pic_548.txt  \n",
            "  inflating: /content/drones/drone_dataset/train/labels/pic_549.txt  \n",
            "  inflating: /content/drones/drone_dataset/train/labels/pic_550.txt  \n",
            "  inflating: /content/drones/drone_dataset/train/labels/pic_551.txt  \n",
            "  inflating: /content/drones/drone_dataset/train/labels/pic_552.txt  \n",
            "  inflating: /content/drones/drone_dataset/train/labels/pic_554.txt  \n",
            "  inflating: /content/drones/drone_dataset/train/labels/pic_555.txt  \n",
            "  inflating: /content/drones/drone_dataset/train/labels/pic_556.txt  \n",
            "  inflating: /content/drones/drone_dataset/train/labels/pic_557.txt  \n",
            "  inflating: /content/drones/drone_dataset/train/labels/pic_559.txt  \n",
            "  inflating: /content/drones/drone_dataset/train/labels/pic_560.txt  \n",
            "  inflating: /content/drones/drone_dataset/train/labels/pic_561.txt  \n",
            "  inflating: /content/drones/drone_dataset/train/labels/pic_562.txt  \n",
            "  inflating: /content/drones/drone_dataset/train/labels/pic_563.txt  \n",
            "  inflating: /content/drones/drone_dataset/train/labels/pic_564.txt  \n",
            "  inflating: /content/drones/drone_dataset/train/labels/pic_566.txt  \n",
            "  inflating: /content/drones/drone_dataset/train/labels/pic_567.txt  \n",
            "  inflating: /content/drones/drone_dataset/train/labels/pic_568.txt  \n",
            "  inflating: /content/drones/drone_dataset/train/labels/pic_569.txt  \n",
            "  inflating: /content/drones/drone_dataset/train/labels/pic_570.txt  \n",
            "  inflating: /content/drones/drone_dataset/train/labels/pic_571.txt  \n",
            "  inflating: /content/drones/drone_dataset/train/labels/pic_573.txt  \n",
            "  inflating: /content/drones/drone_dataset/train/labels/pic_574.txt  \n",
            "  inflating: /content/drones/drone_dataset/train/labels/pic_575.txt  \n",
            "  inflating: /content/drones/drone_dataset/train/labels/pic_576.txt  \n",
            "  inflating: /content/drones/drone_dataset/train/labels/pic_577.txt  \n",
            "  inflating: /content/drones/drone_dataset/train/labels/pic_578.txt  \n",
            "  inflating: /content/drones/drone_dataset/train/labels/pic_579.txt  \n",
            "  inflating: /content/drones/drone_dataset/train/labels/pic_580.txt  \n",
            "  inflating: /content/drones/drone_dataset/train/labels/pic_581.txt  \n",
            "  inflating: /content/drones/drone_dataset/train/labels/pic_582.txt  \n",
            "  inflating: /content/drones/drone_dataset/train/labels/pic_583.txt  \n",
            "  inflating: /content/drones/drone_dataset/train/labels/pic_584.txt  \n",
            "  inflating: /content/drones/drone_dataset/train/labels/pic_586.txt  \n",
            "  inflating: /content/drones/drone_dataset/train/labels/pic_587.txt  \n",
            "  inflating: /content/drones/drone_dataset/train/labels/pic_589.txt  \n",
            "  inflating: /content/drones/drone_dataset/train/labels/pic_590.txt  \n",
            "  inflating: /content/drones/drone_dataset/train/labels/pic_591.txt  \n",
            "  inflating: /content/drones/drone_dataset/train/labels/pic_593.txt  \n",
            "  inflating: /content/drones/drone_dataset/train/labels/pic_594.txt  \n",
            "  inflating: /content/drones/drone_dataset/train/labels/pic_595.txt  \n",
            "  inflating: /content/drones/drone_dataset/train/labels/pic_596.txt  \n",
            "  inflating: /content/drones/drone_dataset/train/labels/pic_598.txt  \n",
            "  inflating: /content/drones/drone_dataset/train/labels/pic_600.txt  \n",
            "  inflating: /content/drones/drone_dataset/train/labels/pic_601.txt  \n",
            "  inflating: /content/drones/drone_dataset/train/labels/pic_602.txt  \n",
            "  inflating: /content/drones/drone_dataset/train/labels/pic_604.txt  \n",
            "  inflating: /content/drones/drone_dataset/train/labels/pic_605.txt  \n",
            "  inflating: /content/drones/drone_dataset/train/labels/pic_607.txt  \n",
            "  inflating: /content/drones/drone_dataset/train/labels/pic_608.txt  \n",
            "  inflating: /content/drones/drone_dataset/train/labels/pic_609.txt  \n",
            "  inflating: /content/drones/drone_dataset/train/labels/pic_610.txt  \n",
            "  inflating: /content/drones/drone_dataset/train/labels/pic_612.txt  \n",
            "  inflating: /content/drones/drone_dataset/train/labels/pic_615.txt  \n",
            "  inflating: /content/drones/drone_dataset/train/labels/pic_616.txt  \n",
            "  inflating: /content/drones/drone_dataset/train/labels/pic_617.txt  \n",
            "  inflating: /content/drones/drone_dataset/train/labels/pic_618.txt  \n",
            "  inflating: /content/drones/drone_dataset/train/labels/pic_619.txt  \n",
            "  inflating: /content/drones/drone_dataset/train/labels/pic_620.txt  \n",
            "  inflating: /content/drones/drone_dataset/train/labels/pic_622.txt  \n",
            "  inflating: /content/drones/drone_dataset/train/labels/pic_623.txt  \n",
            "  inflating: /content/drones/drone_dataset/train/labels/pic_625.txt  \n",
            "  inflating: /content/drones/drone_dataset/train/labels/pic_626.txt  \n",
            "  inflating: /content/drones/drone_dataset/train/labels/pic_627.txt  \n",
            "  inflating: /content/drones/drone_dataset/train/labels/pic_628.txt  \n",
            "  inflating: /content/drones/drone_dataset/train/labels/pic_630.txt  \n",
            "  inflating: /content/drones/drone_dataset/train/labels/pic_631.txt  \n",
            "  inflating: /content/drones/drone_dataset/train/labels/pic_632.txt  \n",
            "  inflating: /content/drones/drone_dataset/train/labels/pic_633.txt  \n",
            "  inflating: /content/drones/drone_dataset/train/labels/pic_634.txt  \n",
            "  inflating: /content/drones/drone_dataset/train/labels/pic_636.txt  \n",
            "  inflating: /content/drones/drone_dataset/train/labels/pic_637.txt  \n",
            "  inflating: /content/drones/drone_dataset/train/labels/pic_638.txt  \n",
            "  inflating: /content/drones/drone_dataset/train/labels/pic_639.txt  \n",
            "  inflating: /content/drones/drone_dataset/train/labels/pic_640.txt  \n",
            "  inflating: /content/drones/drone_dataset/train/labels/pic_642.txt  \n",
            "  inflating: /content/drones/drone_dataset/train/labels/pic_643.txt  \n",
            "  inflating: /content/drones/drone_dataset/train/labels/pic_644.txt  \n",
            "  inflating: /content/drones/drone_dataset/train/labels/pic_645.txt  \n",
            "  inflating: /content/drones/drone_dataset/train/labels/pic_646.txt  \n",
            "  inflating: /content/drones/drone_dataset/train/labels/pic_647.txt  \n",
            "  inflating: /content/drones/drone_dataset/train/labels/pic_648.txt  \n",
            "  inflating: /content/drones/drone_dataset/train/labels/pic_649.txt  \n",
            "  inflating: /content/drones/drone_dataset/train/labels/pic_650.txt  \n",
            "  inflating: /content/drones/drone_dataset/train/labels/pic_651.txt  \n",
            "  inflating: /content/drones/drone_dataset/train/labels/pic_652.txt  \n",
            "  inflating: /content/drones/drone_dataset/train/labels/pic_653.txt  \n",
            "  inflating: /content/drones/drone_dataset/train/labels/pic_654.txt  \n",
            "  inflating: /content/drones/drone_dataset/train/labels/pic_655.txt  \n",
            "  inflating: /content/drones/drone_dataset/train/labels/pic_656.txt  \n",
            "  inflating: /content/drones/drone_dataset/train/labels/pic_657.txt  \n",
            "  inflating: /content/drones/drone_dataset/train/labels/pic_658.txt  \n",
            "  inflating: /content/drones/drone_dataset/train/labels/pic_659.txt  \n",
            "  inflating: /content/drones/drone_dataset/train/labels/pic_660.txt  \n",
            "  inflating: /content/drones/drone_dataset/train/labels/pic_661.txt  \n",
            "  inflating: /content/drones/drone_dataset/train/labels/pic_662.txt  \n",
            "  inflating: /content/drones/drone_dataset/train/labels/pic_663.txt  \n",
            "  inflating: /content/drones/drone_dataset/train/labels/pic_664.txt  \n",
            "  inflating: /content/drones/drone_dataset/train/labels/pic_665.txt  \n",
            "  inflating: /content/drones/drone_dataset/train/labels/pic_666.txt  \n",
            "  inflating: /content/drones/drone_dataset/train/labels/pic_667.txt  \n",
            "  inflating: /content/drones/drone_dataset/train/labels/pic_668.txt  \n",
            "  inflating: /content/drones/drone_dataset/train/labels/pic_669.txt  \n",
            "  inflating: /content/drones/drone_dataset/train/labels/pic_670.txt  \n",
            "  inflating: /content/drones/drone_dataset/train/labels/pic_671.txt  \n",
            "  inflating: /content/drones/drone_dataset/train/labels/pic_672.txt  \n",
            "  inflating: /content/drones/drone_dataset/train/labels/pic_673.txt  \n",
            "  inflating: /content/drones/drone_dataset/train/labels/pic_674.txt  \n",
            "  inflating: /content/drones/drone_dataset/train/labels/pic_675.txt  \n",
            "  inflating: /content/drones/drone_dataset/train/labels/pic_676.txt  \n",
            "  inflating: /content/drones/drone_dataset/train/labels/pic_677.txt  \n",
            "  inflating: /content/drones/drone_dataset/train/labels/pic_678.txt  \n",
            "  inflating: /content/drones/drone_dataset/train/labels/pic_680.txt  \n",
            "  inflating: /content/drones/drone_dataset/train/labels/pic_681.txt  \n",
            "  inflating: /content/drones/drone_dataset/train/labels/pic_682.txt  \n",
            "  inflating: /content/drones/drone_dataset/train/labels/pic_683.txt  \n",
            "  inflating: /content/drones/drone_dataset/train/labels/pic_684.txt  \n",
            "  inflating: /content/drones/drone_dataset/train/labels/pic_685.txt  \n",
            "  inflating: /content/drones/drone_dataset/train/labels/pic_686.txt  \n",
            "  inflating: /content/drones/drone_dataset/train/labels/pic_688.txt  \n",
            "  inflating: /content/drones/drone_dataset/train/labels/pic_689.txt  \n",
            "  inflating: /content/drones/drone_dataset/train/labels/pic_690.txt  \n",
            "  inflating: /content/drones/drone_dataset/train/labels/pic_691.txt  \n",
            "  inflating: /content/drones/drone_dataset/train/labels/pic_692.txt  \n",
            "  inflating: /content/drones/drone_dataset/train/labels/pic_695.txt  \n",
            "  inflating: /content/drones/drone_dataset/train/labels/pic_696.txt  \n",
            "  inflating: /content/drones/drone_dataset/train/labels/pic_697.txt  \n",
            "  inflating: /content/drones/drone_dataset/train/labels/pic_698.txt  \n",
            "  inflating: /content/drones/drone_dataset/train/labels/pic_699.txt  \n",
            "  inflating: /content/drones/drone_dataset/train/labels/pic_700.txt  \n",
            "  inflating: /content/drones/drone_dataset/train/labels/pic_701.txt  \n",
            "  inflating: /content/drones/drone_dataset/train/labels/pic_702.txt  \n",
            "  inflating: /content/drones/drone_dataset/train/labels/pic_703.txt  \n",
            "  inflating: /content/drones/drone_dataset/train/labels/pic_704.txt  \n",
            "  inflating: /content/drones/drone_dataset/train/labels/pic_705.txt  \n",
            "  inflating: /content/drones/drone_dataset/train/labels/pic_706.txt  \n",
            "  inflating: /content/drones/drone_dataset/train/labels/pic_707.txt  \n",
            "  inflating: /content/drones/drone_dataset/train/labels/pic_708.txt  \n",
            "  inflating: /content/drones/drone_dataset/train/labels/pic_710.txt  \n",
            "  inflating: /content/drones/drone_dataset/train/labels/pic_711.txt  \n",
            "  inflating: /content/drones/drone_dataset/train/labels/pic_712.txt  \n",
            "  inflating: /content/drones/drone_dataset/train/labels/pic_714.txt  \n",
            "  inflating: /content/drones/drone_dataset/train/labels/pic_715.txt  \n",
            "  inflating: /content/drones/drone_dataset/train/labels/pic_717.txt  \n",
            "  inflating: /content/drones/drone_dataset/train/labels/pic_718.txt  \n",
            "  inflating: /content/drones/drone_dataset/train/labels/pic_719.txt  \n",
            "  inflating: /content/drones/drone_dataset/train/labels/pic_720.txt  \n",
            "  inflating: /content/drones/drone_dataset/train/labels/pic_721.txt  \n",
            "  inflating: /content/drones/drone_dataset/train/labels/pic_722.txt  \n",
            "  inflating: /content/drones/drone_dataset/train/labels/pic_723.txt  \n",
            "  inflating: /content/drones/drone_dataset/train/labels/pic_724.txt  \n",
            "  inflating: /content/drones/drone_dataset/train/labels/pic_725.txt  \n",
            "  inflating: /content/drones/drone_dataset/train/labels/pic_726.txt  \n",
            "  inflating: /content/drones/drone_dataset/train/labels/pic_727.txt  \n",
            "  inflating: /content/drones/drone_dataset/train/labels/pic_728.txt  \n",
            "  inflating: /content/drones/drone_dataset/train/labels/pic_729.txt  \n",
            "  inflating: /content/drones/drone_dataset/train/labels/pic_730.txt  \n",
            "  inflating: /content/drones/drone_dataset/train/labels/pic_733.txt  \n",
            "  inflating: /content/drones/drone_dataset/train/labels/pic_735.txt  \n",
            "  inflating: /content/drones/drone_dataset/train/labels/pic_736.txt  \n",
            "  inflating: /content/drones/drone_dataset/train/labels/pic_737.txt  \n",
            "  inflating: /content/drones/drone_dataset/train/labels/pic_738.txt  \n",
            "  inflating: /content/drones/drone_dataset/train/labels/pic_739.txt  \n",
            "  inflating: /content/drones/drone_dataset/train/labels/pic_740.txt  \n",
            "  inflating: /content/drones/drone_dataset/train/labels/pic_741.txt  \n",
            "  inflating: /content/drones/drone_dataset/train/labels/pic_743.txt  \n",
            "  inflating: /content/drones/drone_dataset/train/labels/pic_744.txt  \n",
            "  inflating: /content/drones/drone_dataset/train/labels/pic_746.txt  \n",
            "  inflating: /content/drones/drone_dataset/train/labels/pic_747.txt  \n",
            "  inflating: /content/drones/drone_dataset/train/labels/pic_749.txt  \n",
            "  inflating: /content/drones/drone_dataset/train/labels/pic_750.txt  \n",
            "  inflating: /content/drones/drone_dataset/train/labels/pic_752.txt  \n",
            "  inflating: /content/drones/drone_dataset/train/labels/pic_754.txt  \n",
            "  inflating: /content/drones/drone_dataset/train/labels/pic_755.txt  \n",
            "  inflating: /content/drones/drone_dataset/train/labels/pic_757.txt  \n",
            "  inflating: /content/drones/drone_dataset/train/labels/pic_759.txt  \n",
            "  inflating: /content/drones/drone_dataset/train/labels/pic_761.txt  \n",
            "  inflating: /content/drones/drone_dataset/train/labels/pic_762.txt  \n",
            "  inflating: /content/drones/drone_dataset/train/labels/pic_763.txt  \n",
            "  inflating: /content/drones/drone_dataset/train/labels/pic_765.txt  \n",
            "  inflating: /content/drones/drone_dataset/train/labels/pic_766.txt  \n",
            "  inflating: /content/drones/drone_dataset/train/labels/pic_767.txt  \n",
            "  inflating: /content/drones/drone_dataset/train/labels/pic_770.txt  \n",
            "  inflating: /content/drones/drone_dataset/train/labels/pic_772.txt  \n",
            "  inflating: /content/drones/drone_dataset/train/labels/pic_773.txt  \n",
            "  inflating: /content/drones/drone_dataset/train/labels/pic_774.txt  \n",
            "  inflating: /content/drones/drone_dataset/train/labels/pic_775.txt  \n",
            "  inflating: /content/drones/drone_dataset/train/labels/pic_776.txt  \n",
            "  inflating: /content/drones/drone_dataset/train/labels/pic_778.txt  \n",
            "  inflating: /content/drones/drone_dataset/train/labels/pic_780.txt  \n",
            "  inflating: /content/drones/drone_dataset/train/labels/pic_781.txt  \n",
            "  inflating: /content/drones/drone_dataset/train/labels/pic_782.txt  \n",
            "  inflating: /content/drones/drone_dataset/train/labels/pic_785.txt  \n",
            "  inflating: /content/drones/drone_dataset/train/labels/pic_786.txt  \n",
            "  inflating: /content/drones/drone_dataset/train/labels/pic_787.txt  \n",
            "  inflating: /content/drones/drone_dataset/train/labels/pic_789.txt  \n",
            "  inflating: /content/drones/drone_dataset/train/labels/pic_790.txt  \n",
            "  inflating: /content/drones/drone_dataset/train/labels/pic_792.txt  \n",
            "  inflating: /content/drones/drone_dataset/train/labels/pic_794.txt  \n",
            "  inflating: /content/drones/drone_dataset/train/labels/pic_797.txt  \n",
            "  inflating: /content/drones/drone_dataset/train/labels/pic_798.txt  \n",
            "  inflating: /content/drones/drone_dataset/train/labels/pic_799.txt  \n",
            "  inflating: /content/drones/drone_dataset/train/labels/pic_801.txt  \n",
            "  inflating: /content/drones/drone_dataset/train/labels/pic_802.txt  \n",
            "  inflating: /content/drones/drone_dataset/train/labels/pic_804.txt  \n",
            "  inflating: /content/drones/drone_dataset/train/labels/pic_806.txt  \n",
            "  inflating: /content/drones/drone_dataset/train/labels/pic_808.txt  \n",
            "  inflating: /content/drones/drone_dataset/train/labels/pic_810.txt  \n",
            "  inflating: /content/drones/drone_dataset/train/labels/pic_811.txt  \n",
            "  inflating: /content/drones/drone_dataset/train/labels/pic_812.txt  \n",
            "  inflating: /content/drones/drone_dataset/train/labels/pic_813.txt  \n",
            "  inflating: /content/drones/drone_dataset/train/labels/pic_814.txt  \n",
            "  inflating: /content/drones/drone_dataset/train/labels/pic_815.txt  \n",
            "  inflating: /content/drones/drone_dataset/train/labels/pic_817.txt  \n",
            "  inflating: /content/drones/drone_dataset/train/labels/pic_818.txt  \n",
            "  inflating: /content/drones/drone_dataset/train/labels/pic_820.txt  \n",
            "  inflating: /content/drones/drone_dataset/train/labels/pic_821.txt  \n",
            "  inflating: /content/drones/drone_dataset/train/labels/pic_822.txt  \n",
            "  inflating: /content/drones/drone_dataset/train/labels/pic_823.txt  \n",
            "  inflating: /content/drones/drone_dataset/train/labels/pic_826.txt  \n",
            "  inflating: /content/drones/drone_dataset/train/labels/pic_828.txt  \n",
            "  inflating: /content/drones/drone_dataset/train/labels/pic_831.txt  \n",
            "  inflating: /content/drones/drone_dataset/train/labels/pic_833.txt  \n",
            "  inflating: /content/drones/drone_dataset/train/labels/pic_834.txt  \n",
            "  inflating: /content/drones/drone_dataset/train/labels/pic_835.txt  \n",
            "  inflating: /content/drones/drone_dataset/train/labels/pic_836.txt  \n",
            "  inflating: /content/drones/drone_dataset/train/labels/pic_837.txt  \n",
            "  inflating: /content/drones/drone_dataset/train/labels/pic_838.txt  \n",
            "  inflating: /content/drones/drone_dataset/train/labels/pic_839.txt  \n",
            "  inflating: /content/drones/drone_dataset/train/labels/pic_841.txt  \n",
            "  inflating: /content/drones/drone_dataset/train/labels/pic_842.txt  \n",
            "  inflating: /content/drones/drone_dataset/train/labels/pic_843.txt  \n",
            "  inflating: /content/drones/drone_dataset/train/labels/pic_844.txt  \n",
            "  inflating: /content/drones/drone_dataset/train/labels/pic_845.txt  \n",
            "  inflating: /content/drones/drone_dataset/train/labels/pic_846.txt  \n",
            "  inflating: /content/drones/drone_dataset/train/labels/pic_849.txt  \n",
            "  inflating: /content/drones/drone_dataset/train/labels/pic_852.txt  \n",
            "  inflating: /content/drones/drone_dataset/train/labels/pic_854.txt  \n",
            "  inflating: /content/drones/drone_dataset/train/labels/pic_856.txt  \n",
            "  inflating: /content/drones/drone_dataset/train/labels/pic_857.txt  \n",
            "  inflating: /content/drones/drone_dataset/train/labels/pic_858.txt  \n",
            "  inflating: /content/drones/drone_dataset/train/labels/pic_859.txt  \n",
            "  inflating: /content/drones/drone_dataset/train/labels/pic_861.txt  \n",
            "  inflating: /content/drones/drone_dataset/train/labels/pic_862.txt  \n",
            "  inflating: /content/drones/drone_dataset/train/labels/pic_863.txt  \n",
            "  inflating: /content/drones/drone_dataset/train/labels/pic_867.txt  \n",
            "  inflating: /content/drones/drone_dataset/train/labels/pic_868.txt  \n",
            "  inflating: /content/drones/drone_dataset/train/labels/pic_869.txt  \n",
            "  inflating: /content/drones/drone_dataset/train/labels/pic_870.txt  \n",
            "  inflating: /content/drones/drone_dataset/train/labels/pic_871.txt  \n",
            "  inflating: /content/drones/drone_dataset/train/labels/pic_875.txt  \n",
            "  inflating: /content/drones/drone_dataset/train/labels/pic_878.txt  \n",
            "  inflating: /content/drones/drone_dataset/train/labels/pic_880.txt  \n",
            "  inflating: /content/drones/drone_dataset/train/labels/pic_882.txt  \n",
            "  inflating: /content/drones/drone_dataset/train/labels/pic_883.txt  \n",
            "  inflating: /content/drones/drone_dataset/train/labels/pic_884.txt  \n",
            "  inflating: /content/drones/drone_dataset/train/labels/pic_885.txt  \n",
            "  inflating: /content/drones/drone_dataset/train/labels/pic_887.txt  \n",
            "  inflating: /content/drones/drone_dataset/train/labels/pic_888.txt  \n",
            "  inflating: /content/drones/drone_dataset/train/labels/pic_890.txt  \n",
            "  inflating: /content/drones/drone_dataset/train/labels/pic_892.txt  \n",
            "  inflating: /content/drones/drone_dataset/train/labels/pic_893.txt  \n",
            "  inflating: /content/drones/drone_dataset/train/labels/pic_896.txt  \n",
            "  inflating: /content/drones/drone_dataset/train/labels/pic_898.txt  \n",
            "  inflating: /content/drones/drone_dataset/train/labels/pic_899.txt  \n",
            "  inflating: /content/drones/drone_dataset/train/labels/pic_901.txt  \n",
            "  inflating: /content/drones/drone_dataset/train/labels/pic_904.txt  \n",
            "  inflating: /content/drones/drone_dataset/train/labels/pic_905.txt  \n",
            "  inflating: /content/drones/drone_dataset/train/labels/pic_906.txt  \n",
            "  inflating: /content/drones/drone_dataset/train/labels/pic_909.txt  \n",
            "  inflating: /content/drones/drone_dataset/train/labels/pic_910.txt  \n",
            "  inflating: /content/drones/drone_dataset/train/labels/pic_911.txt  \n",
            "  inflating: /content/drones/drone_dataset/train/labels/pic_912.txt  \n",
            "  inflating: /content/drones/drone_dataset/train/labels/pic_914.txt  \n",
            "  inflating: /content/drones/drone_dataset/train/labels/pic_915.txt  \n",
            "  inflating: /content/drones/drone_dataset/train/labels/pic_917.txt  \n",
            "  inflating: /content/drones/drone_dataset/train/labels/pic_918.txt  \n",
            "  inflating: /content/drones/drone_dataset/train/labels/pic_921.txt  \n",
            "  inflating: /content/drones/drone_dataset/train/labels/pic_924.txt  \n",
            "  inflating: /content/drones/drone_dataset/train/labels/pic_927.txt  \n",
            "  inflating: /content/drones/drone_dataset/train/labels/pic_928.txt  \n",
            "  inflating: /content/drones/drone_dataset/train/labels/pic_930.txt  \n",
            "  inflating: /content/drones/drone_dataset/train/labels/pic_932.txt  \n",
            "  inflating: /content/drones/drone_dataset/train/labels/pic_935.txt  \n",
            "  inflating: /content/drones/drone_dataset/train/labels/pic_937.txt  \n",
            "  inflating: /content/drones/drone_dataset/train/labels/pic_939.txt  \n",
            "  inflating: /content/drones/drone_dataset/train/labels/pic_940.txt  \n",
            "  inflating: /content/drones/drone_dataset/train/labels/pic_942.txt  \n",
            "  inflating: /content/drones/drone_dataset/train/labels/pic_943.txt  \n",
            "  inflating: /content/drones/drone_dataset/train/labels/pic_945.txt  \n",
            "  inflating: /content/drones/drone_dataset/train/labels/pic_946.txt  \n",
            "  inflating: /content/drones/drone_dataset/train/labels/pic_950.txt  \n",
            "  inflating: /content/drones/drone_dataset/train/labels/pic_952.txt  \n",
            "  inflating: /content/drones/drone_dataset/train/labels/pic_953.txt  \n",
            "  inflating: /content/drones/drone_dataset/train/labels/pic_954.txt  \n",
            "  inflating: /content/drones/drone_dataset/train/labels/pic_957.txt  \n",
            "  inflating: /content/drones/drone_dataset/train/labels/pic_959.txt  \n",
            "  inflating: /content/drones/drone_dataset/train/labels/pic_961.txt  \n",
            "  inflating: /content/drones/drone_dataset/train/labels/pic_962.txt  \n",
            "  inflating: /content/drones/drone_dataset/train/labels/pic_963.txt  \n",
            "  inflating: /content/drones/drone_dataset/train/labels/pic_964.txt  \n",
            "  inflating: /content/drones/drone_dataset/train/labels/pic_965.txt  \n",
            "  inflating: /content/drones/drone_dataset/train/labels/pic_966.txt  \n",
            "  inflating: /content/drones/drone_dataset/train/labels/pic_967.txt  \n",
            "  inflating: /content/drones/drone_dataset/train/labels/pic_970.txt  \n",
            "  inflating: /content/drones/drone_dataset/train/labels/pic_971.txt  \n",
            "  inflating: /content/drones/drone_dataset/train/labels/pic_973.txt  \n",
            "  inflating: /content/drones/drone_dataset/train/labels/pic_975.txt  \n",
            "  inflating: /content/drones/drone_dataset/train/labels/pic_976.txt  \n",
            "  inflating: /content/drones/drone_dataset/train/labels/pic_981.txt  \n",
            "  inflating: /content/drones/drone_dataset/train/labels/pic_982.txt  \n",
            "  inflating: /content/drones/drone_dataset/train/labels/pic_983.txt  \n",
            "  inflating: /content/drones/drone_dataset/train/labels/pic_987.txt  \n",
            "  inflating: /content/drones/drone_dataset/train/labels/pic_991.txt  \n",
            "  inflating: /content/drones/drone_dataset/train/labels/pic_998.txt  \n",
            "  inflating: /content/drones/drone_dataset/train/labels/scene00001.txt  \n",
            "  inflating: /content/drones/drone_dataset/train/labels/scene00016.txt  \n",
            "  inflating: /content/drones/drone_dataset/train/labels/scene00031.txt  \n",
            "  inflating: /content/drones/drone_dataset/train/labels/scene00046.txt  \n",
            "  inflating: /content/drones/drone_dataset/train/labels/scene00061.txt  \n",
            "  inflating: /content/drones/drone_dataset/train/labels/scene00076.txt  \n",
            "  inflating: /content/drones/drone_dataset/train/labels/scene00091.txt  \n",
            "  inflating: /content/drones/drone_dataset/train/labels/scene00106.txt  \n",
            "  inflating: /content/drones/drone_dataset/train/labels/scene00121.txt  \n",
            "  inflating: /content/drones/drone_dataset/train/labels/scene00136.txt  \n",
            "  inflating: /content/drones/drone_dataset/train/labels/scene00151.txt  \n",
            "  inflating: /content/drones/drone_dataset/train/labels/scene00166.txt  \n",
            "  inflating: /content/drones/drone_dataset/train/labels/scene00181.txt  \n",
            "  inflating: /content/drones/drone_dataset/train/labels/scene00196.txt  \n",
            "  inflating: /content/drones/drone_dataset/train/labels/scene00211.txt  \n",
            "  inflating: /content/drones/drone_dataset/train/labels/scene00226.txt  \n",
            "  inflating: /content/drones/drone_dataset/train/labels/scene00241.txt  \n",
            "  inflating: /content/drones/drone_dataset/train/labels/scene00256.txt  \n",
            "  inflating: /content/drones/drone_dataset/train/labels/scene00271.txt  \n",
            "  inflating: /content/drones/drone_dataset/train/labels/scene00286.txt  \n",
            "  inflating: /content/drones/drone_dataset/train/labels/scene00301.txt  \n",
            "  inflating: /content/drones/drone_dataset/train/labels/scene00316.txt  \n",
            "  inflating: /content/drones/drone_dataset/train/labels/scene00331.txt  \n",
            "  inflating: /content/drones/drone_dataset/train/labels/scene00346.txt  \n",
            "  inflating: /content/drones/drone_dataset/train/labels/scene00361.txt  \n",
            "  inflating: /content/drones/drone_dataset/train/labels/scene00376.txt  \n",
            "  inflating: /content/drones/drone_dataset/train/labels/scene00391.txt  \n",
            "  inflating: /content/drones/drone_dataset/train/labels/scene00406.txt  \n",
            "  inflating: /content/drones/drone_dataset/train/labels/scene00421.txt  \n",
            "  inflating: /content/drones/drone_dataset/train/labels/scene00436.txt  \n",
            "  inflating: /content/drones/drone_dataset/train/labels/scene00451.txt  \n",
            "  inflating: /content/drones/drone_dataset/train/labels/scene00466.txt  \n",
            "  inflating: /content/drones/drone_dataset/train/labels/scene00481.txt  \n",
            "  inflating: /content/drones/drone_dataset/train/labels/scene00496.txt  \n",
            "  inflating: /content/drones/drone_dataset/train/labels/scene00511.txt  \n",
            "  inflating: /content/drones/drone_dataset/train/labels/scene00526.txt  \n",
            "  inflating: /content/drones/drone_dataset/train/labels/scene00541.txt  \n",
            "  inflating: /content/drones/drone_dataset/train/labels/scene00556.txt  \n",
            "  inflating: /content/drones/drone_dataset/train/labels/scene00571.txt  \n",
            "  inflating: /content/drones/drone_dataset/train/labels/scene00586.txt  \n",
            "  inflating: /content/drones/drone_dataset/train/labels/scene00601.txt  \n",
            "  inflating: /content/drones/drone_dataset/train/labels/scene00616.txt  \n",
            "  inflating: /content/drones/drone_dataset/train/labels/scene00631.txt  \n",
            "  inflating: /content/drones/drone_dataset/train/labels/scene00646.txt  \n",
            "  inflating: /content/drones/drone_dataset/train/labels/scene00661.txt  \n",
            "  inflating: /content/drones/drone_dataset/train/labels/scene00676.txt  \n",
            "  inflating: /content/drones/drone_dataset/train/labels/scene00691.txt  \n",
            "  inflating: /content/drones/drone_dataset/train/labels/scene00706.txt  \n",
            "  inflating: /content/drones/drone_dataset/train/labels/scene00721.txt  \n",
            "  inflating: /content/drones/drone_dataset/train/labels/scene00736.txt  \n",
            "  inflating: /content/drones/drone_dataset/train/labels/scene00751.txt  \n",
            "  inflating: /content/drones/drone_dataset/train/labels/scene00766.txt  \n",
            "  inflating: /content/drones/drone_dataset/train/labels/scene00781.txt  \n",
            "  inflating: /content/drones/drone_dataset/train/labels/scene00796.txt  \n",
            "  inflating: /content/drones/drone_dataset/train/labels/scene00811.txt  \n",
            "  inflating: /content/drones/drone_dataset/train/labels/scene00826.txt  \n",
            "  inflating: /content/drones/drone_dataset/train/labels/scene00841.txt  \n",
            "  inflating: /content/drones/drone_dataset/train/labels/scene00856.txt  \n",
            "  inflating: /content/drones/drone_dataset/train/labels/scene00871.txt  \n",
            "  inflating: /content/drones/drone_dataset/train/labels/scene00886.txt  \n",
            "  inflating: /content/drones/drone_dataset/train/labels/scene00901.txt  \n",
            "  inflating: /content/drones/drone_dataset/train/labels/scene00916.txt  \n",
            "  inflating: /content/drones/drone_dataset/train/labels/scene00931.txt  \n",
            "  inflating: /content/drones/drone_dataset/train/labels/scene00946.txt  \n",
            "  inflating: /content/drones/drone_dataset/train/labels/scene00961.txt  \n",
            "  inflating: /content/drones/drone_dataset/train/labels/scene00976.txt  \n",
            "  inflating: /content/drones/drone_dataset/train/labels/scene00991.txt  \n",
            "  inflating: /content/drones/drone_dataset/train/labels/scene01006.txt  \n",
            "  inflating: /content/drones/drone_dataset/train/labels/scene01021.txt  \n",
            "  inflating: /content/drones/drone_dataset/train/labels/scene01036.txt  \n",
            "  inflating: /content/drones/drone_dataset/train/labels/scene01051.txt  \n",
            "  inflating: /content/drones/drone_dataset/train/labels/yoto00001.txt  \n",
            "  inflating: /content/drones/drone_dataset/train/labels/yoto00030.txt  \n",
            "  inflating: /content/drones/drone_dataset/train/labels/yoto00059.txt  \n",
            "  inflating: /content/drones/drone_dataset/train/labels/yoto00262.txt  \n",
            "  inflating: /content/drones/drone_dataset/train/labels/yoto00291.txt  \n",
            "  inflating: /content/drones/drone_dataset/train/labels/yoto00320.txt  \n",
            "  inflating: /content/drones/drone_dataset/train/labels/yoto00349.txt  \n",
            "  inflating: /content/drones/drone_dataset/train/labels/yoto00378.txt  \n",
            "  inflating: /content/drones/drone_dataset/train/labels/yoto00407.txt  \n",
            "  inflating: /content/drones/drone_dataset/train/labels/yoto00436.txt  \n",
            "  inflating: /content/drones/drone_dataset/train/labels/yoto00465.txt  \n",
            "  inflating: /content/drones/drone_dataset/train/labels/yoto00494.txt  \n",
            "  inflating: /content/drones/drone_dataset/train/labels/yoto00755.txt  \n",
            "  inflating: /content/drones/drone_dataset/train/labels/yoto00784.txt  \n",
            "  inflating: /content/drones/drone_dataset/train/labels/yoto00813.txt  \n",
            "  inflating: /content/drones/drone_dataset/train/labels/yoto00842.txt  \n",
            "  inflating: /content/drones/drone_dataset/train/labels/yoto00871.txt  \n",
            "  inflating: /content/drones/drone_dataset/train/labels/yoto00900.txt  \n",
            "  inflating: /content/drones/drone_dataset/train/labels/yoto00929.txt  \n",
            "  inflating: /content/drones/drone_dataset/train/labels/yoto00958.txt  \n",
            "  inflating: /content/drones/drone_dataset/train/labels/yoto00987.txt  \n",
            "  inflating: /content/drones/drone_dataset/train/labels/yoto01016.txt  \n",
            "  inflating: /content/drones/drone_dataset/train/labels/yoto01045.txt  \n",
            "  inflating: /content/drones/drone_dataset/train/labels/yoto01074.txt  \n",
            "  inflating: /content/drones/drone_dataset/train/labels/yoto01103.txt  \n",
            "  inflating: /content/drones/drone_dataset/train/labels/yoto01132.txt  \n",
            "  inflating: /content/drones/drone_dataset/train/labels/yoto01161.txt  \n",
            "  inflating: /content/drones/drone_dataset/train/labels/yoto01190.txt  \n",
            "  inflating: /content/drones/drone_dataset/train/labels/yoto01219.txt  \n",
            "  inflating: /content/drones/drone_dataset/train/labels/yoto01248.txt  \n",
            "  inflating: /content/drones/drone_dataset/train/labels/yoto01277.txt  \n",
            "  inflating: /content/drones/drone_dataset/train/labels/yoto01306.txt  \n",
            "  inflating: /content/drones/drone_dataset/train/labels/yoto01335.txt  \n",
            "  inflating: /content/drones/drone_dataset/train/labels/yoto01364.txt  \n",
            "  inflating: /content/drones/drone_dataset/train/labels/yoto01393.txt  \n",
            "  inflating: /content/drones/drone_dataset/train/labels/yoto01422.txt  \n",
            "  inflating: /content/drones/drone_dataset/train/labels/yoto01451.txt  \n",
            "  inflating: /content/drones/drone_dataset/train/labels/yoto02611.txt  \n",
            "  inflating: /content/drones/drone_dataset/train/labels/yoto02640.txt  \n",
            "  inflating: /content/drones/drone_dataset/train/labels/yoto02669.txt  \n",
            "  inflating: /content/drones/drone_dataset/train/labels/yoto02698.txt  \n",
            "  inflating: /content/drones/drone_dataset/train/labels/yoto02727.txt  \n",
            "  inflating: /content/drones/drone_dataset/train/labels/yoto02756.txt  \n",
            "  inflating: /content/drones/drone_dataset/train/labels/yoto02785.txt  \n",
            "  inflating: /content/drones/drone_dataset/train/labels/yoto02814.txt  \n",
            "  inflating: /content/drones/drone_dataset/train/labels/yoto02843.txt  \n",
            "  inflating: /content/drones/drone_dataset/train/labels/yoto02872.txt  \n",
            "  inflating: /content/drones/drone_dataset/train/labels/yoto02901.txt  \n",
            "  inflating: /content/drones/drone_dataset/train/labels/yoto02930.txt  \n",
            "  inflating: /content/drones/drone_dataset/train/labels/yoto02959.txt  \n",
            "  inflating: /content/drones/drone_dataset/train/labels/yoto02988.txt  \n",
            "  inflating: /content/drones/drone_dataset/train/labels/yoto03017.txt  \n",
            "  inflating: /content/drones/drone_dataset/train/labels/yoto03046.txt  \n",
            "  inflating: /content/drones/drone_dataset/train/labels/yoto03075.txt  \n",
            "  inflating: /content/drones/drone_dataset/train/labels/yoto04931.txt  \n",
            "  inflating: /content/drones/drone_dataset/train/labels/yoto04989.txt  \n",
            "  inflating: /content/drones/drone_dataset/train/labels/yoto05018.txt  \n",
            "  inflating: /content/drones/drone_dataset/train/labels/yoto05076.txt  \n",
            "  inflating: /content/drones/drone_dataset/train/labels/yoto05134.txt  \n",
            "  inflating: /content/drones/drone_dataset/train/labels/yoto05163.txt  \n",
            "  inflating: /content/drones/drone_dataset/train/labels/yoto05192.txt  \n",
            "  inflating: /content/drones/drone_dataset/train/labels/yoto06410.txt  \n",
            "  inflating: /content/drones/drone_dataset/train/labels/yoto06439.txt  \n",
            "  inflating: /content/drones/drone_dataset/train/labels/yoto06468.txt  \n",
            "  inflating: /content/drones/drone_dataset/train/labels/yoto06497.txt  \n",
            "  inflating: /content/drones/drone_dataset/train/labels/yoto09716.txt  \n",
            "  inflating: /content/drones/drone_dataset/train/labels/yoto10383.txt  \n",
            "  inflating: /content/drones/drone_dataset/train/labels/yoto10412.txt  \n",
            "  inflating: /content/drones/drone_dataset/train/labels/yoto10441.txt  \n",
            "  inflating: /content/drones/drone_dataset/train/labels/yoto10499.txt  \n",
            "  inflating: /content/drones/drone_dataset/train/labels/yoto10557.txt  \n",
            "  inflating: /content/drones/drone_dataset/train/labels/yoto10586.txt  \n",
            "  inflating: /content/drones/drone_dataset/train/labels/yoto10702.txt  \n",
            "  inflating: /content/drones/drone_dataset/train/labels/yoto10731.txt  \n",
            "  inflating: /content/drones/drone_dataset/train/labels/yoto10760.txt  \n",
            "  inflating: /content/drones/drone_dataset/train/labels/yoto10789.txt  \n",
            "  inflating: /content/drones/drone_dataset/train/labels/yoto10818.txt  \n",
            "  inflating: /content/drones/drone_dataset/train/labels/yoto10847.txt  \n",
            "  inflating: /content/drones/drone_dataset/train/labels/yoto10876.txt  \n",
            "  inflating: /content/drones/drone_dataset/train/labels/yoto10905.txt  \n",
            "  inflating: /content/drones/drone_dataset/train/labels/yoto10934.txt  \n",
            "  inflating: /content/drones/drone_dataset/train/labels/yoto10963.txt  \n",
            "  inflating: /content/drones/drone_dataset/train/labels/yoto10992.txt  \n",
            "  inflating: /content/drones/drone_dataset/train/labels/yoto11021.txt  \n",
            "  inflating: /content/drones/drone_dataset/train/labels/yoto11050.txt  \n",
            "  inflating: /content/drones/drone_dataset/train/labels/yoto11079.txt  \n",
            "  inflating: /content/drones/drone_dataset/train/labels/yoto11108.txt  \n",
            "  inflating: /content/drones/drone_dataset/train/labels/yoto11485.txt  \n",
            "  inflating: /content/drones/drone_dataset/train/labels/yoto11920.txt  \n",
            "  inflating: /content/drones/drone_dataset/valid/images/0001.jpg  \n",
            "  inflating: /content/drones/drone_dataset/valid/images/0003.jpg  \n",
            "  inflating: /content/drones/drone_dataset/valid/images/0004.jpg  \n",
            "  inflating: /content/drones/drone_dataset/valid/images/0005.jpg  \n",
            "  inflating: /content/drones/drone_dataset/valid/images/0006.jpg  \n",
            "  inflating: /content/drones/drone_dataset/valid/images/0007.jpg  \n",
            "  inflating: /content/drones/drone_dataset/valid/images/0008.jpg  \n",
            "  inflating: /content/drones/drone_dataset/valid/images/0009.jpg  \n",
            "  inflating: /content/drones/drone_dataset/valid/images/0010.jpg  \n",
            "  inflating: /content/drones/drone_dataset/valid/images/0011.jpg  \n",
            "  inflating: /content/drones/drone_dataset/valid/images/0012.jpg  \n",
            "  inflating: /content/drones/drone_dataset/valid/images/0013.jpg  \n",
            "  inflating: /content/drones/drone_dataset/valid/images/0014.jpg  \n",
            "  inflating: /content/drones/drone_dataset/valid/images/0015.jpg  \n",
            "  inflating: /content/drones/drone_dataset/valid/images/0016.jpg  \n",
            "  inflating: /content/drones/drone_dataset/valid/images/0020.jpg  \n",
            "  inflating: /content/drones/drone_dataset/valid/images/0022.jpg  \n",
            "  inflating: /content/drones/drone_dataset/valid/images/0024.jpg  \n",
            "  inflating: /content/drones/drone_dataset/valid/images/0025.jpg  \n",
            "  inflating: /content/drones/drone_dataset/valid/images/0026.jpg  \n",
            "  inflating: /content/drones/drone_dataset/valid/images/0028.jpg  \n",
            "  inflating: /content/drones/drone_dataset/valid/images/0029.jpg  \n",
            "  inflating: /content/drones/drone_dataset/valid/images/0030.jpg  \n",
            "  inflating: /content/drones/drone_dataset/valid/images/0032.jpg  \n",
            "  inflating: /content/drones/drone_dataset/valid/images/0033.jpg  \n",
            "  inflating: /content/drones/drone_dataset/valid/images/0034.jpg  \n",
            "  inflating: /content/drones/drone_dataset/valid/images/0035.jpg  \n",
            "  inflating: /content/drones/drone_dataset/valid/images/0037.jpg  \n",
            "  inflating: /content/drones/drone_dataset/valid/images/0039.jpg  \n",
            "  inflating: /content/drones/drone_dataset/valid/images/0040.jpg  \n",
            "  inflating: /content/drones/drone_dataset/valid/images/0042.jpg  \n",
            "  inflating: /content/drones/drone_dataset/valid/images/0044.jpg  \n",
            "  inflating: /content/drones/drone_dataset/valid/images/0046.jpg  \n",
            "  inflating: /content/drones/drone_dataset/valid/images/0048.jpg  \n",
            "  inflating: /content/drones/drone_dataset/valid/images/0049.jpg  \n",
            "  inflating: /content/drones/drone_dataset/valid/images/0050.jpg  \n",
            "  inflating: /content/drones/drone_dataset/valid/images/0052.jpg  \n",
            "  inflating: /content/drones/drone_dataset/valid/images/0054.jpg  \n",
            "  inflating: /content/drones/drone_dataset/valid/images/0056.jpg  \n",
            "  inflating: /content/drones/drone_dataset/valid/images/0058.jpg  \n",
            "  inflating: /content/drones/drone_dataset/valid/images/0059.jpg  \n",
            "  inflating: /content/drones/drone_dataset/valid/images/0061.jpg  \n",
            "  inflating: /content/drones/drone_dataset/valid/images/0063.jpg  \n",
            "  inflating: /content/drones/drone_dataset/valid/images/0064.jpg  \n",
            "  inflating: /content/drones/drone_dataset/valid/images/0065.jpg  \n",
            "  inflating: /content/drones/drone_dataset/valid/images/0068.jpg  \n",
            "  inflating: /content/drones/drone_dataset/valid/images/0069.jpg  \n",
            "  inflating: /content/drones/drone_dataset/valid/images/0070.jpg  \n",
            "  inflating: /content/drones/drone_dataset/valid/images/0071.jpg  \n",
            "  inflating: /content/drones/drone_dataset/valid/images/0072.jpg  \n",
            "  inflating: /content/drones/drone_dataset/valid/images/0073.jpg  \n",
            "  inflating: /content/drones/drone_dataset/valid/images/0074.jpg  \n",
            "  inflating: /content/drones/drone_dataset/valid/images/0075.jpg  \n",
            "  inflating: /content/drones/drone_dataset/valid/images/0079.jpg  \n",
            "  inflating: /content/drones/drone_dataset/valid/images/0080.jpg  \n",
            "  inflating: /content/drones/drone_dataset/valid/images/0081.jpg  \n",
            "  inflating: /content/drones/drone_dataset/valid/images/0082.jpg  \n",
            "  inflating: /content/drones/drone_dataset/valid/images/0083.jpg  \n",
            "  inflating: /content/drones/drone_dataset/valid/images/0084.jpg  \n",
            "  inflating: /content/drones/drone_dataset/valid/images/0085.jpg  \n",
            "  inflating: /content/drones/drone_dataset/valid/images/0086.jpg  \n",
            "  inflating: /content/drones/drone_dataset/valid/images/0087.jpg  \n",
            "  inflating: /content/drones/drone_dataset/valid/images/0088.jpg  \n",
            "  inflating: /content/drones/drone_dataset/valid/images/0089.jpg  \n",
            "  inflating: /content/drones/drone_dataset/valid/images/0090.jpg  \n",
            "  inflating: /content/drones/drone_dataset/valid/images/0091.jpg  \n",
            "  inflating: /content/drones/drone_dataset/valid/images/0092.jpg  \n",
            "  inflating: /content/drones/drone_dataset/valid/images/0093.jpg  \n",
            "  inflating: /content/drones/drone_dataset/valid/images/0094.jpg  \n",
            "  inflating: /content/drones/drone_dataset/valid/images/0095.jpg  \n",
            "  inflating: /content/drones/drone_dataset/valid/images/0096.jpg  \n",
            "  inflating: /content/drones/drone_dataset/valid/images/0097.jpg  \n",
            "  inflating: /content/drones/drone_dataset/valid/images/0101.jpg  \n",
            "  inflating: /content/drones/drone_dataset/valid/images/0213.jpg  \n",
            "  inflating: /content/drones/drone_dataset/valid/images/0214.jpg  \n",
            "  inflating: /content/drones/drone_dataset/valid/images/0215.jpg  \n",
            "  inflating: /content/drones/drone_dataset/valid/images/0216.jpg  \n",
            "  inflating: /content/drones/drone_dataset/valid/images/0217.jpg  \n",
            "  inflating: /content/drones/drone_dataset/valid/images/0218.jpg  \n",
            "  inflating: /content/drones/drone_dataset/valid/images/0219.jpg  \n",
            "  inflating: /content/drones/drone_dataset/valid/images/0220.jpg  \n",
            "  inflating: /content/drones/drone_dataset/valid/images/0221.jpg  \n",
            "  inflating: /content/drones/drone_dataset/valid/images/0222.jpg  \n",
            "  inflating: /content/drones/drone_dataset/valid/images/0223.jpg  \n",
            "  inflating: /content/drones/drone_dataset/valid/images/0224.jpg  \n",
            "  inflating: /content/drones/drone_dataset/valid/images/0225.jpg  \n",
            "  inflating: /content/drones/drone_dataset/valid/images/0226.jpg  \n",
            "  inflating: /content/drones/drone_dataset/valid/images/0227.jpg  \n",
            "  inflating: /content/drones/drone_dataset/valid/images/0228.jpg  \n",
            "  inflating: /content/drones/drone_dataset/valid/images/0229.jpg  \n",
            "  inflating: /content/drones/drone_dataset/valid/images/0230.jpg  \n",
            "  inflating: /content/drones/drone_dataset/valid/images/0231.jpg  \n",
            "  inflating: /content/drones/drone_dataset/valid/images/0232.jpg  \n",
            "  inflating: /content/drones/drone_dataset/valid/images/0234.jpg  \n",
            "  inflating: /content/drones/drone_dataset/valid/images/0236.jpg  \n",
            "  inflating: /content/drones/drone_dataset/valid/images/0237.jpg  \n",
            "  inflating: /content/drones/drone_dataset/valid/images/0238.jpg  \n",
            "  inflating: /content/drones/drone_dataset/valid/images/0239.jpg  \n",
            "  inflating: /content/drones/drone_dataset/valid/images/0240.jpg  \n",
            "  inflating: /content/drones/drone_dataset/valid/images/0241.jpg  \n",
            "  inflating: /content/drones/drone_dataset/valid/images/0242.jpg  \n",
            "  inflating: /content/drones/drone_dataset/valid/images/0243.jpg  \n",
            "  inflating: /content/drones/drone_dataset/valid/images/0245.jpg  \n",
            "  inflating: /content/drones/drone_dataset/valid/images/0246.jpg  \n",
            "  inflating: /content/drones/drone_dataset/valid/images/0247.jpg  \n",
            "  inflating: /content/drones/drone_dataset/valid/images/0248.jpg  \n",
            "  inflating: /content/drones/drone_dataset/valid/images/0249.jpg  \n",
            "  inflating: /content/drones/drone_dataset/valid/images/0250.jpg  \n",
            "  inflating: /content/drones/drone_dataset/valid/images/0251.jpg  \n",
            "  inflating: /content/drones/drone_dataset/valid/images/0252.jpg  \n",
            "  inflating: /content/drones/drone_dataset/valid/images/0253.jpg  \n",
            "  inflating: /content/drones/drone_dataset/valid/images/0254.jpg  \n",
            "  inflating: /content/drones/drone_dataset/valid/images/0255.jpg  \n",
            "  inflating: /content/drones/drone_dataset/valid/images/0256.jpg  \n",
            "  inflating: /content/drones/drone_dataset/valid/images/0257.jpg  \n",
            "  inflating: /content/drones/drone_dataset/valid/images/0258.jpg  \n",
            "  inflating: /content/drones/drone_dataset/valid/images/0259.jpg  \n",
            "  inflating: /content/drones/drone_dataset/valid/images/0260.jpg  \n",
            "  inflating: /content/drones/drone_dataset/valid/images/0261.jpg  \n",
            "  inflating: /content/drones/drone_dataset/valid/images/0262.jpg  \n",
            "  inflating: /content/drones/drone_dataset/valid/images/0263.jpg  \n",
            "  inflating: /content/drones/drone_dataset/valid/images/0264.jpg  \n",
            "  inflating: /content/drones/drone_dataset/valid/images/0265.jpg  \n",
            "  inflating: /content/drones/drone_dataset/valid/images/0266.jpg  \n",
            "  inflating: /content/drones/drone_dataset/valid/images/0267.jpg  \n",
            "  inflating: /content/drones/drone_dataset/valid/images/0268.jpg  \n",
            "  inflating: /content/drones/drone_dataset/valid/images/0269.jpg  \n",
            "  inflating: /content/drones/drone_dataset/valid/images/0270.jpg  \n",
            "  inflating: /content/drones/drone_dataset/valid/images/0271.jpg  \n",
            "  inflating: /content/drones/drone_dataset/valid/images/0272.jpg  \n",
            "  inflating: /content/drones/drone_dataset/valid/images/0273.jpg  \n",
            "  inflating: /content/drones/drone_dataset/valid/images/0274.jpg  \n",
            "  inflating: /content/drones/drone_dataset/valid/images/0276.jpg  \n",
            "  inflating: /content/drones/drone_dataset/valid/images/0277.jpg  \n",
            "  inflating: /content/drones/drone_dataset/valid/images/0278.jpg  \n",
            "  inflating: /content/drones/drone_dataset/valid/images/0279.jpg  \n",
            "  inflating: /content/drones/drone_dataset/valid/images/0280.jpg  \n",
            "  inflating: /content/drones/drone_dataset/valid/images/0281.jpg  \n",
            "  inflating: /content/drones/drone_dataset/valid/images/0282.jpg  \n",
            "  inflating: /content/drones/drone_dataset/valid/images/0283.jpg  \n",
            "  inflating: /content/drones/drone_dataset/valid/images/0284.jpg  \n",
            "  inflating: /content/drones/drone_dataset/valid/images/0285.jpg  \n",
            "  inflating: /content/drones/drone_dataset/valid/images/0286.jpg  \n",
            "  inflating: /content/drones/drone_dataset/valid/images/0287.jpg  \n",
            "  inflating: /content/drones/drone_dataset/valid/images/0288.jpg  \n",
            "  inflating: /content/drones/drone_dataset/valid/images/0289.jpg  \n",
            "  inflating: /content/drones/drone_dataset/valid/images/0290.jpg  \n",
            "  inflating: /content/drones/drone_dataset/valid/images/0291.jpg  \n",
            "  inflating: /content/drones/drone_dataset/valid/images/0292.jpg  \n",
            "  inflating: /content/drones/drone_dataset/valid/images/0293.jpg  \n",
            "  inflating: /content/drones/drone_dataset/valid/images/0294.jpg  \n",
            "  inflating: /content/drones/drone_dataset/valid/images/0295.jpg  \n",
            "  inflating: /content/drones/drone_dataset/valid/images/0296.jpg  \n",
            "  inflating: /content/drones/drone_dataset/valid/images/0297.jpg  \n",
            "  inflating: /content/drones/drone_dataset/valid/images/0298.jpg  \n",
            "  inflating: /content/drones/drone_dataset/valid/images/0299.jpg  \n",
            "  inflating: /content/drones/drone_dataset/valid/images/0300.jpg  \n",
            "  inflating: /content/drones/drone_dataset/valid/images/0301.jpg  \n",
            "  inflating: /content/drones/drone_dataset/valid/images/0302.jpg  \n",
            "  inflating: /content/drones/drone_dataset/valid/images/0303.jpg  \n",
            "  inflating: /content/drones/drone_dataset/valid/images/0304.jpg  \n",
            "  inflating: /content/drones/drone_dataset/valid/images/0305.jpg  \n",
            "  inflating: /content/drones/drone_dataset/valid/images/0306.jpg  \n",
            "  inflating: /content/drones/drone_dataset/valid/images/0307.jpg  \n",
            "  inflating: /content/drones/drone_dataset/valid/images/0308.jpg  \n",
            "  inflating: /content/drones/drone_dataset/valid/images/0309.jpg  \n",
            "  inflating: /content/drones/drone_dataset/valid/images/0310.jpg  \n",
            "  inflating: /content/drones/drone_dataset/valid/images/0312.jpg  \n",
            "  inflating: /content/drones/drone_dataset/valid/images/0313.jpg  \n",
            "  inflating: /content/drones/drone_dataset/valid/images/0314.jpg  \n",
            "  inflating: /content/drones/drone_dataset/valid/images/0315.jpg  \n",
            "  inflating: /content/drones/drone_dataset/valid/images/0316.jpg  \n",
            "  inflating: /content/drones/drone_dataset/valid/images/0317.jpg  \n",
            "  inflating: /content/drones/drone_dataset/valid/images/0318.jpg  \n",
            "  inflating: /content/drones/drone_dataset/valid/images/0319.jpg  \n",
            "  inflating: /content/drones/drone_dataset/valid/images/0320.jpg  \n",
            "  inflating: /content/drones/drone_dataset/valid/images/0321.jpg  \n",
            "  inflating: /content/drones/drone_dataset/valid/images/0322.jpg  \n",
            "  inflating: /content/drones/drone_dataset/valid/images/0324.jpg  \n",
            "  inflating: /content/drones/drone_dataset/valid/images/0325.jpg  \n",
            "  inflating: /content/drones/drone_dataset/valid/images/0326.jpg  \n",
            "  inflating: /content/drones/drone_dataset/valid/images/0327.jpg  \n",
            "  inflating: /content/drones/drone_dataset/valid/images/0328.jpg  \n",
            "  inflating: /content/drones/drone_dataset/valid/images/0330.jpg  \n",
            "  inflating: /content/drones/drone_dataset/valid/images/0331.jpg  \n",
            "  inflating: /content/drones/drone_dataset/valid/images/0332.jpg  \n",
            "  inflating: /content/drones/drone_dataset/valid/images/foto00088.jpg  \n",
            "  inflating: /content/drones/drone_dataset/valid/images/foto00117.jpg  \n",
            "  inflating: /content/drones/drone_dataset/valid/images/foto00204.jpg  \n",
            "  inflating: /content/drones/drone_dataset/valid/images/foto00233.jpg  \n",
            "  inflating: /content/drones/drone_dataset/valid/images/foto00262.jpg  \n",
            "  inflating: /content/drones/drone_dataset/valid/images/foto00291.jpg  \n",
            "  inflating: /content/drones/drone_dataset/valid/images/foto00320.jpg  \n",
            "  inflating: /content/drones/drone_dataset/valid/images/foto00349.jpg  \n",
            "  inflating: /content/drones/drone_dataset/valid/images/foto00378.jpg  \n",
            "  inflating: /content/drones/drone_dataset/valid/images/foto00987.jpg  \n",
            "  inflating: /content/drones/drone_dataset/valid/images/foto01016.jpg  \n",
            "  inflating: /content/drones/drone_dataset/valid/images/foto01045.jpg  \n",
            "  inflating: /content/drones/drone_dataset/valid/images/foto01074.jpg  \n",
            "  inflating: /content/drones/drone_dataset/valid/images/foto01103.jpg  \n",
            "  inflating: /content/drones/drone_dataset/valid/images/foto01161.jpg  \n",
            "  inflating: /content/drones/drone_dataset/valid/images/foto01190.jpg  \n",
            "  inflating: /content/drones/drone_dataset/valid/images/foto01219.jpg  \n",
            "  inflating: /content/drones/drone_dataset/valid/images/foto01248.jpg  \n",
            "  inflating: /content/drones/drone_dataset/valid/images/foto01277.jpg  \n",
            "  inflating: /content/drones/drone_dataset/valid/images/foto01306.jpg  \n",
            "  inflating: /content/drones/drone_dataset/valid/images/foto01335.jpg  \n",
            "  inflating: /content/drones/drone_dataset/valid/images/foto01364.jpg  \n",
            "  inflating: /content/drones/drone_dataset/valid/images/foto01393.jpg  \n",
            "  inflating: /content/drones/drone_dataset/valid/images/foto01422.jpg  \n",
            "  inflating: /content/drones/drone_dataset/valid/images/foto01451.jpg  \n",
            "  inflating: /content/drones/drone_dataset/valid/images/foto01480.jpg  \n",
            "  inflating: /content/drones/drone_dataset/valid/images/foto01509.jpg  \n",
            "  inflating: /content/drones/drone_dataset/valid/images/foto01538.jpg  \n",
            "  inflating: /content/drones/drone_dataset/valid/images/foto01567.jpg  \n",
            "  inflating: /content/drones/drone_dataset/valid/images/foto01596.jpg  \n",
            "  inflating: /content/drones/drone_dataset/valid/images/foto01625.jpg  \n",
            "  inflating: /content/drones/drone_dataset/valid/images/foto01654.jpg  \n",
            "  inflating: /content/drones/drone_dataset/valid/images/foto01683.jpg  \n",
            "  inflating: /content/drones/drone_dataset/valid/images/foto01712.jpg  \n",
            "  inflating: /content/drones/drone_dataset/valid/images/foto01741.jpg  \n",
            "  inflating: /content/drones/drone_dataset/valid/images/foto01770.jpg  \n",
            "  inflating: /content/drones/drone_dataset/valid/images/foto01799.jpg  \n",
            "  inflating: /content/drones/drone_dataset/valid/images/foto01828.jpg  \n",
            "  inflating: /content/drones/drone_dataset/valid/images/foto01857.jpg  \n",
            "  inflating: /content/drones/drone_dataset/valid/images/foto01886.jpg  \n",
            "  inflating: /content/drones/drone_dataset/valid/images/foto01915.jpg  \n",
            "  inflating: /content/drones/drone_dataset/valid/images/foto01944.jpg  \n",
            "  inflating: /content/drones/drone_dataset/valid/images/foto01973.jpg  \n",
            "  inflating: /content/drones/drone_dataset/valid/images/foto02002.jpg  \n",
            "  inflating: /content/drones/drone_dataset/valid/images/foto02031.jpg  \n",
            "  inflating: /content/drones/drone_dataset/valid/images/foto02060.jpg  \n",
            "  inflating: /content/drones/drone_dataset/valid/images/foto02756.jpg  \n",
            "  inflating: /content/drones/drone_dataset/valid/images/foto02785.jpg  \n",
            "  inflating: /content/drones/drone_dataset/valid/images/foto02814.jpg  \n",
            "  inflating: /content/drones/drone_dataset/valid/images/foto02843.jpg  \n",
            "  inflating: /content/drones/drone_dataset/valid/images/foto02872.jpg  \n",
            "  inflating: /content/drones/drone_dataset/valid/images/foto04235.jpg  \n",
            "  inflating: /content/drones/drone_dataset/valid/images/foto04264.jpg  \n",
            "  inflating: /content/drones/drone_dataset/valid/images/foto04293.jpg  \n",
            "  inflating: /content/drones/drone_dataset/valid/images/foto04322.jpg  \n",
            "  inflating: /content/drones/drone_dataset/valid/images/foto04351.jpg  \n",
            "  inflating: /content/drones/drone_dataset/valid/images/foto04380.jpg  \n",
            "  inflating: /content/drones/drone_dataset/valid/images/foto04409.jpg  \n",
            "  inflating: /content/drones/drone_dataset/valid/images/foto04438.jpg  \n",
            "  inflating: /content/drones/drone_dataset/valid/images/foto04467.jpg  \n",
            "  inflating: /content/drones/drone_dataset/valid/images/foto04496.jpg  \n",
            "  inflating: /content/drones/drone_dataset/valid/images/foto04670.jpg  \n",
            "  inflating: /content/drones/drone_dataset/valid/images/foto04699.jpg  \n",
            "  inflating: /content/drones/drone_dataset/valid/images/foto04728.jpg  \n",
            "  inflating: /content/drones/drone_dataset/valid/images/foto04757.jpg  \n",
            "  inflating: /content/drones/drone_dataset/valid/images/foto04786.jpg  \n",
            "  inflating: /content/drones/drone_dataset/valid/images/foto04815.jpg  \n",
            "  inflating: /content/drones/drone_dataset/valid/images/foto04844.jpg  \n",
            "  inflating: /content/drones/drone_dataset/valid/images/foto04873.jpg  \n",
            "  inflating: /content/drones/drone_dataset/valid/images/foto04902.jpg  \n",
            "  inflating: /content/drones/drone_dataset/valid/images/foto04931.jpg  \n",
            "  inflating: /content/drones/drone_dataset/valid/images/foto04960.jpg  \n",
            "  inflating: /content/drones/drone_dataset/valid/images/foto04989.jpg  \n",
            "  inflating: /content/drones/drone_dataset/valid/images/foto05018.jpg  \n",
            "  inflating: /content/drones/drone_dataset/valid/images/foto05047.jpg  \n",
            "  inflating: /content/drones/drone_dataset/valid/images/foto05076.jpg  \n",
            "  inflating: /content/drones/drone_dataset/valid/images/foto05105.jpg  \n",
            "  inflating: /content/drones/drone_dataset/valid/images/foto05134.jpg  \n",
            "  inflating: /content/drones/drone_dataset/valid/images/foto05163.jpg  \n",
            "  inflating: /content/drones/drone_dataset/valid/images/foto05192.jpg  \n",
            "  inflating: /content/drones/drone_dataset/valid/images/foto05221.jpg  \n",
            "  inflating: /content/drones/drone_dataset/valid/images/foto05250.jpg  \n",
            "  inflating: /content/drones/drone_dataset/valid/images/foto05279.jpg  \n",
            "  inflating: /content/drones/drone_dataset/valid/images/foto05308.jpg  \n",
            "  inflating: /content/drones/drone_dataset/valid/images/foto05337.jpg  \n",
            "  inflating: /content/drones/drone_dataset/valid/images/foto05366.jpg  \n",
            "  inflating: /content/drones/drone_dataset/valid/images/foto05395.jpg  \n",
            "  inflating: /content/drones/drone_dataset/valid/images/foto05424.jpg  \n",
            "  inflating: /content/drones/drone_dataset/valid/images/foto05453.jpg  \n",
            "  inflating: /content/drones/drone_dataset/valid/images/foto05482.jpg  \n",
            "  inflating: /content/drones/drone_dataset/valid/images/foto05511.jpg  \n",
            "  inflating: /content/drones/drone_dataset/valid/images/foto05540.jpg  \n",
            "  inflating: /content/drones/drone_dataset/valid/images/foto05569.jpg  \n",
            "  inflating: /content/drones/drone_dataset/valid/images/foto05598.jpg  \n",
            "  inflating: /content/drones/drone_dataset/valid/images/foto05627.jpg  \n",
            "  inflating: /content/drones/drone_dataset/valid/images/foto05656.jpg  \n",
            "  inflating: /content/drones/drone_dataset/valid/images/foto05685.jpg  \n",
            "  inflating: /content/drones/drone_dataset/valid/images/foto07338.jpg  \n",
            "  inflating: /content/drones/drone_dataset/valid/images/foto07367.jpg  \n",
            "  inflating: /content/drones/drone_dataset/valid/images/foto07396.jpg  \n",
            "  inflating: /content/drones/drone_dataset/valid/images/foto07425.jpg  \n",
            "  inflating: /content/drones/drone_dataset/valid/images/foto07454.jpg  \n",
            "  inflating: /content/drones/drone_dataset/valid/images/foto07483.jpg  \n",
            "  inflating: /content/drones/drone_dataset/valid/images/foto14356.jpg  \n",
            "  inflating: /content/drones/drone_dataset/valid/images/foto14385.jpg  \n",
            "  inflating: /content/drones/drone_dataset/valid/images/foto14414.jpg  \n",
            "  inflating: /content/drones/drone_dataset/valid/images/foto14443.jpg  \n",
            "  inflating: /content/drones/drone_dataset/valid/images/foto14472.jpg  \n",
            "  inflating: /content/drones/drone_dataset/valid/images/foto14501.jpg  \n",
            "  inflating: /content/drones/drone_dataset/valid/images/foto14530.jpg  \n",
            "  inflating: /content/drones/drone_dataset/valid/images/foto14559.jpg  \n",
            "  inflating: /content/drones/drone_dataset/valid/images/foto14588.jpg  \n",
            "  inflating: /content/drones/drone_dataset/valid/images/foto14617.jpg  \n",
            "  inflating: /content/drones/drone_dataset/valid/images/foto14646.jpg  \n",
            "  inflating: /content/drones/drone_dataset/valid/images/foto14675.jpg  \n",
            "  inflating: /content/drones/drone_dataset/valid/images/foto14704.jpg  \n",
            "  inflating: /content/drones/drone_dataset/valid/images/foto14733.jpg  \n",
            "  inflating: /content/drones/drone_dataset/valid/images/foto14762.jpg  \n",
            "  inflating: /content/drones/drone_dataset/valid/images/foto14791.jpg  \n",
            "  inflating: /content/drones/drone_dataset/valid/images/foto14820.jpg  \n",
            "  inflating: /content/drones/drone_dataset/valid/images/foto14849.jpg  \n",
            "  inflating: /content/drones/drone_dataset/valid/images/foto14878.jpg  \n",
            "  inflating: /content/drones/drone_dataset/valid/images/foto14907.jpg  \n",
            "  inflating: /content/drones/drone_dataset/valid/images/foto14936.jpg  \n",
            "  inflating: /content/drones/drone_dataset/valid/images/foto14965.jpg  \n",
            "  inflating: /content/drones/drone_dataset/valid/images/foto14994.jpg  \n",
            "  inflating: /content/drones/drone_dataset/valid/images/foto15023.jpg  \n",
            "  inflating: /content/drones/drone_dataset/valid/images/foto15052.jpg  \n",
            "  inflating: /content/drones/drone_dataset/valid/images/foto15081.jpg  \n",
            "  inflating: /content/drones/drone_dataset/valid/images/foto15110.jpg  \n",
            "  inflating: /content/drones/drone_dataset/valid/images/foto15139.jpg  \n",
            "  inflating: /content/drones/drone_dataset/valid/images/foto15400.jpg  \n",
            "  inflating: /content/drones/drone_dataset/valid/images/foto15429.jpg  \n",
            "  inflating: /content/drones/drone_dataset/valid/images/pic_001.jpg  \n",
            "  inflating: /content/drones/drone_dataset/valid/images/pic_002.jpg  \n",
            "  inflating: /content/drones/drone_dataset/valid/images/pic_003.jpg  \n",
            "  inflating: /content/drones/drone_dataset/valid/images/pic_004.jpg  \n",
            "  inflating: /content/drones/drone_dataset/valid/images/pic_005.jpg  \n",
            "  inflating: /content/drones/drone_dataset/valid/images/pic_006.jpg  \n",
            "  inflating: /content/drones/drone_dataset/valid/images/pic_007.jpg  \n",
            "  inflating: /content/drones/drone_dataset/valid/images/pic_008.jpg  \n",
            "  inflating: /content/drones/drone_dataset/valid/images/pic_009.jpg  \n",
            "  inflating: /content/drones/drone_dataset/valid/images/pic_010.jpg  \n",
            "  inflating: /content/drones/drone_dataset/valid/images/pic_011.jpg  \n",
            "  inflating: /content/drones/drone_dataset/valid/images/pic_013.jpg  \n",
            "  inflating: /content/drones/drone_dataset/valid/images/pic_014.jpg  \n",
            "  inflating: /content/drones/drone_dataset/valid/images/pic_015.jpg  \n",
            "  inflating: /content/drones/drone_dataset/valid/images/pic_016.jpg  \n",
            "  inflating: /content/drones/drone_dataset/valid/images/pic_017.jpg  \n",
            "  inflating: /content/drones/drone_dataset/valid/images/pic_018.jpg  \n",
            "  inflating: /content/drones/drone_dataset/valid/images/pic_019.jpg  \n",
            "  inflating: /content/drones/drone_dataset/valid/images/pic_020.jpg  \n",
            "  inflating: /content/drones/drone_dataset/valid/images/pic_021.jpg  \n",
            "  inflating: /content/drones/drone_dataset/valid/images/pic_022.jpg  \n",
            "  inflating: /content/drones/drone_dataset/valid/images/pic_023.jpg  \n",
            "  inflating: /content/drones/drone_dataset/valid/images/pic_024.jpg  \n",
            "  inflating: /content/drones/drone_dataset/valid/images/pic_026.jpg  \n",
            "  inflating: /content/drones/drone_dataset/valid/images/pic_027.jpg  \n",
            "  inflating: /content/drones/drone_dataset/valid/images/pic_028.jpg  \n",
            "  inflating: /content/drones/drone_dataset/valid/images/pic_029.jpg  \n",
            "  inflating: /content/drones/drone_dataset/valid/images/pic_030.jpg  \n",
            "  inflating: /content/drones/drone_dataset/valid/labels/0001.txt  \n",
            "  inflating: /content/drones/drone_dataset/valid/labels/0003.txt  \n",
            "  inflating: /content/drones/drone_dataset/valid/labels/0004.txt  \n",
            "  inflating: /content/drones/drone_dataset/valid/labels/0005.txt  \n",
            "  inflating: /content/drones/drone_dataset/valid/labels/0006.txt  \n",
            "  inflating: /content/drones/drone_dataset/valid/labels/0007.txt  \n",
            "  inflating: /content/drones/drone_dataset/valid/labels/0008.txt  \n",
            "  inflating: /content/drones/drone_dataset/valid/labels/0009.txt  \n",
            "  inflating: /content/drones/drone_dataset/valid/labels/0010.txt  \n",
            "  inflating: /content/drones/drone_dataset/valid/labels/0011.txt  \n",
            "  inflating: /content/drones/drone_dataset/valid/labels/0012.txt  \n",
            "  inflating: /content/drones/drone_dataset/valid/labels/0013.txt  \n",
            "  inflating: /content/drones/drone_dataset/valid/labels/0014.txt  \n",
            "  inflating: /content/drones/drone_dataset/valid/labels/0015.txt  \n",
            "  inflating: /content/drones/drone_dataset/valid/labels/0016.txt  \n",
            "  inflating: /content/drones/drone_dataset/valid/labels/0020.txt  \n",
            "  inflating: /content/drones/drone_dataset/valid/labels/0022.txt  \n",
            "  inflating: /content/drones/drone_dataset/valid/labels/0024.txt  \n",
            "  inflating: /content/drones/drone_dataset/valid/labels/0025.txt  \n",
            "  inflating: /content/drones/drone_dataset/valid/labels/0026.txt  \n",
            "  inflating: /content/drones/drone_dataset/valid/labels/0028.txt  \n",
            "  inflating: /content/drones/drone_dataset/valid/labels/0029.txt  \n",
            "  inflating: /content/drones/drone_dataset/valid/labels/0030.txt  \n",
            "  inflating: /content/drones/drone_dataset/valid/labels/0032.txt  \n",
            "  inflating: /content/drones/drone_dataset/valid/labels/0033.txt  \n",
            "  inflating: /content/drones/drone_dataset/valid/labels/0034.txt  \n",
            "  inflating: /content/drones/drone_dataset/valid/labels/0035.txt  \n",
            "  inflating: /content/drones/drone_dataset/valid/labels/0037.txt  \n",
            "  inflating: /content/drones/drone_dataset/valid/labels/0039.txt  \n",
            "  inflating: /content/drones/drone_dataset/valid/labels/0040.txt  \n",
            "  inflating: /content/drones/drone_dataset/valid/labels/0042.txt  \n",
            "  inflating: /content/drones/drone_dataset/valid/labels/0044.txt  \n",
            "  inflating: /content/drones/drone_dataset/valid/labels/0046.txt  \n",
            "  inflating: /content/drones/drone_dataset/valid/labels/0048.txt  \n",
            "  inflating: /content/drones/drone_dataset/valid/labels/0049.txt  \n",
            "  inflating: /content/drones/drone_dataset/valid/labels/0050.txt  \n",
            "  inflating: /content/drones/drone_dataset/valid/labels/0052.txt  \n",
            "  inflating: /content/drones/drone_dataset/valid/labels/0054.txt  \n",
            "  inflating: /content/drones/drone_dataset/valid/labels/0056.txt  \n",
            "  inflating: /content/drones/drone_dataset/valid/labels/0058.txt  \n",
            "  inflating: /content/drones/drone_dataset/valid/labels/0059.txt  \n",
            "  inflating: /content/drones/drone_dataset/valid/labels/0061.txt  \n",
            "  inflating: /content/drones/drone_dataset/valid/labels/0063.txt  \n",
            "  inflating: /content/drones/drone_dataset/valid/labels/0064.txt  \n",
            "  inflating: /content/drones/drone_dataset/valid/labels/0065.txt  \n",
            "  inflating: /content/drones/drone_dataset/valid/labels/0068.txt  \n",
            "  inflating: /content/drones/drone_dataset/valid/labels/0069.txt  \n",
            "  inflating: /content/drones/drone_dataset/valid/labels/0070.txt  \n",
            "  inflating: /content/drones/drone_dataset/valid/labels/0071.txt  \n",
            "  inflating: /content/drones/drone_dataset/valid/labels/0072.txt  \n",
            "  inflating: /content/drones/drone_dataset/valid/labels/0073.txt  \n",
            "  inflating: /content/drones/drone_dataset/valid/labels/0074.txt  \n",
            "  inflating: /content/drones/drone_dataset/valid/labels/0075.txt  \n",
            "  inflating: /content/drones/drone_dataset/valid/labels/0079.txt  \n",
            "  inflating: /content/drones/drone_dataset/valid/labels/0080.txt  \n",
            "  inflating: /content/drones/drone_dataset/valid/labels/0081.txt  \n",
            "  inflating: /content/drones/drone_dataset/valid/labels/0082.txt  \n",
            "  inflating: /content/drones/drone_dataset/valid/labels/0083.txt  \n",
            "  inflating: /content/drones/drone_dataset/valid/labels/0084.txt  \n",
            "  inflating: /content/drones/drone_dataset/valid/labels/0085.txt  \n",
            "  inflating: /content/drones/drone_dataset/valid/labels/0086.txt  \n",
            "  inflating: /content/drones/drone_dataset/valid/labels/0087.txt  \n",
            "  inflating: /content/drones/drone_dataset/valid/labels/0088.txt  \n",
            "  inflating: /content/drones/drone_dataset/valid/labels/0089.txt  \n",
            "  inflating: /content/drones/drone_dataset/valid/labels/0090.txt  \n",
            "  inflating: /content/drones/drone_dataset/valid/labels/0091.txt  \n",
            "  inflating: /content/drones/drone_dataset/valid/labels/0092.txt  \n",
            "  inflating: /content/drones/drone_dataset/valid/labels/0093.txt  \n",
            "  inflating: /content/drones/drone_dataset/valid/labels/0094.txt  \n",
            "  inflating: /content/drones/drone_dataset/valid/labels/0095.txt  \n",
            "  inflating: /content/drones/drone_dataset/valid/labels/0096.txt  \n",
            "  inflating: /content/drones/drone_dataset/valid/labels/0097.txt  \n",
            "  inflating: /content/drones/drone_dataset/valid/labels/0101.txt  \n",
            "  inflating: /content/drones/drone_dataset/valid/labels/0213.txt  \n",
            "  inflating: /content/drones/drone_dataset/valid/labels/0214.txt  \n",
            "  inflating: /content/drones/drone_dataset/valid/labels/0215.txt  \n",
            "  inflating: /content/drones/drone_dataset/valid/labels/0216.txt  \n",
            "  inflating: /content/drones/drone_dataset/valid/labels/0217.txt  \n",
            "  inflating: /content/drones/drone_dataset/valid/labels/0218.txt  \n",
            "  inflating: /content/drones/drone_dataset/valid/labels/0219.txt  \n",
            "  inflating: /content/drones/drone_dataset/valid/labels/0220.txt  \n",
            "  inflating: /content/drones/drone_dataset/valid/labels/0221.txt  \n",
            "  inflating: /content/drones/drone_dataset/valid/labels/0222.txt  \n",
            "  inflating: /content/drones/drone_dataset/valid/labels/0223.txt  \n",
            "  inflating: /content/drones/drone_dataset/valid/labels/0224.txt  \n",
            "  inflating: /content/drones/drone_dataset/valid/labels/0225.txt  \n",
            "  inflating: /content/drones/drone_dataset/valid/labels/0226.txt  \n",
            "  inflating: /content/drones/drone_dataset/valid/labels/0227.txt  \n",
            "  inflating: /content/drones/drone_dataset/valid/labels/0228.txt  \n",
            "  inflating: /content/drones/drone_dataset/valid/labels/0229.txt  \n",
            "  inflating: /content/drones/drone_dataset/valid/labels/0230.txt  \n",
            "  inflating: /content/drones/drone_dataset/valid/labels/0231.txt  \n",
            "  inflating: /content/drones/drone_dataset/valid/labels/0232.txt  \n",
            "  inflating: /content/drones/drone_dataset/valid/labels/0234.txt  \n",
            "  inflating: /content/drones/drone_dataset/valid/labels/0236.txt  \n",
            "  inflating: /content/drones/drone_dataset/valid/labels/0237.txt  \n",
            "  inflating: /content/drones/drone_dataset/valid/labels/0238.txt  \n",
            "  inflating: /content/drones/drone_dataset/valid/labels/0239.txt  \n",
            "  inflating: /content/drones/drone_dataset/valid/labels/0240.txt  \n",
            "  inflating: /content/drones/drone_dataset/valid/labels/0241.txt  \n",
            "  inflating: /content/drones/drone_dataset/valid/labels/0242.txt  \n",
            "  inflating: /content/drones/drone_dataset/valid/labels/0243.txt  \n",
            "  inflating: /content/drones/drone_dataset/valid/labels/0245.txt  \n",
            "  inflating: /content/drones/drone_dataset/valid/labels/0246.txt  \n",
            "  inflating: /content/drones/drone_dataset/valid/labels/0247.txt  \n",
            "  inflating: /content/drones/drone_dataset/valid/labels/0248.txt  \n",
            "  inflating: /content/drones/drone_dataset/valid/labels/0249.txt  \n",
            "  inflating: /content/drones/drone_dataset/valid/labels/0250.txt  \n",
            "  inflating: /content/drones/drone_dataset/valid/labels/0251.txt  \n",
            "  inflating: /content/drones/drone_dataset/valid/labels/0252.txt  \n",
            "  inflating: /content/drones/drone_dataset/valid/labels/0253.txt  \n",
            "  inflating: /content/drones/drone_dataset/valid/labels/0254.txt  \n",
            "  inflating: /content/drones/drone_dataset/valid/labels/0255.txt  \n",
            "  inflating: /content/drones/drone_dataset/valid/labels/0256.txt  \n",
            "  inflating: /content/drones/drone_dataset/valid/labels/0257.txt  \n",
            "  inflating: /content/drones/drone_dataset/valid/labels/0258.txt  \n",
            "  inflating: /content/drones/drone_dataset/valid/labels/0259.txt  \n",
            "  inflating: /content/drones/drone_dataset/valid/labels/0260.txt  \n",
            "  inflating: /content/drones/drone_dataset/valid/labels/0261.txt  \n",
            "  inflating: /content/drones/drone_dataset/valid/labels/0262.txt  \n",
            "  inflating: /content/drones/drone_dataset/valid/labels/0263.txt  \n",
            "  inflating: /content/drones/drone_dataset/valid/labels/0264.txt  \n",
            "  inflating: /content/drones/drone_dataset/valid/labels/0265.txt  \n",
            "  inflating: /content/drones/drone_dataset/valid/labels/0266.txt  \n",
            "  inflating: /content/drones/drone_dataset/valid/labels/0267.txt  \n",
            "  inflating: /content/drones/drone_dataset/valid/labels/0268.txt  \n",
            "  inflating: /content/drones/drone_dataset/valid/labels/0269.txt  \n",
            "  inflating: /content/drones/drone_dataset/valid/labels/0270.txt  \n",
            "  inflating: /content/drones/drone_dataset/valid/labels/0271.txt  \n",
            "  inflating: /content/drones/drone_dataset/valid/labels/0272.txt  \n",
            "  inflating: /content/drones/drone_dataset/valid/labels/0273.txt  \n",
            "  inflating: /content/drones/drone_dataset/valid/labels/0274.txt  \n",
            "  inflating: /content/drones/drone_dataset/valid/labels/0276.txt  \n",
            "  inflating: /content/drones/drone_dataset/valid/labels/0277.txt  \n",
            "  inflating: /content/drones/drone_dataset/valid/labels/0278.txt  \n",
            "  inflating: /content/drones/drone_dataset/valid/labels/0279.txt  \n",
            "  inflating: /content/drones/drone_dataset/valid/labels/0280.txt  \n",
            "  inflating: /content/drones/drone_dataset/valid/labels/0281.txt  \n",
            "  inflating: /content/drones/drone_dataset/valid/labels/0282.txt  \n",
            "  inflating: /content/drones/drone_dataset/valid/labels/0283.txt  \n",
            "  inflating: /content/drones/drone_dataset/valid/labels/0284.txt  \n",
            "  inflating: /content/drones/drone_dataset/valid/labels/0285.txt  \n",
            "  inflating: /content/drones/drone_dataset/valid/labels/0286.txt  \n",
            "  inflating: /content/drones/drone_dataset/valid/labels/0287.txt  \n",
            "  inflating: /content/drones/drone_dataset/valid/labels/0288.txt  \n",
            "  inflating: /content/drones/drone_dataset/valid/labels/0289.txt  \n",
            "  inflating: /content/drones/drone_dataset/valid/labels/0290.txt  \n",
            "  inflating: /content/drones/drone_dataset/valid/labels/0291.txt  \n",
            "  inflating: /content/drones/drone_dataset/valid/labels/0292.txt  \n",
            "  inflating: /content/drones/drone_dataset/valid/labels/0293.txt  \n",
            "  inflating: /content/drones/drone_dataset/valid/labels/0294.txt  \n",
            "  inflating: /content/drones/drone_dataset/valid/labels/0295.txt  \n",
            "  inflating: /content/drones/drone_dataset/valid/labels/0296.txt  \n",
            "  inflating: /content/drones/drone_dataset/valid/labels/0297.txt  \n",
            "  inflating: /content/drones/drone_dataset/valid/labels/0298.txt  \n",
            "  inflating: /content/drones/drone_dataset/valid/labels/0299.txt  \n",
            "  inflating: /content/drones/drone_dataset/valid/labels/0300.txt  \n",
            "  inflating: /content/drones/drone_dataset/valid/labels/0301.txt  \n",
            "  inflating: /content/drones/drone_dataset/valid/labels/0302.txt  \n",
            "  inflating: /content/drones/drone_dataset/valid/labels/0303.txt  \n",
            "  inflating: /content/drones/drone_dataset/valid/labels/0304.txt  \n",
            "  inflating: /content/drones/drone_dataset/valid/labels/0305.txt  \n",
            "  inflating: /content/drones/drone_dataset/valid/labels/0306.txt  \n",
            "  inflating: /content/drones/drone_dataset/valid/labels/0307.txt  \n",
            "  inflating: /content/drones/drone_dataset/valid/labels/0308.txt  \n",
            "  inflating: /content/drones/drone_dataset/valid/labels/0309.txt  \n",
            "  inflating: /content/drones/drone_dataset/valid/labels/0310.txt  \n",
            "  inflating: /content/drones/drone_dataset/valid/labels/0312.txt  \n",
            "  inflating: /content/drones/drone_dataset/valid/labels/0313.txt  \n",
            "  inflating: /content/drones/drone_dataset/valid/labels/0314.txt  \n",
            "  inflating: /content/drones/drone_dataset/valid/labels/0315.txt  \n",
            "  inflating: /content/drones/drone_dataset/valid/labels/0316.txt  \n",
            "  inflating: /content/drones/drone_dataset/valid/labels/0317.txt  \n",
            "  inflating: /content/drones/drone_dataset/valid/labels/0318.txt  \n",
            "  inflating: /content/drones/drone_dataset/valid/labels/0319.txt  \n",
            "  inflating: /content/drones/drone_dataset/valid/labels/0320.txt  \n",
            "  inflating: /content/drones/drone_dataset/valid/labels/0321.txt  \n",
            "  inflating: /content/drones/drone_dataset/valid/labels/0322.txt  \n",
            "  inflating: /content/drones/drone_dataset/valid/labels/0324.txt  \n",
            "  inflating: /content/drones/drone_dataset/valid/labels/0325.txt  \n",
            "  inflating: /content/drones/drone_dataset/valid/labels/0326.txt  \n",
            "  inflating: /content/drones/drone_dataset/valid/labels/0327.txt  \n",
            "  inflating: /content/drones/drone_dataset/valid/labels/0328.txt  \n",
            "  inflating: /content/drones/drone_dataset/valid/labels/0330.txt  \n",
            "  inflating: /content/drones/drone_dataset/valid/labels/0331.txt  \n",
            "  inflating: /content/drones/drone_dataset/valid/labels/0332.txt  \n",
            "  inflating: /content/drones/drone_dataset/valid/labels/classes.txt  \n",
            "  inflating: /content/drones/drone_dataset/valid/labels/foto00088.txt  \n",
            "  inflating: /content/drones/drone_dataset/valid/labels/foto00117.txt  \n",
            "  inflating: /content/drones/drone_dataset/valid/labels/foto00204.txt  \n",
            "  inflating: /content/drones/drone_dataset/valid/labels/foto00233.txt  \n",
            "  inflating: /content/drones/drone_dataset/valid/labels/foto00262.txt  \n",
            "  inflating: /content/drones/drone_dataset/valid/labels/foto00291.txt  \n",
            "  inflating: /content/drones/drone_dataset/valid/labels/foto00320.txt  \n",
            "  inflating: /content/drones/drone_dataset/valid/labels/foto00349.txt  \n",
            "  inflating: /content/drones/drone_dataset/valid/labels/foto00378.txt  \n",
            "  inflating: /content/drones/drone_dataset/valid/labels/foto00987.txt  \n",
            "  inflating: /content/drones/drone_dataset/valid/labels/foto01016.txt  \n",
            "  inflating: /content/drones/drone_dataset/valid/labels/foto01045.txt  \n",
            "  inflating: /content/drones/drone_dataset/valid/labels/foto01074.txt  \n",
            "  inflating: /content/drones/drone_dataset/valid/labels/foto01103.txt  \n",
            "  inflating: /content/drones/drone_dataset/valid/labels/foto01161.txt  \n",
            "  inflating: /content/drones/drone_dataset/valid/labels/foto01190.txt  \n",
            "  inflating: /content/drones/drone_dataset/valid/labels/foto01219.txt  \n",
            "  inflating: /content/drones/drone_dataset/valid/labels/foto01248.txt  \n",
            "  inflating: /content/drones/drone_dataset/valid/labels/foto01277.txt  \n",
            "  inflating: /content/drones/drone_dataset/valid/labels/foto01306.txt  \n",
            "  inflating: /content/drones/drone_dataset/valid/labels/foto01335.txt  \n",
            "  inflating: /content/drones/drone_dataset/valid/labels/foto01364.txt  \n",
            "  inflating: /content/drones/drone_dataset/valid/labels/foto01393.txt  \n",
            "  inflating: /content/drones/drone_dataset/valid/labels/foto01422.txt  \n",
            "  inflating: /content/drones/drone_dataset/valid/labels/foto01451.txt  \n",
            "  inflating: /content/drones/drone_dataset/valid/labels/foto01480.txt  \n",
            "  inflating: /content/drones/drone_dataset/valid/labels/foto01509.txt  \n",
            "  inflating: /content/drones/drone_dataset/valid/labels/foto01538.txt  \n",
            "  inflating: /content/drones/drone_dataset/valid/labels/foto01567.txt  \n",
            "  inflating: /content/drones/drone_dataset/valid/labels/foto01596.txt  \n",
            "  inflating: /content/drones/drone_dataset/valid/labels/foto01625.txt  \n",
            "  inflating: /content/drones/drone_dataset/valid/labels/foto01654.txt  \n",
            "  inflating: /content/drones/drone_dataset/valid/labels/foto01683.txt  \n",
            "  inflating: /content/drones/drone_dataset/valid/labels/foto01712.txt  \n",
            "  inflating: /content/drones/drone_dataset/valid/labels/foto01741.txt  \n",
            "  inflating: /content/drones/drone_dataset/valid/labels/foto01770.txt  \n",
            "  inflating: /content/drones/drone_dataset/valid/labels/foto01799.txt  \n",
            "  inflating: /content/drones/drone_dataset/valid/labels/foto01828.txt  \n",
            "  inflating: /content/drones/drone_dataset/valid/labels/foto01857.txt  \n",
            "  inflating: /content/drones/drone_dataset/valid/labels/foto01886.txt  \n",
            "  inflating: /content/drones/drone_dataset/valid/labels/foto01915.txt  \n",
            "  inflating: /content/drones/drone_dataset/valid/labels/foto01944.txt  \n",
            "  inflating: /content/drones/drone_dataset/valid/labels/foto01973.txt  \n",
            "  inflating: /content/drones/drone_dataset/valid/labels/foto02002.txt  \n",
            "  inflating: /content/drones/drone_dataset/valid/labels/foto02031.txt  \n",
            "  inflating: /content/drones/drone_dataset/valid/labels/foto02060.txt  \n",
            "  inflating: /content/drones/drone_dataset/valid/labels/foto02756.txt  \n",
            "  inflating: /content/drones/drone_dataset/valid/labels/foto02785.txt  \n",
            "  inflating: /content/drones/drone_dataset/valid/labels/foto02814.txt  \n",
            "  inflating: /content/drones/drone_dataset/valid/labels/foto02843.txt  \n",
            "  inflating: /content/drones/drone_dataset/valid/labels/foto02872.txt  \n",
            "  inflating: /content/drones/drone_dataset/valid/labels/foto04235.txt  \n",
            "  inflating: /content/drones/drone_dataset/valid/labels/foto04264.txt  \n",
            "  inflating: /content/drones/drone_dataset/valid/labels/foto04293.txt  \n",
            "  inflating: /content/drones/drone_dataset/valid/labels/foto04322.txt  \n",
            "  inflating: /content/drones/drone_dataset/valid/labels/foto04351.txt  \n",
            "  inflating: /content/drones/drone_dataset/valid/labels/foto04380.txt  \n",
            "  inflating: /content/drones/drone_dataset/valid/labels/foto04409.txt  \n",
            "  inflating: /content/drones/drone_dataset/valid/labels/foto04438.txt  \n",
            "  inflating: /content/drones/drone_dataset/valid/labels/foto04467.txt  \n",
            "  inflating: /content/drones/drone_dataset/valid/labels/foto04496.txt  \n",
            "  inflating: /content/drones/drone_dataset/valid/labels/foto04670.txt  \n",
            "  inflating: /content/drones/drone_dataset/valid/labels/foto04699.txt  \n",
            "  inflating: /content/drones/drone_dataset/valid/labels/foto04728.txt  \n",
            "  inflating: /content/drones/drone_dataset/valid/labels/foto04757.txt  \n",
            "  inflating: /content/drones/drone_dataset/valid/labels/foto04786.txt  \n",
            "  inflating: /content/drones/drone_dataset/valid/labels/foto04815.txt  \n",
            "  inflating: /content/drones/drone_dataset/valid/labels/foto04844.txt  \n",
            "  inflating: /content/drones/drone_dataset/valid/labels/foto04873.txt  \n",
            "  inflating: /content/drones/drone_dataset/valid/labels/foto04902.txt  \n",
            "  inflating: /content/drones/drone_dataset/valid/labels/foto04931.txt  \n",
            "  inflating: /content/drones/drone_dataset/valid/labels/foto04960.txt  \n",
            "  inflating: /content/drones/drone_dataset/valid/labels/foto04989.txt  \n",
            "  inflating: /content/drones/drone_dataset/valid/labels/foto05018.txt  \n",
            "  inflating: /content/drones/drone_dataset/valid/labels/foto05047.txt  \n",
            "  inflating: /content/drones/drone_dataset/valid/labels/foto05076.txt  \n",
            "  inflating: /content/drones/drone_dataset/valid/labels/foto05105.txt  \n",
            "  inflating: /content/drones/drone_dataset/valid/labels/foto05134.txt  \n",
            "  inflating: /content/drones/drone_dataset/valid/labels/foto05163.txt  \n",
            "  inflating: /content/drones/drone_dataset/valid/labels/foto05192.txt  \n",
            "  inflating: /content/drones/drone_dataset/valid/labels/foto05221.txt  \n",
            "  inflating: /content/drones/drone_dataset/valid/labels/foto05250.txt  \n",
            "  inflating: /content/drones/drone_dataset/valid/labels/foto05279.txt  \n",
            "  inflating: /content/drones/drone_dataset/valid/labels/foto05308.txt  \n",
            "  inflating: /content/drones/drone_dataset/valid/labels/foto05337.txt  \n",
            "  inflating: /content/drones/drone_dataset/valid/labels/foto05366.txt  \n",
            "  inflating: /content/drones/drone_dataset/valid/labels/foto05395.txt  \n",
            "  inflating: /content/drones/drone_dataset/valid/labels/foto05424.txt  \n",
            "  inflating: /content/drones/drone_dataset/valid/labels/foto05453.txt  \n",
            "  inflating: /content/drones/drone_dataset/valid/labels/foto05482.txt  \n",
            "  inflating: /content/drones/drone_dataset/valid/labels/foto05511.txt  \n",
            "  inflating: /content/drones/drone_dataset/valid/labels/foto05540.txt  \n",
            "  inflating: /content/drones/drone_dataset/valid/labels/foto05569.txt  \n",
            "  inflating: /content/drones/drone_dataset/valid/labels/foto05598.txt  \n",
            "  inflating: /content/drones/drone_dataset/valid/labels/foto05627.txt  \n",
            "  inflating: /content/drones/drone_dataset/valid/labels/foto05656.txt  \n",
            "  inflating: /content/drones/drone_dataset/valid/labels/foto05685.txt  \n",
            "  inflating: /content/drones/drone_dataset/valid/labels/foto07338.txt  \n",
            "  inflating: /content/drones/drone_dataset/valid/labels/foto07367.txt  \n",
            "  inflating: /content/drones/drone_dataset/valid/labels/foto07396.txt  \n",
            "  inflating: /content/drones/drone_dataset/valid/labels/foto07425.txt  \n",
            "  inflating: /content/drones/drone_dataset/valid/labels/foto07454.txt  \n",
            "  inflating: /content/drones/drone_dataset/valid/labels/foto07483.txt  \n",
            "  inflating: /content/drones/drone_dataset/valid/labels/foto14356.txt  \n",
            "  inflating: /content/drones/drone_dataset/valid/labels/foto14385.txt  \n",
            "  inflating: /content/drones/drone_dataset/valid/labels/foto14414.txt  \n",
            "  inflating: /content/drones/drone_dataset/valid/labels/foto14443.txt  \n",
            "  inflating: /content/drones/drone_dataset/valid/labels/foto14472.txt  \n",
            "  inflating: /content/drones/drone_dataset/valid/labels/foto14501.txt  \n",
            "  inflating: /content/drones/drone_dataset/valid/labels/foto14530.txt  \n",
            "  inflating: /content/drones/drone_dataset/valid/labels/foto14559.txt  \n",
            "  inflating: /content/drones/drone_dataset/valid/labels/foto14588.txt  \n",
            "  inflating: /content/drones/drone_dataset/valid/labels/foto14617.txt  \n",
            "  inflating: /content/drones/drone_dataset/valid/labels/foto14646.txt  \n",
            "  inflating: /content/drones/drone_dataset/valid/labels/foto14675.txt  \n",
            "  inflating: /content/drones/drone_dataset/valid/labels/foto14704.txt  \n",
            "  inflating: /content/drones/drone_dataset/valid/labels/foto14733.txt  \n",
            "  inflating: /content/drones/drone_dataset/valid/labels/foto14762.txt  \n",
            "  inflating: /content/drones/drone_dataset/valid/labels/foto14791.txt  \n",
            "  inflating: /content/drones/drone_dataset/valid/labels/foto14820.txt  \n",
            "  inflating: /content/drones/drone_dataset/valid/labels/foto14849.txt  \n",
            "  inflating: /content/drones/drone_dataset/valid/labels/foto14878.txt  \n",
            "  inflating: /content/drones/drone_dataset/valid/labels/foto14907.txt  \n",
            "  inflating: /content/drones/drone_dataset/valid/labels/foto14936.txt  \n",
            "  inflating: /content/drones/drone_dataset/valid/labels/foto14965.txt  \n",
            "  inflating: /content/drones/drone_dataset/valid/labels/foto14994.txt  \n",
            "  inflating: /content/drones/drone_dataset/valid/labels/foto15023.txt  \n",
            "  inflating: /content/drones/drone_dataset/valid/labels/foto15052.txt  \n",
            "  inflating: /content/drones/drone_dataset/valid/labels/foto15081.txt  \n",
            "  inflating: /content/drones/drone_dataset/valid/labels/foto15110.txt  \n",
            "  inflating: /content/drones/drone_dataset/valid/labels/foto15139.txt  \n",
            "  inflating: /content/drones/drone_dataset/valid/labels/foto15400.txt  \n",
            "  inflating: /content/drones/drone_dataset/valid/labels/foto15429.txt  \n",
            "  inflating: /content/drones/drone_dataset/valid/labels/pic_001.txt  \n",
            "  inflating: /content/drones/drone_dataset/valid/labels/pic_002.txt  \n",
            "  inflating: /content/drones/drone_dataset/valid/labels/pic_003.txt  \n",
            "  inflating: /content/drones/drone_dataset/valid/labels/pic_004.txt  \n",
            "  inflating: /content/drones/drone_dataset/valid/labels/pic_005.txt  \n",
            "  inflating: /content/drones/drone_dataset/valid/labels/pic_006.txt  \n",
            "  inflating: /content/drones/drone_dataset/valid/labels/pic_007.txt  \n",
            "  inflating: /content/drones/drone_dataset/valid/labels/pic_008.txt  \n",
            "  inflating: /content/drones/drone_dataset/valid/labels/pic_009.txt  \n",
            "  inflating: /content/drones/drone_dataset/valid/labels/pic_010.txt  \n",
            "  inflating: /content/drones/drone_dataset/valid/labels/pic_011.txt  \n",
            "  inflating: /content/drones/drone_dataset/valid/labels/pic_013.txt  \n",
            "  inflating: /content/drones/drone_dataset/valid/labels/pic_014.txt  \n",
            "  inflating: /content/drones/drone_dataset/valid/labels/pic_015.txt  \n",
            "  inflating: /content/drones/drone_dataset/valid/labels/pic_016.txt  \n",
            "  inflating: /content/drones/drone_dataset/valid/labels/pic_017.txt  \n",
            "  inflating: /content/drones/drone_dataset/valid/labels/pic_018.txt  \n",
            "  inflating: /content/drones/drone_dataset/valid/labels/pic_019.txt  \n",
            "  inflating: /content/drones/drone_dataset/valid/labels/pic_020.txt  \n",
            "  inflating: /content/drones/drone_dataset/valid/labels/pic_021.txt  \n",
            "  inflating: /content/drones/drone_dataset/valid/labels/pic_022.txt  \n",
            "  inflating: /content/drones/drone_dataset/valid/labels/pic_023.txt  \n",
            "  inflating: /content/drones/drone_dataset/valid/labels/pic_024.txt  \n",
            "  inflating: /content/drones/drone_dataset/valid/labels/pic_026.txt  \n",
            "  inflating: /content/drones/drone_dataset/valid/labels/pic_027.txt  \n",
            "  inflating: /content/drones/drone_dataset/valid/labels/pic_028.txt  \n",
            "  inflating: /content/drones/drone_dataset/valid/labels/pic_029.txt  \n",
            "  inflating: /content/drones/drone_dataset/valid/labels/pic_030.txt  \n"
          ]
        }
      ]
    },
    {
      "cell_type": "markdown",
      "source": [
        "###Training the Model\n",
        "Train YOLOv8 on the Drone Datase"
      ],
      "metadata": {
        "id": "eOwffrWrvQKZ"
      }
    },
    {
      "cell_type": "code",
      "source": [
        "from ultralytics import YOLO\n",
        "\n",
        "model = YOLO('yolov8n.pt')\n",
        "\n",
        "# Train the model\n",
        "results = model.train(\n",
        "    data='/content/drones/drone_dataset/data.yaml',\n",
        "    imgsz=640,\n",
        "    epochs=50,\n",
        "    batch=16,\n",
        "    name='drones_run',\n",
        "    project='/content/results'\n",
        ")\n"
      ],
      "metadata": {
        "colab": {
          "base_uri": "https://localhost:8080/"
        },
        "collapsed": true,
        "id": "hbVdmJkQvoeO",
        "outputId": "608d9804-caee-497c-d48a-d5220185be73"
      },
      "execution_count": 4,
      "outputs": [
        {
          "output_type": "stream",
          "name": "stdout",
          "text": [
            "Creating new Ultralytics Settings v0.0.6 file ✅ \n",
            "View Ultralytics Settings with 'yolo settings' or at '/root/.config/Ultralytics/settings.json'\n",
            "Update Settings with 'yolo settings key=value', i.e. 'yolo settings runs_dir=path/to/dir'. For help see https://docs.ultralytics.com/quickstart/#ultralytics-settings.\n",
            "Downloading https://github.com/ultralytics/assets/releases/download/v8.3.0/yolov8n.pt to 'yolov8n.pt'...\n"
          ]
        },
        {
          "output_type": "stream",
          "name": "stderr",
          "text": [
            "100%|██████████| 6.25M/6.25M [00:00<00:00, 317MB/s]\n"
          ]
        },
        {
          "output_type": "stream",
          "name": "stdout",
          "text": [
            "Ultralytics 8.3.75 🚀 Python-3.11.11 torch-2.5.1+cu124 CUDA:0 (Tesla T4, 15095MiB)\n",
            "\u001b[34m\u001b[1mengine/trainer: \u001b[0mtask=detect, mode=train, model=yolov8n.pt, data=/content/drones/drone_dataset/data.yaml, epochs=50, time=None, patience=100, batch=16, imgsz=640, save=True, save_period=-1, cache=False, device=None, workers=8, project=/content/results, name=drones_run, exist_ok=False, pretrained=True, optimizer=auto, verbose=True, seed=0, deterministic=True, single_cls=False, rect=False, cos_lr=False, close_mosaic=10, resume=False, amp=True, fraction=1.0, profile=False, freeze=None, multi_scale=False, overlap_mask=True, mask_ratio=4, dropout=0.0, val=True, split=val, save_json=False, save_hybrid=False, conf=None, iou=0.7, max_det=300, half=False, dnn=False, plots=True, source=None, vid_stride=1, stream_buffer=False, visualize=False, augment=False, agnostic_nms=False, classes=None, retina_masks=False, embed=None, show=False, save_frames=False, save_txt=False, save_conf=False, save_crop=False, show_labels=True, show_conf=True, show_boxes=True, line_width=None, format=torchscript, keras=False, optimize=False, int8=False, dynamic=False, simplify=True, opset=None, workspace=None, nms=False, lr0=0.01, lrf=0.01, momentum=0.937, weight_decay=0.0005, warmup_epochs=3.0, warmup_momentum=0.8, warmup_bias_lr=0.1, box=7.5, cls=0.5, dfl=1.5, pose=12.0, kobj=1.0, nbs=64, hsv_h=0.015, hsv_s=0.7, hsv_v=0.4, degrees=0.0, translate=0.1, scale=0.5, shear=0.0, perspective=0.0, flipud=0.0, fliplr=0.5, bgr=0.0, mosaic=1.0, mixup=0.0, copy_paste=0.0, copy_paste_mode=flip, auto_augment=randaugment, erasing=0.4, crop_fraction=1.0, cfg=None, tracker=botsort.yaml, save_dir=/content/results/drones_run\n",
            "Downloading https://ultralytics.com/assets/Arial.ttf to '/root/.config/Ultralytics/Arial.ttf'...\n"
          ]
        },
        {
          "output_type": "stream",
          "name": "stderr",
          "text": [
            "100%|██████████| 755k/755k [00:00<00:00, 102MB/s]\n"
          ]
        },
        {
          "output_type": "stream",
          "name": "stdout",
          "text": [
            "Overriding model.yaml nc=80 with nc=1\n",
            "\n",
            "                   from  n    params  module                                       arguments                     \n",
            "  0                  -1  1       464  ultralytics.nn.modules.conv.Conv             [3, 16, 3, 2]                 \n",
            "  1                  -1  1      4672  ultralytics.nn.modules.conv.Conv             [16, 32, 3, 2]                \n",
            "  2                  -1  1      7360  ultralytics.nn.modules.block.C2f             [32, 32, 1, True]             \n",
            "  3                  -1  1     18560  ultralytics.nn.modules.conv.Conv             [32, 64, 3, 2]                \n",
            "  4                  -1  2     49664  ultralytics.nn.modules.block.C2f             [64, 64, 2, True]             \n",
            "  5                  -1  1     73984  ultralytics.nn.modules.conv.Conv             [64, 128, 3, 2]               \n",
            "  6                  -1  2    197632  ultralytics.nn.modules.block.C2f             [128, 128, 2, True]           \n",
            "  7                  -1  1    295424  ultralytics.nn.modules.conv.Conv             [128, 256, 3, 2]              \n",
            "  8                  -1  1    460288  ultralytics.nn.modules.block.C2f             [256, 256, 1, True]           \n",
            "  9                  -1  1    164608  ultralytics.nn.modules.block.SPPF            [256, 256, 5]                 \n",
            " 10                  -1  1         0  torch.nn.modules.upsampling.Upsample         [None, 2, 'nearest']          \n",
            " 11             [-1, 6]  1         0  ultralytics.nn.modules.conv.Concat           [1]                           \n",
            " 12                  -1  1    148224  ultralytics.nn.modules.block.C2f             [384, 128, 1]                 \n",
            " 13                  -1  1         0  torch.nn.modules.upsampling.Upsample         [None, 2, 'nearest']          \n",
            " 14             [-1, 4]  1         0  ultralytics.nn.modules.conv.Concat           [1]                           \n",
            " 15                  -1  1     37248  ultralytics.nn.modules.block.C2f             [192, 64, 1]                  \n",
            " 16                  -1  1     36992  ultralytics.nn.modules.conv.Conv             [64, 64, 3, 2]                \n",
            " 17            [-1, 12]  1         0  ultralytics.nn.modules.conv.Concat           [1]                           \n",
            " 18                  -1  1    123648  ultralytics.nn.modules.block.C2f             [192, 128, 1]                 \n",
            " 19                  -1  1    147712  ultralytics.nn.modules.conv.Conv             [128, 128, 3, 2]              \n",
            " 20             [-1, 9]  1         0  ultralytics.nn.modules.conv.Concat           [1]                           \n",
            " 21                  -1  1    493056  ultralytics.nn.modules.block.C2f             [384, 256, 1]                 \n",
            " 22        [15, 18, 21]  1    751507  ultralytics.nn.modules.head.Detect           [1, [64, 128, 256]]           \n",
            "Model summary: 225 layers, 3,011,043 parameters, 3,011,027 gradients, 8.2 GFLOPs\n",
            "\n",
            "Transferred 319/355 items from pretrained weights\n",
            "\u001b[34m\u001b[1mTensorBoard: \u001b[0mStart with 'tensorboard --logdir /content/results/drones_run', view at http://localhost:6006/\n",
            "Freezing layer 'model.22.dfl.conv.weight'\n",
            "\u001b[34m\u001b[1mAMP: \u001b[0mrunning Automatic Mixed Precision (AMP) checks...\n",
            "Downloading https://github.com/ultralytics/assets/releases/download/v8.3.0/yolo11n.pt to 'yolo11n.pt'...\n"
          ]
        },
        {
          "output_type": "stream",
          "name": "stderr",
          "text": [
            "100%|██████████| 5.35M/5.35M [00:00<00:00, 296MB/s]\n"
          ]
        },
        {
          "output_type": "stream",
          "name": "stdout",
          "text": [
            "\u001b[34m\u001b[1mAMP: \u001b[0mchecks passed ✅\n"
          ]
        },
        {
          "output_type": "stream",
          "name": "stderr",
          "text": [
            "\u001b[34m\u001b[1mtrain: \u001b[0mScanning /content/drones/drone_dataset/train/labels... 1012 images, 0 backgrounds, 0 corrupt: 100%|██████████| 1012/1012 [00:00<00:00, 1030.11it/s]"
          ]
        },
        {
          "output_type": "stream",
          "name": "stdout",
          "text": [
            "\u001b[34m\u001b[1mtrain: \u001b[0mWARNING ⚠️ /content/drones/drone_dataset/train/images/pic_722.jpg: corrupt JPEG restored and saved\n",
            "\u001b[34m\u001b[1mtrain: \u001b[0mNew cache created: /content/drones/drone_dataset/train/labels.cache\n"
          ]
        },
        {
          "output_type": "stream",
          "name": "stderr",
          "text": [
            "\n"
          ]
        },
        {
          "output_type": "stream",
          "name": "stdout",
          "text": [
            "\u001b[34m\u001b[1malbumentations: \u001b[0mBlur(p=0.01, blur_limit=(3, 7)), MedianBlur(p=0.01, blur_limit=(3, 7)), ToGray(p=0.01, num_output_channels=3, method='weighted_average'), CLAHE(p=0.01, clip_limit=(1.0, 4.0), tile_grid_size=(8, 8))\n"
          ]
        },
        {
          "output_type": "stream",
          "name": "stderr",
          "text": [
            "\u001b[34m\u001b[1mval: \u001b[0mScanning /content/drones/drone_dataset/valid/labels... 347 images, 0 backgrounds, 0 corrupt: 100%|██████████| 347/347 [00:00<00:00, 755.63it/s]"
          ]
        },
        {
          "output_type": "stream",
          "name": "stdout",
          "text": [
            "\u001b[34m\u001b[1mval: \u001b[0mNew cache created: /content/drones/drone_dataset/valid/labels.cache\n"
          ]
        },
        {
          "output_type": "stream",
          "name": "stderr",
          "text": [
            "\n"
          ]
        },
        {
          "output_type": "stream",
          "name": "stdout",
          "text": [
            "Plotting labels to /content/results/drones_run/labels.jpg... \n",
            "\u001b[34m\u001b[1moptimizer:\u001b[0m 'optimizer=auto' found, ignoring 'lr0=0.01' and 'momentum=0.937' and determining best 'optimizer', 'lr0' and 'momentum' automatically... \n",
            "\u001b[34m\u001b[1moptimizer:\u001b[0m AdamW(lr=0.002, momentum=0.9) with parameter groups 57 weight(decay=0.0), 64 weight(decay=0.0005), 63 bias(decay=0.0)\n",
            "\u001b[34m\u001b[1mTensorBoard: \u001b[0mmodel graph visualization added ✅\n",
            "Image sizes 640 train, 640 val\n",
            "Using 2 dataloader workers\n",
            "Logging results to \u001b[1m/content/results/drones_run\u001b[0m\n",
            "Starting training for 50 epochs...\n",
            "\n",
            "      Epoch    GPU_mem   box_loss   cls_loss   dfl_loss  Instances       Size\n"
          ]
        },
        {
          "output_type": "stream",
          "name": "stderr",
          "text": [
            "       1/50      2.25G      1.407      2.025      1.613         10        640: 100%|██████████| 64/64 [00:30<00:00,  2.09it/s]\n",
            "                 Class     Images  Instances      Box(P          R      mAP50  mAP50-95): 100%|██████████| 11/11 [00:06<00:00,  1.71it/s]"
          ]
        },
        {
          "output_type": "stream",
          "name": "stdout",
          "text": [
            "                   all        347        369      0.568      0.349      0.449      0.199\n"
          ]
        },
        {
          "output_type": "stream",
          "name": "stderr",
          "text": [
            "\n"
          ]
        },
        {
          "output_type": "stream",
          "name": "stdout",
          "text": [
            "\n",
            "      Epoch    GPU_mem   box_loss   cls_loss   dfl_loss  Instances       Size\n"
          ]
        },
        {
          "output_type": "stream",
          "name": "stderr",
          "text": [
            "       2/50      2.18G      1.471      1.702      1.636         10        640: 100%|██████████| 64/64 [00:27<00:00,  2.31it/s]\n",
            "                 Class     Images  Instances      Box(P          R      mAP50  mAP50-95): 100%|██████████| 11/11 [00:06<00:00,  1.67it/s]"
          ]
        },
        {
          "output_type": "stream",
          "name": "stdout",
          "text": [
            "                   all        347        369      0.392       0.42      0.346      0.124\n"
          ]
        },
        {
          "output_type": "stream",
          "name": "stderr",
          "text": [
            "\n"
          ]
        },
        {
          "output_type": "stream",
          "name": "stdout",
          "text": [
            "\n",
            "      Epoch    GPU_mem   box_loss   cls_loss   dfl_loss  Instances       Size\n"
          ]
        },
        {
          "output_type": "stream",
          "name": "stderr",
          "text": [
            "       3/50      2.26G      1.513      1.712      1.667         13        640: 100%|██████████| 64/64 [00:26<00:00,  2.38it/s]\n",
            "                 Class     Images  Instances      Box(P          R      mAP50  mAP50-95): 100%|██████████| 11/11 [00:05<00:00,  1.86it/s]"
          ]
        },
        {
          "output_type": "stream",
          "name": "stdout",
          "text": [
            "                   all        347        369      0.551      0.518      0.477       0.19\n"
          ]
        },
        {
          "output_type": "stream",
          "name": "stderr",
          "text": [
            "\n"
          ]
        },
        {
          "output_type": "stream",
          "name": "stdout",
          "text": [
            "\n",
            "      Epoch    GPU_mem   box_loss   cls_loss   dfl_loss  Instances       Size\n"
          ]
        },
        {
          "output_type": "stream",
          "name": "stderr",
          "text": [
            "       4/50      2.17G      1.485      1.454      1.633         10        640: 100%|██████████| 64/64 [00:26<00:00,  2.40it/s]\n",
            "                 Class     Images  Instances      Box(P          R      mAP50  mAP50-95): 100%|██████████| 11/11 [00:04<00:00,  2.26it/s]"
          ]
        },
        {
          "output_type": "stream",
          "name": "stdout",
          "text": [
            "                   all        347        369       0.63      0.491      0.512      0.193\n"
          ]
        },
        {
          "output_type": "stream",
          "name": "stderr",
          "text": [
            "\n"
          ]
        },
        {
          "output_type": "stream",
          "name": "stdout",
          "text": [
            "\n",
            "      Epoch    GPU_mem   box_loss   cls_loss   dfl_loss  Instances       Size\n"
          ]
        },
        {
          "output_type": "stream",
          "name": "stderr",
          "text": [
            "       5/50      2.17G      1.472      1.383      1.626         12        640: 100%|██████████| 64/64 [00:27<00:00,  2.33it/s]\n",
            "                 Class     Images  Instances      Box(P          R      mAP50  mAP50-95): 100%|██████████| 11/11 [00:05<00:00,  1.86it/s]"
          ]
        },
        {
          "output_type": "stream",
          "name": "stdout",
          "text": [
            "                   all        347        369      0.475       0.48      0.426      0.159\n"
          ]
        },
        {
          "output_type": "stream",
          "name": "stderr",
          "text": [
            "\n"
          ]
        },
        {
          "output_type": "stream",
          "name": "stdout",
          "text": [
            "\n",
            "      Epoch    GPU_mem   box_loss   cls_loss   dfl_loss  Instances       Size\n"
          ]
        },
        {
          "output_type": "stream",
          "name": "stderr",
          "text": [
            "       6/50      2.17G      1.433      1.349      1.604         12        640: 100%|██████████| 64/64 [00:26<00:00,  2.44it/s]\n",
            "                 Class     Images  Instances      Box(P          R      mAP50  mAP50-95): 100%|██████████| 11/11 [00:05<00:00,  2.15it/s]"
          ]
        },
        {
          "output_type": "stream",
          "name": "stdout",
          "text": [
            "                   all        347        369      0.665      0.609      0.566      0.268\n"
          ]
        },
        {
          "output_type": "stream",
          "name": "stderr",
          "text": [
            "\n"
          ]
        },
        {
          "output_type": "stream",
          "name": "stdout",
          "text": [
            "\n",
            "      Epoch    GPU_mem   box_loss   cls_loss   dfl_loss  Instances       Size\n"
          ]
        },
        {
          "output_type": "stream",
          "name": "stderr",
          "text": [
            "       7/50      2.19G      1.448      1.294      1.588         13        640: 100%|██████████| 64/64 [00:26<00:00,  2.42it/s]\n",
            "                 Class     Images  Instances      Box(P          R      mAP50  mAP50-95): 100%|██████████| 11/11 [00:06<00:00,  1.65it/s]"
          ]
        },
        {
          "output_type": "stream",
          "name": "stdout",
          "text": [
            "                   all        347        369      0.764      0.642      0.669      0.343\n"
          ]
        },
        {
          "output_type": "stream",
          "name": "stderr",
          "text": [
            "\n"
          ]
        },
        {
          "output_type": "stream",
          "name": "stdout",
          "text": [
            "\n",
            "      Epoch    GPU_mem   box_loss   cls_loss   dfl_loss  Instances       Size\n"
          ]
        },
        {
          "output_type": "stream",
          "name": "stderr",
          "text": [
            "       8/50      2.17G      1.415      1.216      1.572         13        640: 100%|██████████| 64/64 [00:26<00:00,  2.45it/s]\n",
            "                 Class     Images  Instances      Box(P          R      mAP50  mAP50-95): 100%|██████████| 11/11 [00:05<00:00,  1.84it/s]"
          ]
        },
        {
          "output_type": "stream",
          "name": "stdout",
          "text": [
            "                   all        347        369      0.782      0.656      0.664      0.338\n"
          ]
        },
        {
          "output_type": "stream",
          "name": "stderr",
          "text": [
            "\n"
          ]
        },
        {
          "output_type": "stream",
          "name": "stdout",
          "text": [
            "\n",
            "      Epoch    GPU_mem   box_loss   cls_loss   dfl_loss  Instances       Size\n"
          ]
        },
        {
          "output_type": "stream",
          "name": "stderr",
          "text": [
            "       9/50      2.19G      1.387      1.192      1.533         14        640: 100%|██████████| 64/64 [00:25<00:00,  2.48it/s]\n",
            "                 Class     Images  Instances      Box(P          R      mAP50  mAP50-95): 100%|██████████| 11/11 [00:06<00:00,  1.76it/s]"
          ]
        },
        {
          "output_type": "stream",
          "name": "stdout",
          "text": [
            "                   all        347        369      0.809      0.686      0.769       0.41\n"
          ]
        },
        {
          "output_type": "stream",
          "name": "stderr",
          "text": [
            "\n"
          ]
        },
        {
          "output_type": "stream",
          "name": "stdout",
          "text": [
            "\n",
            "      Epoch    GPU_mem   box_loss   cls_loss   dfl_loss  Instances       Size\n"
          ]
        },
        {
          "output_type": "stream",
          "name": "stderr",
          "text": [
            "      10/50      2.17G      1.343      1.101      1.503         16        640: 100%|██████████| 64/64 [00:25<00:00,  2.46it/s]\n",
            "                 Class     Images  Instances      Box(P          R      mAP50  mAP50-95): 100%|██████████| 11/11 [00:06<00:00,  1.71it/s]\n"
          ]
        },
        {
          "output_type": "stream",
          "name": "stdout",
          "text": [
            "                   all        347        369      0.773      0.707       0.78      0.433\n",
            "\n",
            "      Epoch    GPU_mem   box_loss   cls_loss   dfl_loss  Instances       Size\n"
          ]
        },
        {
          "output_type": "stream",
          "name": "stderr",
          "text": [
            "      11/50      2.19G      1.315      1.066      1.492          8        640: 100%|██████████| 64/64 [00:26<00:00,  2.41it/s]\n",
            "                 Class     Images  Instances      Box(P          R      mAP50  mAP50-95): 100%|██████████| 11/11 [00:05<00:00,  2.01it/s]"
          ]
        },
        {
          "output_type": "stream",
          "name": "stdout",
          "text": [
            "                   all        347        369      0.693      0.733      0.741       0.34\n"
          ]
        },
        {
          "output_type": "stream",
          "name": "stderr",
          "text": [
            "\n"
          ]
        },
        {
          "output_type": "stream",
          "name": "stdout",
          "text": [
            "\n",
            "      Epoch    GPU_mem   box_loss   cls_loss   dfl_loss  Instances       Size\n"
          ]
        },
        {
          "output_type": "stream",
          "name": "stderr",
          "text": [
            "      12/50      2.17G      1.308      1.044      1.471         16        640: 100%|██████████| 64/64 [00:26<00:00,  2.39it/s]\n",
            "                 Class     Images  Instances      Box(P          R      mAP50  mAP50-95): 100%|██████████| 11/11 [00:05<00:00,  2.11it/s]"
          ]
        },
        {
          "output_type": "stream",
          "name": "stdout",
          "text": [
            "                   all        347        369      0.881       0.71      0.818      0.459\n"
          ]
        },
        {
          "output_type": "stream",
          "name": "stderr",
          "text": [
            "\n"
          ]
        },
        {
          "output_type": "stream",
          "name": "stdout",
          "text": [
            "\n",
            "      Epoch    GPU_mem   box_loss   cls_loss   dfl_loss  Instances       Size\n"
          ]
        },
        {
          "output_type": "stream",
          "name": "stderr",
          "text": [
            "      13/50      2.17G      1.307      1.037      1.482          7        640: 100%|██████████| 64/64 [00:26<00:00,  2.42it/s]\n",
            "                 Class     Images  Instances      Box(P          R      mAP50  mAP50-95): 100%|██████████| 11/11 [00:06<00:00,  1.77it/s]"
          ]
        },
        {
          "output_type": "stream",
          "name": "stdout",
          "text": [
            "                   all        347        369      0.773       0.74      0.723        0.4\n"
          ]
        },
        {
          "output_type": "stream",
          "name": "stderr",
          "text": [
            "\n"
          ]
        },
        {
          "output_type": "stream",
          "name": "stdout",
          "text": [
            "\n",
            "      Epoch    GPU_mem   box_loss   cls_loss   dfl_loss  Instances       Size\n"
          ]
        },
        {
          "output_type": "stream",
          "name": "stderr",
          "text": [
            "      14/50      2.21G      1.273      1.023      1.454         11        640: 100%|██████████| 64/64 [00:27<00:00,  2.31it/s]\n",
            "                 Class     Images  Instances      Box(P          R      mAP50  mAP50-95): 100%|██████████| 11/11 [00:04<00:00,  2.21it/s]"
          ]
        },
        {
          "output_type": "stream",
          "name": "stdout",
          "text": [
            "                   all        347        369      0.783      0.734      0.808      0.386\n"
          ]
        },
        {
          "output_type": "stream",
          "name": "stderr",
          "text": [
            "\n"
          ]
        },
        {
          "output_type": "stream",
          "name": "stdout",
          "text": [
            "\n",
            "      Epoch    GPU_mem   box_loss   cls_loss   dfl_loss  Instances       Size\n"
          ]
        },
        {
          "output_type": "stream",
          "name": "stderr",
          "text": [
            "      15/50      2.17G      1.246     0.9548       1.44         13        640: 100%|██████████| 64/64 [00:26<00:00,  2.43it/s]\n",
            "                 Class     Images  Instances      Box(P          R      mAP50  mAP50-95): 100%|██████████| 11/11 [00:06<00:00,  1.81it/s]"
          ]
        },
        {
          "output_type": "stream",
          "name": "stdout",
          "text": [
            "                   all        347        369      0.886      0.772      0.861      0.485\n"
          ]
        },
        {
          "output_type": "stream",
          "name": "stderr",
          "text": [
            "\n"
          ]
        },
        {
          "output_type": "stream",
          "name": "stdout",
          "text": [
            "\n",
            "      Epoch    GPU_mem   box_loss   cls_loss   dfl_loss  Instances       Size\n"
          ]
        },
        {
          "output_type": "stream",
          "name": "stderr",
          "text": [
            "      16/50      2.19G      1.245     0.9208      1.417         12        640: 100%|██████████| 64/64 [00:26<00:00,  2.44it/s]\n",
            "                 Class     Images  Instances      Box(P          R      mAP50  mAP50-95): 100%|██████████| 11/11 [00:04<00:00,  2.20it/s]"
          ]
        },
        {
          "output_type": "stream",
          "name": "stdout",
          "text": [
            "                   all        347        369      0.801      0.816      0.848      0.455\n"
          ]
        },
        {
          "output_type": "stream",
          "name": "stderr",
          "text": [
            "\n"
          ]
        },
        {
          "output_type": "stream",
          "name": "stdout",
          "text": [
            "\n",
            "      Epoch    GPU_mem   box_loss   cls_loss   dfl_loss  Instances       Size\n"
          ]
        },
        {
          "output_type": "stream",
          "name": "stderr",
          "text": [
            "      17/50      2.17G      1.223     0.9032      1.402         14        640: 100%|██████████| 64/64 [00:26<00:00,  2.42it/s]\n",
            "                 Class     Images  Instances      Box(P          R      mAP50  mAP50-95): 100%|██████████| 11/11 [00:05<00:00,  1.96it/s]"
          ]
        },
        {
          "output_type": "stream",
          "name": "stdout",
          "text": [
            "                   all        347        369      0.792      0.784      0.827      0.509\n"
          ]
        },
        {
          "output_type": "stream",
          "name": "stderr",
          "text": [
            "\n"
          ]
        },
        {
          "output_type": "stream",
          "name": "stdout",
          "text": [
            "\n",
            "      Epoch    GPU_mem   box_loss   cls_loss   dfl_loss  Instances       Size\n"
          ]
        },
        {
          "output_type": "stream",
          "name": "stderr",
          "text": [
            "      18/50      2.17G      1.203     0.8799      1.389         13        640: 100%|██████████| 64/64 [00:25<00:00,  2.46it/s]\n",
            "                 Class     Images  Instances      Box(P          R      mAP50  mAP50-95): 100%|██████████| 11/11 [00:06<00:00,  1.77it/s]"
          ]
        },
        {
          "output_type": "stream",
          "name": "stdout",
          "text": [
            "                   all        347        369      0.916      0.835      0.915      0.532\n"
          ]
        },
        {
          "output_type": "stream",
          "name": "stderr",
          "text": [
            "\n"
          ]
        },
        {
          "output_type": "stream",
          "name": "stdout",
          "text": [
            "\n",
            "      Epoch    GPU_mem   box_loss   cls_loss   dfl_loss  Instances       Size\n"
          ]
        },
        {
          "output_type": "stream",
          "name": "stderr",
          "text": [
            "      19/50      2.19G      1.228     0.8875      1.417         12        640: 100%|██████████| 64/64 [00:27<00:00,  2.34it/s]\n",
            "                 Class     Images  Instances      Box(P          R      mAP50  mAP50-95): 100%|██████████| 11/11 [00:05<00:00,  2.12it/s]"
          ]
        },
        {
          "output_type": "stream",
          "name": "stdout",
          "text": [
            "                   all        347        369      0.831      0.653      0.698      0.404\n"
          ]
        },
        {
          "output_type": "stream",
          "name": "stderr",
          "text": [
            "\n"
          ]
        },
        {
          "output_type": "stream",
          "name": "stdout",
          "text": [
            "\n",
            "      Epoch    GPU_mem   box_loss   cls_loss   dfl_loss  Instances       Size\n"
          ]
        },
        {
          "output_type": "stream",
          "name": "stderr",
          "text": [
            "      20/50      2.18G      1.206     0.8689      1.396          8        640: 100%|██████████| 64/64 [00:26<00:00,  2.45it/s]\n",
            "                 Class     Images  Instances      Box(P          R      mAP50  mAP50-95): 100%|██████████| 11/11 [00:06<00:00,  1.61it/s]"
          ]
        },
        {
          "output_type": "stream",
          "name": "stdout",
          "text": [
            "                   all        347        369      0.873      0.759      0.842       0.49\n"
          ]
        },
        {
          "output_type": "stream",
          "name": "stderr",
          "text": [
            "\n"
          ]
        },
        {
          "output_type": "stream",
          "name": "stdout",
          "text": [
            "\n",
            "      Epoch    GPU_mem   box_loss   cls_loss   dfl_loss  Instances       Size\n"
          ]
        },
        {
          "output_type": "stream",
          "name": "stderr",
          "text": [
            "      21/50      2.17G      1.179      0.867      1.405          7        640: 100%|██████████| 64/64 [00:26<00:00,  2.42it/s]\n",
            "                 Class     Images  Instances      Box(P          R      mAP50  mAP50-95): 100%|██████████| 11/11 [00:05<00:00,  2.18it/s]"
          ]
        },
        {
          "output_type": "stream",
          "name": "stdout",
          "text": [
            "                   all        347        369      0.852      0.851      0.878      0.493\n"
          ]
        },
        {
          "output_type": "stream",
          "name": "stderr",
          "text": [
            "\n"
          ]
        },
        {
          "output_type": "stream",
          "name": "stdout",
          "text": [
            "\n",
            "      Epoch    GPU_mem   box_loss   cls_loss   dfl_loss  Instances       Size\n"
          ]
        },
        {
          "output_type": "stream",
          "name": "stderr",
          "text": [
            "      22/50      2.17G      1.185     0.8594      1.388          9        640: 100%|██████████| 64/64 [00:26<00:00,  2.42it/s]\n",
            "                 Class     Images  Instances      Box(P          R      mAP50  mAP50-95): 100%|██████████| 11/11 [00:05<00:00,  1.90it/s]"
          ]
        },
        {
          "output_type": "stream",
          "name": "stdout",
          "text": [
            "                   all        347        369      0.837      0.848      0.888      0.483\n"
          ]
        },
        {
          "output_type": "stream",
          "name": "stderr",
          "text": [
            "\n"
          ]
        },
        {
          "output_type": "stream",
          "name": "stdout",
          "text": [
            "\n",
            "      Epoch    GPU_mem   box_loss   cls_loss   dfl_loss  Instances       Size\n"
          ]
        },
        {
          "output_type": "stream",
          "name": "stderr",
          "text": [
            "      23/50      2.17G      1.155     0.8121      1.366         13        640: 100%|██████████| 64/64 [00:27<00:00,  2.35it/s]\n",
            "                 Class     Images  Instances      Box(P          R      mAP50  mAP50-95): 100%|██████████| 11/11 [00:05<00:00,  1.87it/s]"
          ]
        },
        {
          "output_type": "stream",
          "name": "stdout",
          "text": [
            "                   all        347        369      0.879      0.807      0.856      0.488\n"
          ]
        },
        {
          "output_type": "stream",
          "name": "stderr",
          "text": [
            "\n"
          ]
        },
        {
          "output_type": "stream",
          "name": "stdout",
          "text": [
            "\n",
            "      Epoch    GPU_mem   box_loss   cls_loss   dfl_loss  Instances       Size\n"
          ]
        },
        {
          "output_type": "stream",
          "name": "stderr",
          "text": [
            "      24/50      2.19G      1.164     0.8152      1.375         11        640: 100%|██████████| 64/64 [00:26<00:00,  2.43it/s]\n",
            "                 Class     Images  Instances      Box(P          R      mAP50  mAP50-95): 100%|██████████| 11/11 [00:05<00:00,  2.12it/s]"
          ]
        },
        {
          "output_type": "stream",
          "name": "stdout",
          "text": [
            "                   all        347        369      0.868       0.81      0.891       0.51\n"
          ]
        },
        {
          "output_type": "stream",
          "name": "stderr",
          "text": [
            "\n"
          ]
        },
        {
          "output_type": "stream",
          "name": "stdout",
          "text": [
            "\n",
            "      Epoch    GPU_mem   box_loss   cls_loss   dfl_loss  Instances       Size\n"
          ]
        },
        {
          "output_type": "stream",
          "name": "stderr",
          "text": [
            "      25/50      2.17G      1.155     0.7872      1.358         11        640: 100%|██████████| 64/64 [00:25<00:00,  2.47it/s]\n",
            "                 Class     Images  Instances      Box(P          R      mAP50  mAP50-95): 100%|██████████| 11/11 [00:06<00:00,  1.62it/s]"
          ]
        },
        {
          "output_type": "stream",
          "name": "stdout",
          "text": [
            "                   all        347        369      0.776      0.815      0.845      0.499\n"
          ]
        },
        {
          "output_type": "stream",
          "name": "stderr",
          "text": [
            "\n"
          ]
        },
        {
          "output_type": "stream",
          "name": "stdout",
          "text": [
            "\n",
            "      Epoch    GPU_mem   box_loss   cls_loss   dfl_loss  Instances       Size\n"
          ]
        },
        {
          "output_type": "stream",
          "name": "stderr",
          "text": [
            "      26/50      2.17G      1.133     0.7911      1.355         11        640: 100%|██████████| 64/64 [00:25<00:00,  2.49it/s]\n",
            "                 Class     Images  Instances      Box(P          R      mAP50  mAP50-95): 100%|██████████| 11/11 [00:05<00:00,  2.10it/s]"
          ]
        },
        {
          "output_type": "stream",
          "name": "stdout",
          "text": [
            "                   all        347        369      0.878      0.836      0.899      0.484\n"
          ]
        },
        {
          "output_type": "stream",
          "name": "stderr",
          "text": [
            "\n"
          ]
        },
        {
          "output_type": "stream",
          "name": "stdout",
          "text": [
            "\n",
            "      Epoch    GPU_mem   box_loss   cls_loss   dfl_loss  Instances       Size\n"
          ]
        },
        {
          "output_type": "stream",
          "name": "stderr",
          "text": [
            "      27/50      2.17G      1.121     0.7618      1.336         10        640: 100%|██████████| 64/64 [00:25<00:00,  2.49it/s]\n",
            "                 Class     Images  Instances      Box(P          R      mAP50  mAP50-95): 100%|██████████| 11/11 [00:06<00:00,  1.64it/s]"
          ]
        },
        {
          "output_type": "stream",
          "name": "stdout",
          "text": [
            "                   all        347        369      0.904      0.893      0.918      0.549\n"
          ]
        },
        {
          "output_type": "stream",
          "name": "stderr",
          "text": [
            "\n"
          ]
        },
        {
          "output_type": "stream",
          "name": "stdout",
          "text": [
            "\n",
            "      Epoch    GPU_mem   box_loss   cls_loss   dfl_loss  Instances       Size\n"
          ]
        },
        {
          "output_type": "stream",
          "name": "stderr",
          "text": [
            "      28/50      2.21G      1.109     0.7512       1.32         15        640: 100%|██████████| 64/64 [00:26<00:00,  2.42it/s]\n",
            "                 Class     Images  Instances      Box(P          R      mAP50  mAP50-95): 100%|██████████| 11/11 [00:05<00:00,  2.06it/s]"
          ]
        },
        {
          "output_type": "stream",
          "name": "stdout",
          "text": [
            "                   all        347        369      0.873      0.827       0.88      0.506\n"
          ]
        },
        {
          "output_type": "stream",
          "name": "stderr",
          "text": [
            "\n"
          ]
        },
        {
          "output_type": "stream",
          "name": "stdout",
          "text": [
            "\n",
            "      Epoch    GPU_mem   box_loss   cls_loss   dfl_loss  Instances       Size\n"
          ]
        },
        {
          "output_type": "stream",
          "name": "stderr",
          "text": [
            "      29/50      2.21G      1.092     0.7223      1.316          8        640: 100%|██████████| 64/64 [00:26<00:00,  2.42it/s]\n",
            "                 Class     Images  Instances      Box(P          R      mAP50  mAP50-95): 100%|██████████| 11/11 [00:05<00:00,  2.05it/s]"
          ]
        },
        {
          "output_type": "stream",
          "name": "stdout",
          "text": [
            "                   all        347        369      0.885      0.874      0.917      0.554\n"
          ]
        },
        {
          "output_type": "stream",
          "name": "stderr",
          "text": [
            "\n"
          ]
        },
        {
          "output_type": "stream",
          "name": "stdout",
          "text": [
            "\n",
            "      Epoch    GPU_mem   box_loss   cls_loss   dfl_loss  Instances       Size\n"
          ]
        },
        {
          "output_type": "stream",
          "name": "stderr",
          "text": [
            "      30/50      2.17G      1.093     0.7347       1.32         11        640: 100%|██████████| 64/64 [00:26<00:00,  2.42it/s]\n",
            "                 Class     Images  Instances      Box(P          R      mAP50  mAP50-95): 100%|██████████| 11/11 [00:05<00:00,  1.86it/s]\n"
          ]
        },
        {
          "output_type": "stream",
          "name": "stdout",
          "text": [
            "                   all        347        369      0.897      0.852      0.907      0.522\n",
            "\n",
            "      Epoch    GPU_mem   box_loss   cls_loss   dfl_loss  Instances       Size\n"
          ]
        },
        {
          "output_type": "stream",
          "name": "stderr",
          "text": [
            "      31/50      2.17G      1.103     0.7287      1.328         11        640: 100%|██████████| 64/64 [00:26<00:00,  2.44it/s]\n",
            "                 Class     Images  Instances      Box(P          R      mAP50  mAP50-95): 100%|██████████| 11/11 [00:05<00:00,  2.14it/s]"
          ]
        },
        {
          "output_type": "stream",
          "name": "stdout",
          "text": [
            "                   all        347        369      0.904      0.862       0.92      0.544\n"
          ]
        },
        {
          "output_type": "stream",
          "name": "stderr",
          "text": [
            "\n"
          ]
        },
        {
          "output_type": "stream",
          "name": "stdout",
          "text": [
            "\n",
            "      Epoch    GPU_mem   box_loss   cls_loss   dfl_loss  Instances       Size\n"
          ]
        },
        {
          "output_type": "stream",
          "name": "stderr",
          "text": [
            "      32/50      2.17G      1.087     0.7308       1.31         20        640: 100%|██████████| 64/64 [00:28<00:00,  2.28it/s]\n",
            "                 Class     Images  Instances      Box(P          R      mAP50  mAP50-95): 100%|██████████| 11/11 [00:06<00:00,  1.79it/s]"
          ]
        },
        {
          "output_type": "stream",
          "name": "stdout",
          "text": [
            "                   all        347        369      0.898      0.882      0.929      0.556\n"
          ]
        },
        {
          "output_type": "stream",
          "name": "stderr",
          "text": [
            "\n"
          ]
        },
        {
          "output_type": "stream",
          "name": "stdout",
          "text": [
            "\n",
            "      Epoch    GPU_mem   box_loss   cls_loss   dfl_loss  Instances       Size\n"
          ]
        },
        {
          "output_type": "stream",
          "name": "stderr",
          "text": [
            "      33/50      2.17G      1.048     0.6923      1.282          8        640: 100%|██████████| 64/64 [00:26<00:00,  2.42it/s]\n",
            "                 Class     Images  Instances      Box(P          R      mAP50  mAP50-95): 100%|██████████| 11/11 [00:05<00:00,  2.03it/s]"
          ]
        },
        {
          "output_type": "stream",
          "name": "stdout",
          "text": [
            "                   all        347        369      0.928      0.877      0.936      0.573\n"
          ]
        },
        {
          "output_type": "stream",
          "name": "stderr",
          "text": [
            "\n"
          ]
        },
        {
          "output_type": "stream",
          "name": "stdout",
          "text": [
            "\n",
            "      Epoch    GPU_mem   box_loss   cls_loss   dfl_loss  Instances       Size\n"
          ]
        },
        {
          "output_type": "stream",
          "name": "stderr",
          "text": [
            "      34/50      2.19G       1.05     0.6958      1.299         12        640: 100%|██████████| 64/64 [00:26<00:00,  2.41it/s]\n",
            "                 Class     Images  Instances      Box(P          R      mAP50  mAP50-95): 100%|██████████| 11/11 [00:04<00:00,  2.21it/s]"
          ]
        },
        {
          "output_type": "stream",
          "name": "stdout",
          "text": [
            "                   all        347        369      0.893      0.851      0.911      0.554\n"
          ]
        },
        {
          "output_type": "stream",
          "name": "stderr",
          "text": [
            "\n"
          ]
        },
        {
          "output_type": "stream",
          "name": "stdout",
          "text": [
            "\n",
            "      Epoch    GPU_mem   box_loss   cls_loss   dfl_loss  Instances       Size\n"
          ]
        },
        {
          "output_type": "stream",
          "name": "stderr",
          "text": [
            "      35/50      2.19G      1.052     0.6832      1.282         12        640: 100%|██████████| 64/64 [00:26<00:00,  2.42it/s]\n",
            "                 Class     Images  Instances      Box(P          R      mAP50  mAP50-95): 100%|██████████| 11/11 [00:06<00:00,  1.73it/s]"
          ]
        },
        {
          "output_type": "stream",
          "name": "stdout",
          "text": [
            "                   all        347        369      0.924      0.859      0.924      0.535\n"
          ]
        },
        {
          "output_type": "stream",
          "name": "stderr",
          "text": [
            "\n"
          ]
        },
        {
          "output_type": "stream",
          "name": "stdout",
          "text": [
            "\n",
            "      Epoch    GPU_mem   box_loss   cls_loss   dfl_loss  Instances       Size\n"
          ]
        },
        {
          "output_type": "stream",
          "name": "stderr",
          "text": [
            "      36/50      2.17G      1.012     0.6734      1.277         10        640: 100%|██████████| 64/64 [00:27<00:00,  2.35it/s]\n",
            "                 Class     Images  Instances      Box(P          R      mAP50  mAP50-95): 100%|██████████| 11/11 [00:05<00:00,  2.12it/s]"
          ]
        },
        {
          "output_type": "stream",
          "name": "stdout",
          "text": [
            "                   all        347        369      0.902      0.864      0.913      0.553\n"
          ]
        },
        {
          "output_type": "stream",
          "name": "stderr",
          "text": [
            "\n"
          ]
        },
        {
          "output_type": "stream",
          "name": "stdout",
          "text": [
            "\n",
            "      Epoch    GPU_mem   box_loss   cls_loss   dfl_loss  Instances       Size\n"
          ]
        },
        {
          "output_type": "stream",
          "name": "stderr",
          "text": [
            "      37/50      2.19G      1.027     0.6554      1.276         11        640: 100%|██████████| 64/64 [00:26<00:00,  2.45it/s]\n",
            "                 Class     Images  Instances      Box(P          R      mAP50  mAP50-95): 100%|██████████| 11/11 [00:06<00:00,  1.80it/s]"
          ]
        },
        {
          "output_type": "stream",
          "name": "stdout",
          "text": [
            "                   all        347        369      0.871      0.882      0.913      0.549\n"
          ]
        },
        {
          "output_type": "stream",
          "name": "stderr",
          "text": [
            "\n"
          ]
        },
        {
          "output_type": "stream",
          "name": "stdout",
          "text": [
            "\n",
            "      Epoch    GPU_mem   box_loss   cls_loss   dfl_loss  Instances       Size\n"
          ]
        },
        {
          "output_type": "stream",
          "name": "stderr",
          "text": [
            "      38/50      2.17G      1.021     0.6448      1.282          9        640: 100%|██████████| 64/64 [00:26<00:00,  2.39it/s]\n",
            "                 Class     Images  Instances      Box(P          R      mAP50  mAP50-95): 100%|██████████| 11/11 [00:05<00:00,  2.14it/s]"
          ]
        },
        {
          "output_type": "stream",
          "name": "stdout",
          "text": [
            "                   all        347        369      0.903      0.881      0.931      0.541\n"
          ]
        },
        {
          "output_type": "stream",
          "name": "stderr",
          "text": [
            "\n"
          ]
        },
        {
          "output_type": "stream",
          "name": "stdout",
          "text": [
            "\n",
            "      Epoch    GPU_mem   box_loss   cls_loss   dfl_loss  Instances       Size\n"
          ]
        },
        {
          "output_type": "stream",
          "name": "stderr",
          "text": [
            "      39/50      2.17G      0.994     0.6478      1.254          9        640: 100%|██████████| 64/64 [00:26<00:00,  2.44it/s]\n",
            "                 Class     Images  Instances      Box(P          R      mAP50  mAP50-95): 100%|██████████| 11/11 [00:06<00:00,  1.75it/s]"
          ]
        },
        {
          "output_type": "stream",
          "name": "stdout",
          "text": [
            "                   all        347        369      0.902      0.886      0.928      0.547\n"
          ]
        },
        {
          "output_type": "stream",
          "name": "stderr",
          "text": [
            "\n"
          ]
        },
        {
          "output_type": "stream",
          "name": "stdout",
          "text": [
            "\n",
            "      Epoch    GPU_mem   box_loss   cls_loss   dfl_loss  Instances       Size\n"
          ]
        },
        {
          "output_type": "stream",
          "name": "stderr",
          "text": [
            "      40/50      2.17G      0.986     0.6179      1.252          8        640: 100%|██████████| 64/64 [00:26<00:00,  2.42it/s]\n",
            "                 Class     Images  Instances      Box(P          R      mAP50  mAP50-95): 100%|██████████| 11/11 [00:05<00:00,  2.14it/s]"
          ]
        },
        {
          "output_type": "stream",
          "name": "stdout",
          "text": [
            "                   all        347        369      0.844      0.873      0.909      0.548\n"
          ]
        },
        {
          "output_type": "stream",
          "name": "stderr",
          "text": [
            "\n"
          ]
        },
        {
          "output_type": "stream",
          "name": "stdout",
          "text": [
            "Closing dataloader mosaic\n",
            "\u001b[34m\u001b[1malbumentations: \u001b[0mBlur(p=0.01, blur_limit=(3, 7)), MedianBlur(p=0.01, blur_limit=(3, 7)), ToGray(p=0.01, num_output_channels=3, method='weighted_average'), CLAHE(p=0.01, clip_limit=(1.0, 4.0), tile_grid_size=(8, 8))\n",
            "\n",
            "      Epoch    GPU_mem   box_loss   cls_loss   dfl_loss  Instances       Size\n"
          ]
        },
        {
          "output_type": "stream",
          "name": "stderr",
          "text": [
            "      41/50      2.17G     0.8897     0.5139      1.248          4        640: 100%|██████████| 64/64 [00:29<00:00,  2.20it/s]\n",
            "                 Class     Images  Instances      Box(P          R      mAP50  mAP50-95): 100%|██████████| 11/11 [00:05<00:00,  2.05it/s]"
          ]
        },
        {
          "output_type": "stream",
          "name": "stdout",
          "text": [
            "                   all        347        369      0.847      0.862      0.894      0.517\n"
          ]
        },
        {
          "output_type": "stream",
          "name": "stderr",
          "text": [
            "\n"
          ]
        },
        {
          "output_type": "stream",
          "name": "stdout",
          "text": [
            "\n",
            "      Epoch    GPU_mem   box_loss   cls_loss   dfl_loss  Instances       Size\n"
          ]
        },
        {
          "output_type": "stream",
          "name": "stderr",
          "text": [
            "      42/50      2.17G     0.8685     0.4817      1.246          4        640: 100%|██████████| 64/64 [00:25<00:00,  2.50it/s]\n",
            "                 Class     Images  Instances      Box(P          R      mAP50  mAP50-95): 100%|██████████| 11/11 [00:06<00:00,  1.76it/s]"
          ]
        },
        {
          "output_type": "stream",
          "name": "stdout",
          "text": [
            "                   all        347        369      0.935      0.848      0.927      0.526\n"
          ]
        },
        {
          "output_type": "stream",
          "name": "stderr",
          "text": [
            "\n"
          ]
        },
        {
          "output_type": "stream",
          "name": "stdout",
          "text": [
            "\n",
            "      Epoch    GPU_mem   box_loss   cls_loss   dfl_loss  Instances       Size\n"
          ]
        },
        {
          "output_type": "stream",
          "name": "stderr",
          "text": [
            "      43/50      2.17G     0.8389     0.4526      1.218          4        640: 100%|██████████| 64/64 [00:25<00:00,  2.50it/s]\n",
            "                 Class     Images  Instances      Box(P          R      mAP50  mAP50-95): 100%|██████████| 11/11 [00:05<00:00,  2.13it/s]"
          ]
        },
        {
          "output_type": "stream",
          "name": "stdout",
          "text": [
            "                   all        347        369      0.925      0.851      0.927      0.566\n"
          ]
        },
        {
          "output_type": "stream",
          "name": "stderr",
          "text": [
            "\n"
          ]
        },
        {
          "output_type": "stream",
          "name": "stdout",
          "text": [
            "\n",
            "      Epoch    GPU_mem   box_loss   cls_loss   dfl_loss  Instances       Size\n"
          ]
        },
        {
          "output_type": "stream",
          "name": "stderr",
          "text": [
            "      44/50      2.17G     0.8181     0.4411      1.191          4        640: 100%|██████████| 64/64 [00:25<00:00,  2.49it/s]\n",
            "                 Class     Images  Instances      Box(P          R      mAP50  mAP50-95): 100%|██████████| 11/11 [00:06<00:00,  1.80it/s]"
          ]
        },
        {
          "output_type": "stream",
          "name": "stdout",
          "text": [
            "                   all        347        369      0.938      0.848      0.932      0.571\n"
          ]
        },
        {
          "output_type": "stream",
          "name": "stderr",
          "text": [
            "\n"
          ]
        },
        {
          "output_type": "stream",
          "name": "stdout",
          "text": [
            "\n",
            "      Epoch    GPU_mem   box_loss   cls_loss   dfl_loss  Instances       Size\n"
          ]
        },
        {
          "output_type": "stream",
          "name": "stderr",
          "text": [
            "      45/50      2.17G     0.7965     0.4337      1.189          4        640: 100%|██████████| 64/64 [00:27<00:00,  2.34it/s]\n",
            "                 Class     Images  Instances      Box(P          R      mAP50  mAP50-95): 100%|██████████| 11/11 [00:05<00:00,  2.08it/s]"
          ]
        },
        {
          "output_type": "stream",
          "name": "stdout",
          "text": [
            "                   all        347        369      0.922      0.889      0.943      0.559\n"
          ]
        },
        {
          "output_type": "stream",
          "name": "stderr",
          "text": [
            "\n"
          ]
        },
        {
          "output_type": "stream",
          "name": "stdout",
          "text": [
            "\n",
            "      Epoch    GPU_mem   box_loss   cls_loss   dfl_loss  Instances       Size\n"
          ]
        },
        {
          "output_type": "stream",
          "name": "stderr",
          "text": [
            "      46/50      2.17G     0.7709     0.4212      1.169          4        640: 100%|██████████| 64/64 [00:25<00:00,  2.53it/s]\n",
            "                 Class     Images  Instances      Box(P          R      mAP50  mAP50-95): 100%|██████████| 11/11 [00:05<00:00,  1.88it/s]"
          ]
        },
        {
          "output_type": "stream",
          "name": "stdout",
          "text": [
            "                   all        347        369      0.947      0.864      0.944      0.575\n"
          ]
        },
        {
          "output_type": "stream",
          "name": "stderr",
          "text": [
            "\n"
          ]
        },
        {
          "output_type": "stream",
          "name": "stdout",
          "text": [
            "\n",
            "      Epoch    GPU_mem   box_loss   cls_loss   dfl_loss  Instances       Size\n"
          ]
        },
        {
          "output_type": "stream",
          "name": "stderr",
          "text": [
            "      47/50      2.17G     0.7647      0.414      1.171          4        640: 100%|██████████| 64/64 [00:25<00:00,  2.48it/s]\n",
            "                 Class     Images  Instances      Box(P          R      mAP50  mAP50-95): 100%|██████████| 11/11 [00:05<00:00,  1.95it/s]"
          ]
        },
        {
          "output_type": "stream",
          "name": "stdout",
          "text": [
            "                   all        347        369      0.932      0.886      0.946      0.569\n"
          ]
        },
        {
          "output_type": "stream",
          "name": "stderr",
          "text": [
            "\n"
          ]
        },
        {
          "output_type": "stream",
          "name": "stdout",
          "text": [
            "\n",
            "      Epoch    GPU_mem   box_loss   cls_loss   dfl_loss  Instances       Size\n"
          ]
        },
        {
          "output_type": "stream",
          "name": "stderr",
          "text": [
            "      48/50      2.17G     0.7489     0.4032      1.159          4        640: 100%|██████████| 64/64 [00:25<00:00,  2.51it/s]\n",
            "                 Class     Images  Instances      Box(P          R      mAP50  mAP50-95): 100%|██████████| 11/11 [00:04<00:00,  2.22it/s]"
          ]
        },
        {
          "output_type": "stream",
          "name": "stdout",
          "text": [
            "                   all        347        369      0.935      0.889      0.944      0.561\n"
          ]
        },
        {
          "output_type": "stream",
          "name": "stderr",
          "text": [
            "\n"
          ]
        },
        {
          "output_type": "stream",
          "name": "stdout",
          "text": [
            "\n",
            "      Epoch    GPU_mem   box_loss   cls_loss   dfl_loss  Instances       Size\n"
          ]
        },
        {
          "output_type": "stream",
          "name": "stderr",
          "text": [
            "      49/50      2.17G     0.7516     0.4104      1.169          4        640: 100%|██████████| 64/64 [00:24<00:00,  2.57it/s]\n",
            "                 Class     Images  Instances      Box(P          R      mAP50  mAP50-95): 100%|██████████| 11/11 [00:07<00:00,  1.55it/s]"
          ]
        },
        {
          "output_type": "stream",
          "name": "stdout",
          "text": [
            "                   all        347        369      0.967      0.862      0.942       0.56\n"
          ]
        },
        {
          "output_type": "stream",
          "name": "stderr",
          "text": [
            "\n"
          ]
        },
        {
          "output_type": "stream",
          "name": "stdout",
          "text": [
            "\n",
            "      Epoch    GPU_mem   box_loss   cls_loss   dfl_loss  Instances       Size\n"
          ]
        },
        {
          "output_type": "stream",
          "name": "stderr",
          "text": [
            "      50/50      2.17G     0.7293     0.3989      1.141          4        640: 100%|██████████| 64/64 [00:25<00:00,  2.55it/s]\n",
            "                 Class     Images  Instances      Box(P          R      mAP50  mAP50-95): 100%|██████████| 11/11 [00:04<00:00,  2.23it/s]"
          ]
        },
        {
          "output_type": "stream",
          "name": "stdout",
          "text": [
            "                   all        347        369      0.938      0.894      0.944      0.576\n"
          ]
        },
        {
          "output_type": "stream",
          "name": "stderr",
          "text": [
            "\n"
          ]
        },
        {
          "output_type": "stream",
          "name": "stdout",
          "text": [
            "\n",
            "50 epochs completed in 0.470 hours.\n",
            "Optimizer stripped from /content/results/drones_run/weights/last.pt, 6.2MB\n",
            "Optimizer stripped from /content/results/drones_run/weights/best.pt, 6.2MB\n",
            "\n",
            "Validating /content/results/drones_run/weights/best.pt...\n",
            "Ultralytics 8.3.75 🚀 Python-3.11.11 torch-2.5.1+cu124 CUDA:0 (Tesla T4, 15095MiB)\n",
            "Model summary (fused): 168 layers, 3,005,843 parameters, 0 gradients, 8.1 GFLOPs\n"
          ]
        },
        {
          "output_type": "stream",
          "name": "stderr",
          "text": [
            "                 Class     Images  Instances      Box(P          R      mAP50  mAP50-95): 100%|██████████| 11/11 [00:06<00:00,  1.65it/s]\n"
          ]
        },
        {
          "output_type": "stream",
          "name": "stdout",
          "text": [
            "                   all        347        369      0.938      0.894      0.944      0.576\n",
            "Speed: 0.2ms preprocess, 2.3ms inference, 0.0ms loss, 3.0ms postprocess per image\n",
            "Results saved to \u001b[1m/content/results/drones_run\u001b[0m\n"
          ]
        }
      ]
    },
    {
      "cell_type": "markdown",
      "source": [
        "###Running Inference"
      ],
      "metadata": {
        "id": "8oHK1CM93wlD"
      }
    },
    {
      "cell_type": "code",
      "source": [
        "from ultralytics import YOLO\n",
        "\n",
        "# Load the trained model\n",
        "model = YOLO('/content/results/drones_run/weights/best.pt')\n",
        "\n",
        "test_data_path = '/content/test_data/test_1.jpeg' #test image\n",
        "\n",
        "results = model(test_data_path)\n",
        "\n",
        "# Display detected objects (bounding boxes and confidence scores)\n",
        "for result in results:\n",
        "    for *box, conf, cls in result.boxes.data:\n",
        "        print(f\"Bounding box: {box}, Confidence: {conf:.2f}, Class: {cls}\")\n"
      ],
      "metadata": {
        "id": "e8cVFHDGMmWq",
        "colab": {
          "base_uri": "https://localhost:8080/"
        },
        "collapsed": true,
        "outputId": "a6585d21-137a-4755-cafe-9ee3fd275f74"
      },
      "execution_count": 10,
      "outputs": [
        {
          "output_type": "stream",
          "name": "stdout",
          "text": [
            "\n",
            "image 1/1 /content/test_data/test_1.jpeg: 640x480 1 drone, 36.7ms\n",
            "Speed: 3.4ms preprocess, 36.7ms inference, 1.4ms postprocess per image at shape (1, 3, 640, 480)\n",
            "Bounding box: [tensor(0., device='cuda:0'), tensor(1117.4432, device='cuda:0'), tensor(3006.7754, device='cuda:0'), tensor(3552.0210, device='cuda:0')], Confidence: 0.62, Class: 0.0\n"
          ]
        }
      ]
    },
    {
      "source": [
        "import os\n",
        "save_path = os.path.join('/content/test_data/detection', '_detection_test_1.jpeg')  #image\n",
        "\n",
        "result.save(filename=save_path)"
      ],
      "cell_type": "code",
      "metadata": {
        "colab": {
          "base_uri": "https://localhost:8080/",
          "height": 35
        },
        "id": "DkGY7eq79cEC",
        "outputId": "f09221c0-74fc-40e1-d501-a33260b82aa5"
      },
      "execution_count": 11,
      "outputs": [
        {
          "output_type": "execute_result",
          "data": {
            "text/plain": [
              "'/content/test_data/detection/_detection_test_1.jpeg'"
            ],
            "application/vnd.google.colaboratory.intrinsic+json": {
              "type": "string"
            }
          },
          "metadata": {},
          "execution_count": 11
        }
      ]
    },
    {
      "cell_type": "markdown",
      "source": [
        "###Exporting Model for Deployment"
      ],
      "metadata": {
        "id": "4xCCI2o--fJr"
      }
    },
    {
      "source": [
        "model.export(format=\"onnx\", dynamic=False, half=True)\n",
        "model.export()"
      ],
      "cell_type": "code",
      "metadata": {
        "colab": {
          "base_uri": "https://localhost:8080/",
          "height": 1000
        },
        "collapsed": true,
        "id": "VyUO1gLJ-_SZ",
        "outputId": "ccea61b5-97cd-4123-adb8-afcc1892bd36"
      },
      "execution_count": 29,
      "outputs": [
        {
          "output_type": "stream",
          "name": "stdout",
          "text": [
            "Ultralytics 8.3.75 🚀 Python-3.11.11 torch-2.5.1+cu124 CPU (Intel Xeon 2.00GHz)\n",
            "WARNING ⚠️ half=True only compatible with GPU export, i.e. use device=0\n",
            "\n",
            "\u001b[34m\u001b[1mPyTorch:\u001b[0m starting from '/content/results/drones_run3/weights/best.pt' with input shape (1, 3, 640, 640) BCHW and output shape(s) (1, 5, 8400) (6.0 MB)\n",
            "\u001b[31m\u001b[1mrequirements:\u001b[0m Ultralytics requirements ['onnx>=1.12.0', 'onnxslim', 'onnxruntime-gpu'] not found, attempting AutoUpdate...\n",
            "Collecting onnx>=1.12.0\n",
            "  Downloading onnx-1.17.0-cp311-cp311-manylinux_2_17_x86_64.manylinux2014_x86_64.whl.metadata (16 kB)\n",
            "Collecting onnxslim\n",
            "  Downloading onnxslim-0.1.48-py3-none-any.whl.metadata (4.6 kB)\n",
            "Collecting onnxruntime-gpu\n",
            "  Downloading onnxruntime_gpu-1.20.1-cp311-cp311-manylinux_2_27_x86_64.manylinux_2_28_x86_64.whl.metadata (4.5 kB)\n",
            "Requirement already satisfied: numpy>=1.20 in /usr/local/lib/python3.11/dist-packages (from onnx>=1.12.0) (1.26.4)\n",
            "Requirement already satisfied: protobuf>=3.20.2 in /usr/local/lib/python3.11/dist-packages (from onnx>=1.12.0) (4.25.6)\n",
            "Requirement already satisfied: sympy in /usr/local/lib/python3.11/dist-packages (from onnxslim) (1.13.1)\n",
            "Requirement already satisfied: packaging in /usr/local/lib/python3.11/dist-packages (from onnxslim) (24.2)\n",
            "Collecting coloredlogs (from onnxruntime-gpu)\n",
            "  Downloading coloredlogs-15.0.1-py2.py3-none-any.whl.metadata (12 kB)\n",
            "Requirement already satisfied: flatbuffers in /usr/local/lib/python3.11/dist-packages (from onnxruntime-gpu) (25.2.10)\n",
            "Collecting humanfriendly>=9.1 (from coloredlogs->onnxruntime-gpu)\n",
            "  Downloading humanfriendly-10.0-py2.py3-none-any.whl.metadata (9.2 kB)\n",
            "Requirement already satisfied: mpmath<1.4,>=1.1.0 in /usr/local/lib/python3.11/dist-packages (from sympy->onnxslim) (1.3.0)\n",
            "Downloading onnx-1.17.0-cp311-cp311-manylinux_2_17_x86_64.manylinux2014_x86_64.whl (16.0 MB)\n",
            "   ━━━━━━━━━━━━━━━━━━━━━━━━━━━━━━━━━━━━━━━━ 16.0/16.0 MB 215.3 MB/s eta 0:00:00\n",
            "Downloading onnxslim-0.1.48-py3-none-any.whl (142 kB)\n",
            "   ━━━━━━━━━━━━━━━━━━━━━━━━━━━━━━━━━━━━━━━━ 142.9/142.9 kB 227.5 MB/s eta 0:00:00\n",
            "Downloading onnxruntime_gpu-1.20.1-cp311-cp311-manylinux_2_27_x86_64.manylinux_2_28_x86_64.whl (291.5 MB)\n",
            "   ━━━━━━━━━━━━━━━━━━━━━━━━━━━━━━━━━━━━━━━━ 291.5/291.5 MB 263.8 MB/s eta 0:00:00\n",
            "Downloading coloredlogs-15.0.1-py2.py3-none-any.whl (46 kB)\n",
            "   ━━━━━━━━━━━━━━━━━━━━━━━━━━━━━━━━━━━━━━━━ 46.0/46.0 kB 173.5 MB/s eta 0:00:00\n",
            "Downloading humanfriendly-10.0-py2.py3-none-any.whl (86 kB)\n",
            "   ━━━━━━━━━━━━━━━━━━━━━━━━━━━━━━━━━━━━━━━━ 86.8/86.8 kB 310.5 MB/s eta 0:00:00\n",
            "Installing collected packages: onnx, humanfriendly, onnxslim, coloredlogs, onnxruntime-gpu\n",
            "Successfully installed coloredlogs-15.0.1 humanfriendly-10.0 onnx-1.17.0 onnxruntime-gpu-1.20.1 onnxslim-0.1.48\n",
            "\n",
            "\u001b[31m\u001b[1mrequirements:\u001b[0m AutoUpdate success ✅ 21.7s, installed 3 packages: ['onnx>=1.12.0', 'onnxslim', 'onnxruntime-gpu']\n",
            "\u001b[31m\u001b[1mrequirements:\u001b[0m ⚠️ \u001b[1mRestart runtime or rerun command for updates to take effect\u001b[0m\n",
            "\n",
            "\n",
            "\u001b[34m\u001b[1mONNX:\u001b[0m starting export with onnx 1.17.0 opset 19...\n",
            "\u001b[34m\u001b[1mONNX:\u001b[0m slimming with onnxslim 0.1.48...\n",
            "\u001b[34m\u001b[1mONNX:\u001b[0m export success ✅ 22.8s, saved as '/content/results/drones_run3/weights/best.onnx' (11.7 MB)\n",
            "\n",
            "Export complete (24.5s)\n",
            "Results saved to \u001b[1m/content/results/drones_run3/weights\u001b[0m\n",
            "Predict:         yolo predict task=detect model=/content/results/drones_run3/weights/best.onnx imgsz=640  \n",
            "Validate:        yolo val task=detect model=/content/results/drones_run3/weights/best.onnx imgsz=640 data=/content/drones/drone_dataset/data.yaml  \n",
            "Visualize:       https://netron.app\n",
            "Ultralytics 8.3.75 🚀 Python-3.11.11 torch-2.5.1+cu124 CPU (Intel Xeon 2.00GHz)\n",
            "\n",
            "\u001b[34m\u001b[1mPyTorch:\u001b[0m starting from '/content/results/drones_run3/weights/best.pt' with input shape (1, 3, 640, 640) BCHW and output shape(s) (1, 5, 8400) (6.0 MB)\n",
            "\n",
            "\u001b[34m\u001b[1mTorchScript:\u001b[0m starting export with torch 2.5.1+cu124...\n",
            "\u001b[34m\u001b[1mTorchScript:\u001b[0m export success ✅ 1.9s, saved as '/content/results/drones_run3/weights/best.torchscript' (11.9 MB)\n",
            "\n",
            "Export complete (2.2s)\n",
            "Results saved to \u001b[1m/content/results/drones_run3/weights\u001b[0m\n",
            "Predict:         yolo predict task=detect model=/content/results/drones_run3/weights/best.torchscript imgsz=640  \n",
            "Validate:        yolo val task=detect model=/content/results/drones_run3/weights/best.torchscript imgsz=640 data=/content/drones/drone_dataset/data.yaml  \n",
            "Visualize:       https://netron.app\n"
          ]
        },
        {
          "output_type": "execute_result",
          "data": {
            "text/plain": [
              "'/content/results/drones_run3/weights/best.torchscript'"
            ],
            "application/vnd.google.colaboratory.intrinsic+json": {
              "type": "string"
            }
          },
          "metadata": {},
          "execution_count": 29
        }
      ]
    },
    {
      "cell_type": "markdown",
      "source": [
        "##Refrences:"
      ],
      "metadata": {
        "id": "Z6JGFpwprKoI"
      }
    },
    {
      "cell_type": "markdown",
      "source": [
        "- Drone Dataset: [Kaggle - Drone Detection Dataset](https://www.kaggle.com/datasets/muki2003/yolo-drone-detection-dataset?resource=download)\n",
        "\n",
        "- YOLO Training Docs: [YOLO Training Guide](https://docs.ultralytics.com/modes/train/#resuming-interrupted-trainings)\n",
        "- YOLO Predict Docs: [YOLO Predict Guide](https://docs.ultralytics.com/modes/predict/#inference-sources)"
      ],
      "metadata": {
        "id": "eqtvlr31rW35"
      }
    }
  ]
}